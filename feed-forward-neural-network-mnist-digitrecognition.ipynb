{
 "cells": [
  {
   "cell_type": "code",
   "execution_count": 1,
   "id": "a2f59753",
   "metadata": {
    "_cell_guid": "b1076dfc-b9ad-4769-8c92-a6c4dae69d19",
    "_uuid": "8f2839f25d086af736a60e9eeb907d3b93b6e0e5",
    "execution": {
     "iopub.execute_input": "2022-05-04T12:30:31.199109Z",
     "iopub.status.busy": "2022-05-04T12:30:31.197609Z",
     "iopub.status.idle": "2022-05-04T12:30:31.210909Z",
     "shell.execute_reply": "2022-05-04T12:30:31.211489Z",
     "shell.execute_reply.started": "2022-05-04T12:23:59.133553Z"
    },
    "papermill": {
     "duration": 0.042098,
     "end_time": "2022-05-04T12:30:31.211772",
     "exception": false,
     "start_time": "2022-05-04T12:30:31.169674",
     "status": "completed"
    },
    "tags": []
   },
   "outputs": [
    {
     "name": "stdout",
     "output_type": "stream",
     "text": [
      "/kaggle/input/digit-recognizer/sample_submission.csv\n",
      "/kaggle/input/digit-recognizer/train.csv\n",
      "/kaggle/input/digit-recognizer/test.csv\n"
     ]
    }
   ],
   "source": [
    "# This Python 3 environment comes with many helpful analytics libraries installed\n",
    "# It is defined by the kaggle/python Docker image: https://github.com/kaggle/docker-python\n",
    "# For example, here's several helpful packages to load\n",
    "\n",
    "import numpy as np # linear algebra\n",
    "import pandas as pd # data processing, CSV file I/O (e.g. pd.read_csv)\n",
    "\n",
    "# Input data files are available in the read-only \"../input/\" directory\n",
    "# For example, running this (by clicking run or pressing Shift+Enter) will list all files under the input directory\n",
    "\n",
    "import os\n",
    "for dirname, _, filenames in os.walk('/kaggle/input'):\n",
    "    for filename in filenames:\n",
    "        print(os.path.join(dirname, filename))\n",
    "\n",
    "# You can write up to 20GB to the current directory (/kaggle/working/) that gets preserved as output when you create a version using \"Save & Run All\" \n",
    "# You can also write temporary files to /kaggle/temp/, but they won't be saved outside of the current session"
   ]
  },
  {
   "cell_type": "code",
   "execution_count": 2,
   "id": "098f4d07",
   "metadata": {
    "execution": {
     "iopub.execute_input": "2022-05-04T12:30:31.260026Z",
     "iopub.status.busy": "2022-05-04T12:30:31.259235Z",
     "iopub.status.idle": "2022-05-04T12:30:36.344057Z",
     "shell.execute_reply": "2022-05-04T12:30:36.343437Z",
     "shell.execute_reply.started": "2022-05-04T12:24:01.748136Z"
    },
    "papermill": {
     "duration": 5.109256,
     "end_time": "2022-05-04T12:30:36.344191",
     "exception": false,
     "start_time": "2022-05-04T12:30:31.234935",
     "status": "completed"
    },
    "tags": []
   },
   "outputs": [],
   "source": [
    "from tensorflow import keras #we are going to code using keras\n",
    "from keras.models import Sequential, Model #we can use Sequential or Model to define model\n",
    "from keras.layers import Dense, BatchNormalization, Activation, Input #Importing layers which we will use in the model\n",
    "from keras.utils.np_utils import to_categorical #for encoding target labels\n",
    "from keras.callbacks import ReduceLROnPlateau #this will allow learning rate to be changed during training"
   ]
  },
  {
   "cell_type": "code",
   "execution_count": 3,
   "id": "8f7f51e5",
   "metadata": {
    "execution": {
     "iopub.execute_input": "2022-05-04T12:30:36.393850Z",
     "iopub.status.busy": "2022-05-04T12:30:36.393205Z",
     "iopub.status.idle": "2022-05-04T12:30:37.093934Z",
     "shell.execute_reply": "2022-05-04T12:30:37.093423Z",
     "shell.execute_reply.started": "2022-05-04T12:24:08.240124Z"
    },
    "papermill": {
     "duration": 0.727581,
     "end_time": "2022-05-04T12:30:37.094073",
     "exception": false,
     "start_time": "2022-05-04T12:30:36.366492",
     "status": "completed"
    },
    "tags": []
   },
   "outputs": [],
   "source": [
    "import numpy as np # linear algebra\n",
    "import pandas as pd\n",
    "from sklearn.ensemble import RandomForestClassifier\n",
    "from sklearn.model_selection import train_test_split\n",
    "from sklearn import metrics\n",
    "\n",
    "import numpy as np\n",
    "import pandas as pd\n",
    "\n",
    "import operator\n",
    "import matplotlib.pyplot as plt"
   ]
  },
  {
   "cell_type": "code",
   "execution_count": 4,
   "id": "d3774e45",
   "metadata": {
    "execution": {
     "iopub.execute_input": "2022-05-04T12:30:37.142512Z",
     "iopub.status.busy": "2022-05-04T12:30:37.142000Z",
     "iopub.status.idle": "2022-05-04T12:30:37.145378Z",
     "shell.execute_reply": "2022-05-04T12:30:37.144923Z",
     "shell.execute_reply.started": "2022-05-04T12:24:09.104450Z"
    },
    "papermill": {
     "duration": 0.028791,
     "end_time": "2022-05-04T12:30:37.145488",
     "exception": false,
     "start_time": "2022-05-04T12:30:37.116697",
     "status": "completed"
    },
    "tags": []
   },
   "outputs": [],
   "source": [
    "import tensorflow as tf"
   ]
  },
  {
   "cell_type": "code",
   "execution_count": 5,
   "id": "8301036c",
   "metadata": {
    "execution": {
     "iopub.execute_input": "2022-05-04T12:30:37.193522Z",
     "iopub.status.busy": "2022-05-04T12:30:37.191951Z",
     "iopub.status.idle": "2022-05-04T12:30:37.194151Z",
     "shell.execute_reply": "2022-05-04T12:30:37.194557Z",
     "shell.execute_reply.started": "2022-05-04T12:24:09.405952Z"
    },
    "papermill": {
     "duration": 0.027712,
     "end_time": "2022-05-04T12:30:37.194698",
     "exception": false,
     "start_time": "2022-05-04T12:30:37.166986",
     "status": "completed"
    },
    "tags": []
   },
   "outputs": [],
   "source": [
    "from tensorflow import keras"
   ]
  },
  {
   "cell_type": "code",
   "execution_count": 6,
   "id": "1483edb0",
   "metadata": {
    "execution": {
     "iopub.execute_input": "2022-05-04T12:30:37.242560Z",
     "iopub.status.busy": "2022-05-04T12:30:37.241035Z",
     "iopub.status.idle": "2022-05-04T12:30:37.243191Z",
     "shell.execute_reply": "2022-05-04T12:30:37.243584Z",
     "shell.execute_reply.started": "2022-05-04T12:24:10.245523Z"
    },
    "papermill": {
     "duration": 0.027466,
     "end_time": "2022-05-04T12:30:37.243724",
     "exception": false,
     "start_time": "2022-05-04T12:30:37.216258",
     "status": "completed"
    },
    "tags": []
   },
   "outputs": [],
   "source": [
    "from keras.models import Sequential\n",
    "from keras.models import Model\n"
   ]
  },
  {
   "cell_type": "code",
   "execution_count": 7,
   "id": "9eb3e96e",
   "metadata": {
    "execution": {
     "iopub.execute_input": "2022-05-04T12:30:37.292304Z",
     "iopub.status.busy": "2022-05-04T12:30:37.290779Z",
     "iopub.status.idle": "2022-05-04T12:30:37.292905Z",
     "shell.execute_reply": "2022-05-04T12:30:37.293315Z",
     "shell.execute_reply.started": "2022-05-04T12:24:11.026086Z"
    },
    "papermill": {
     "duration": 0.027928,
     "end_time": "2022-05-04T12:30:37.293428",
     "exception": false,
     "start_time": "2022-05-04T12:30:37.265500",
     "status": "completed"
    },
    "tags": []
   },
   "outputs": [],
   "source": [
    "from keras.layers import Dense\n",
    "from keras.layers import BatchNormalization\n",
    "from keras.layers import Activation\n",
    "from keras.layers import Input\n",
    "\n",
    "from keras.utils.np_utils import to_categorical\n"
   ]
  },
  {
   "cell_type": "code",
   "execution_count": 8,
   "id": "e60b87d0",
   "metadata": {
    "execution": {
     "iopub.execute_input": "2022-05-04T12:30:37.341836Z",
     "iopub.status.busy": "2022-05-04T12:30:37.341002Z",
     "iopub.status.idle": "2022-05-04T12:30:37.342661Z",
     "shell.execute_reply": "2022-05-04T12:30:37.343132Z",
     "shell.execute_reply.started": "2022-05-04T12:24:11.741118Z"
    },
    "papermill": {
     "duration": 0.028297,
     "end_time": "2022-05-04T12:30:37.343255",
     "exception": false,
     "start_time": "2022-05-04T12:30:37.314958",
     "status": "completed"
    },
    "tags": []
   },
   "outputs": [],
   "source": [
    "from keras.callbacks import ReduceLROnPlateau"
   ]
  },
  {
   "cell_type": "code",
   "execution_count": 9,
   "id": "ba56e876",
   "metadata": {
    "execution": {
     "iopub.execute_input": "2022-05-04T12:30:37.390539Z",
     "iopub.status.busy": "2022-05-04T12:30:37.389805Z",
     "iopub.status.idle": "2022-05-04T12:30:40.364843Z",
     "shell.execute_reply": "2022-05-04T12:30:40.364336Z",
     "shell.execute_reply.started": "2022-05-04T12:24:12.441159Z"
    },
    "papermill": {
     "duration": 3.000398,
     "end_time": "2022-05-04T12:30:40.364987",
     "exception": false,
     "start_time": "2022-05-04T12:30:37.364589",
     "status": "completed"
    },
    "tags": []
   },
   "outputs": [],
   "source": [
    "train = pd.read_csv(\"../input/digit-recognizer/train.csv\",header=\"infer\")"
   ]
  },
  {
   "cell_type": "code",
   "execution_count": 10,
   "id": "59557e2a",
   "metadata": {
    "execution": {
     "iopub.execute_input": "2022-05-04T12:30:40.413335Z",
     "iopub.status.busy": "2022-05-04T12:30:40.412617Z",
     "iopub.status.idle": "2022-05-04T12:30:42.183374Z",
     "shell.execute_reply": "2022-05-04T12:30:42.182888Z",
     "shell.execute_reply.started": "2022-05-04T12:24:15.624393Z"
    },
    "papermill": {
     "duration": 1.796117,
     "end_time": "2022-05-04T12:30:42.183507",
     "exception": false,
     "start_time": "2022-05-04T12:30:40.387390",
     "status": "completed"
    },
    "tags": []
   },
   "outputs": [],
   "source": [
    "test = pd.read_csv(\"../input/digit-recognizer/test.csv\",header=\"infer\")"
   ]
  },
  {
   "cell_type": "code",
   "execution_count": 11,
   "id": "5aaa353a",
   "metadata": {
    "execution": {
     "iopub.execute_input": "2022-05-04T12:30:42.239618Z",
     "iopub.status.busy": "2022-05-04T12:30:42.239032Z",
     "iopub.status.idle": "2022-05-04T12:30:42.255474Z",
     "shell.execute_reply": "2022-05-04T12:30:42.255907Z",
     "shell.execute_reply.started": "2022-05-04T12:24:17.408295Z"
    },
    "papermill": {
     "duration": 0.050254,
     "end_time": "2022-05-04T12:30:42.256032",
     "exception": false,
     "start_time": "2022-05-04T12:30:42.205778",
     "status": "completed"
    },
    "tags": []
   },
   "outputs": [
    {
     "data": {
      "text/html": [
       "<div>\n",
       "<style scoped>\n",
       "    .dataframe tbody tr th:only-of-type {\n",
       "        vertical-align: middle;\n",
       "    }\n",
       "\n",
       "    .dataframe tbody tr th {\n",
       "        vertical-align: top;\n",
       "    }\n",
       "\n",
       "    .dataframe thead th {\n",
       "        text-align: right;\n",
       "    }\n",
       "</style>\n",
       "<table border=\"1\" class=\"dataframe\">\n",
       "  <thead>\n",
       "    <tr style=\"text-align: right;\">\n",
       "      <th></th>\n",
       "      <th>label</th>\n",
       "      <th>pixel0</th>\n",
       "      <th>pixel1</th>\n",
       "      <th>pixel2</th>\n",
       "      <th>pixel3</th>\n",
       "      <th>pixel4</th>\n",
       "      <th>pixel5</th>\n",
       "      <th>pixel6</th>\n",
       "      <th>pixel7</th>\n",
       "      <th>pixel8</th>\n",
       "      <th>...</th>\n",
       "      <th>pixel774</th>\n",
       "      <th>pixel775</th>\n",
       "      <th>pixel776</th>\n",
       "      <th>pixel777</th>\n",
       "      <th>pixel778</th>\n",
       "      <th>pixel779</th>\n",
       "      <th>pixel780</th>\n",
       "      <th>pixel781</th>\n",
       "      <th>pixel782</th>\n",
       "      <th>pixel783</th>\n",
       "    </tr>\n",
       "  </thead>\n",
       "  <tbody>\n",
       "    <tr>\n",
       "      <th>35776</th>\n",
       "      <td>3</td>\n",
       "      <td>0</td>\n",
       "      <td>0</td>\n",
       "      <td>0</td>\n",
       "      <td>0</td>\n",
       "      <td>0</td>\n",
       "      <td>0</td>\n",
       "      <td>0</td>\n",
       "      <td>0</td>\n",
       "      <td>0</td>\n",
       "      <td>...</td>\n",
       "      <td>0</td>\n",
       "      <td>0</td>\n",
       "      <td>0</td>\n",
       "      <td>0</td>\n",
       "      <td>0</td>\n",
       "      <td>0</td>\n",
       "      <td>0</td>\n",
       "      <td>0</td>\n",
       "      <td>0</td>\n",
       "      <td>0</td>\n",
       "    </tr>\n",
       "    <tr>\n",
       "      <th>1748</th>\n",
       "      <td>8</td>\n",
       "      <td>0</td>\n",
       "      <td>0</td>\n",
       "      <td>0</td>\n",
       "      <td>0</td>\n",
       "      <td>0</td>\n",
       "      <td>0</td>\n",
       "      <td>0</td>\n",
       "      <td>0</td>\n",
       "      <td>0</td>\n",
       "      <td>...</td>\n",
       "      <td>0</td>\n",
       "      <td>0</td>\n",
       "      <td>0</td>\n",
       "      <td>0</td>\n",
       "      <td>0</td>\n",
       "      <td>0</td>\n",
       "      <td>0</td>\n",
       "      <td>0</td>\n",
       "      <td>0</td>\n",
       "      <td>0</td>\n",
       "    </tr>\n",
       "    <tr>\n",
       "      <th>14797</th>\n",
       "      <td>4</td>\n",
       "      <td>0</td>\n",
       "      <td>0</td>\n",
       "      <td>0</td>\n",
       "      <td>0</td>\n",
       "      <td>0</td>\n",
       "      <td>0</td>\n",
       "      <td>0</td>\n",
       "      <td>0</td>\n",
       "      <td>0</td>\n",
       "      <td>...</td>\n",
       "      <td>0</td>\n",
       "      <td>0</td>\n",
       "      <td>0</td>\n",
       "      <td>0</td>\n",
       "      <td>0</td>\n",
       "      <td>0</td>\n",
       "      <td>0</td>\n",
       "      <td>0</td>\n",
       "      <td>0</td>\n",
       "      <td>0</td>\n",
       "    </tr>\n",
       "    <tr>\n",
       "      <th>5052</th>\n",
       "      <td>4</td>\n",
       "      <td>0</td>\n",
       "      <td>0</td>\n",
       "      <td>0</td>\n",
       "      <td>0</td>\n",
       "      <td>0</td>\n",
       "      <td>0</td>\n",
       "      <td>0</td>\n",
       "      <td>0</td>\n",
       "      <td>0</td>\n",
       "      <td>...</td>\n",
       "      <td>0</td>\n",
       "      <td>0</td>\n",
       "      <td>0</td>\n",
       "      <td>0</td>\n",
       "      <td>0</td>\n",
       "      <td>0</td>\n",
       "      <td>0</td>\n",
       "      <td>0</td>\n",
       "      <td>0</td>\n",
       "      <td>0</td>\n",
       "    </tr>\n",
       "    <tr>\n",
       "      <th>10205</th>\n",
       "      <td>4</td>\n",
       "      <td>0</td>\n",
       "      <td>0</td>\n",
       "      <td>0</td>\n",
       "      <td>0</td>\n",
       "      <td>0</td>\n",
       "      <td>0</td>\n",
       "      <td>0</td>\n",
       "      <td>0</td>\n",
       "      <td>0</td>\n",
       "      <td>...</td>\n",
       "      <td>0</td>\n",
       "      <td>0</td>\n",
       "      <td>0</td>\n",
       "      <td>0</td>\n",
       "      <td>0</td>\n",
       "      <td>0</td>\n",
       "      <td>0</td>\n",
       "      <td>0</td>\n",
       "      <td>0</td>\n",
       "      <td>0</td>\n",
       "    </tr>\n",
       "  </tbody>\n",
       "</table>\n",
       "<p>5 rows × 785 columns</p>\n",
       "</div>"
      ],
      "text/plain": [
       "       label  pixel0  pixel1  pixel2  pixel3  pixel4  pixel5  pixel6  pixel7  \\\n",
       "35776      3       0       0       0       0       0       0       0       0   \n",
       "1748       8       0       0       0       0       0       0       0       0   \n",
       "14797      4       0       0       0       0       0       0       0       0   \n",
       "5052       4       0       0       0       0       0       0       0       0   \n",
       "10205      4       0       0       0       0       0       0       0       0   \n",
       "\n",
       "       pixel8  ...  pixel774  pixel775  pixel776  pixel777  pixel778  \\\n",
       "35776       0  ...         0         0         0         0         0   \n",
       "1748        0  ...         0         0         0         0         0   \n",
       "14797       0  ...         0         0         0         0         0   \n",
       "5052        0  ...         0         0         0         0         0   \n",
       "10205       0  ...         0         0         0         0         0   \n",
       "\n",
       "       pixel779  pixel780  pixel781  pixel782  pixel783  \n",
       "35776         0         0         0         0         0  \n",
       "1748          0         0         0         0         0  \n",
       "14797         0         0         0         0         0  \n",
       "5052          0         0         0         0         0  \n",
       "10205         0         0         0         0         0  \n",
       "\n",
       "[5 rows x 785 columns]"
      ]
     },
     "execution_count": 11,
     "metadata": {},
     "output_type": "execute_result"
    }
   ],
   "source": [
    "train.sample(5)"
   ]
  },
  {
   "cell_type": "code",
   "execution_count": 12,
   "id": "424d4877",
   "metadata": {
    "execution": {
     "iopub.execute_input": "2022-05-04T12:30:42.305839Z",
     "iopub.status.busy": "2022-05-04T12:30:42.304462Z",
     "iopub.status.idle": "2022-05-04T12:30:42.317633Z",
     "shell.execute_reply": "2022-05-04T12:30:42.318066Z",
     "shell.execute_reply.started": "2022-05-04T12:24:17.438957Z"
    },
    "papermill": {
     "duration": 0.03979,
     "end_time": "2022-05-04T12:30:42.318183",
     "exception": false,
     "start_time": "2022-05-04T12:30:42.278393",
     "status": "completed"
    },
    "tags": []
   },
   "outputs": [
    {
     "data": {
      "text/html": [
       "<div>\n",
       "<style scoped>\n",
       "    .dataframe tbody tr th:only-of-type {\n",
       "        vertical-align: middle;\n",
       "    }\n",
       "\n",
       "    .dataframe tbody tr th {\n",
       "        vertical-align: top;\n",
       "    }\n",
       "\n",
       "    .dataframe thead th {\n",
       "        text-align: right;\n",
       "    }\n",
       "</style>\n",
       "<table border=\"1\" class=\"dataframe\">\n",
       "  <thead>\n",
       "    <tr style=\"text-align: right;\">\n",
       "      <th></th>\n",
       "      <th>pixel0</th>\n",
       "      <th>pixel1</th>\n",
       "      <th>pixel2</th>\n",
       "      <th>pixel3</th>\n",
       "      <th>pixel4</th>\n",
       "      <th>pixel5</th>\n",
       "      <th>pixel6</th>\n",
       "      <th>pixel7</th>\n",
       "      <th>pixel8</th>\n",
       "      <th>pixel9</th>\n",
       "      <th>...</th>\n",
       "      <th>pixel774</th>\n",
       "      <th>pixel775</th>\n",
       "      <th>pixel776</th>\n",
       "      <th>pixel777</th>\n",
       "      <th>pixel778</th>\n",
       "      <th>pixel779</th>\n",
       "      <th>pixel780</th>\n",
       "      <th>pixel781</th>\n",
       "      <th>pixel782</th>\n",
       "      <th>pixel783</th>\n",
       "    </tr>\n",
       "  </thead>\n",
       "  <tbody>\n",
       "    <tr>\n",
       "      <th>2116</th>\n",
       "      <td>0</td>\n",
       "      <td>0</td>\n",
       "      <td>0</td>\n",
       "      <td>0</td>\n",
       "      <td>0</td>\n",
       "      <td>0</td>\n",
       "      <td>0</td>\n",
       "      <td>0</td>\n",
       "      <td>0</td>\n",
       "      <td>0</td>\n",
       "      <td>...</td>\n",
       "      <td>0</td>\n",
       "      <td>0</td>\n",
       "      <td>0</td>\n",
       "      <td>0</td>\n",
       "      <td>0</td>\n",
       "      <td>0</td>\n",
       "      <td>0</td>\n",
       "      <td>0</td>\n",
       "      <td>0</td>\n",
       "      <td>0</td>\n",
       "    </tr>\n",
       "    <tr>\n",
       "      <th>16165</th>\n",
       "      <td>0</td>\n",
       "      <td>0</td>\n",
       "      <td>0</td>\n",
       "      <td>0</td>\n",
       "      <td>0</td>\n",
       "      <td>0</td>\n",
       "      <td>0</td>\n",
       "      <td>0</td>\n",
       "      <td>0</td>\n",
       "      <td>0</td>\n",
       "      <td>...</td>\n",
       "      <td>0</td>\n",
       "      <td>0</td>\n",
       "      <td>0</td>\n",
       "      <td>0</td>\n",
       "      <td>0</td>\n",
       "      <td>0</td>\n",
       "      <td>0</td>\n",
       "      <td>0</td>\n",
       "      <td>0</td>\n",
       "      <td>0</td>\n",
       "    </tr>\n",
       "    <tr>\n",
       "      <th>3064</th>\n",
       "      <td>0</td>\n",
       "      <td>0</td>\n",
       "      <td>0</td>\n",
       "      <td>0</td>\n",
       "      <td>0</td>\n",
       "      <td>0</td>\n",
       "      <td>0</td>\n",
       "      <td>0</td>\n",
       "      <td>0</td>\n",
       "      <td>0</td>\n",
       "      <td>...</td>\n",
       "      <td>0</td>\n",
       "      <td>0</td>\n",
       "      <td>0</td>\n",
       "      <td>0</td>\n",
       "      <td>0</td>\n",
       "      <td>0</td>\n",
       "      <td>0</td>\n",
       "      <td>0</td>\n",
       "      <td>0</td>\n",
       "      <td>0</td>\n",
       "    </tr>\n",
       "    <tr>\n",
       "      <th>25841</th>\n",
       "      <td>0</td>\n",
       "      <td>0</td>\n",
       "      <td>0</td>\n",
       "      <td>0</td>\n",
       "      <td>0</td>\n",
       "      <td>0</td>\n",
       "      <td>0</td>\n",
       "      <td>0</td>\n",
       "      <td>0</td>\n",
       "      <td>0</td>\n",
       "      <td>...</td>\n",
       "      <td>0</td>\n",
       "      <td>0</td>\n",
       "      <td>0</td>\n",
       "      <td>0</td>\n",
       "      <td>0</td>\n",
       "      <td>0</td>\n",
       "      <td>0</td>\n",
       "      <td>0</td>\n",
       "      <td>0</td>\n",
       "      <td>0</td>\n",
       "    </tr>\n",
       "    <tr>\n",
       "      <th>14190</th>\n",
       "      <td>0</td>\n",
       "      <td>0</td>\n",
       "      <td>0</td>\n",
       "      <td>0</td>\n",
       "      <td>0</td>\n",
       "      <td>0</td>\n",
       "      <td>0</td>\n",
       "      <td>0</td>\n",
       "      <td>0</td>\n",
       "      <td>0</td>\n",
       "      <td>...</td>\n",
       "      <td>0</td>\n",
       "      <td>0</td>\n",
       "      <td>0</td>\n",
       "      <td>0</td>\n",
       "      <td>0</td>\n",
       "      <td>0</td>\n",
       "      <td>0</td>\n",
       "      <td>0</td>\n",
       "      <td>0</td>\n",
       "      <td>0</td>\n",
       "    </tr>\n",
       "  </tbody>\n",
       "</table>\n",
       "<p>5 rows × 784 columns</p>\n",
       "</div>"
      ],
      "text/plain": [
       "       pixel0  pixel1  pixel2  pixel3  pixel4  pixel5  pixel6  pixel7  pixel8  \\\n",
       "2116        0       0       0       0       0       0       0       0       0   \n",
       "16165       0       0       0       0       0       0       0       0       0   \n",
       "3064        0       0       0       0       0       0       0       0       0   \n",
       "25841       0       0       0       0       0       0       0       0       0   \n",
       "14190       0       0       0       0       0       0       0       0       0   \n",
       "\n",
       "       pixel9  ...  pixel774  pixel775  pixel776  pixel777  pixel778  \\\n",
       "2116        0  ...         0         0         0         0         0   \n",
       "16165       0  ...         0         0         0         0         0   \n",
       "3064        0  ...         0         0         0         0         0   \n",
       "25841       0  ...         0         0         0         0         0   \n",
       "14190       0  ...         0         0         0         0         0   \n",
       "\n",
       "       pixel779  pixel780  pixel781  pixel782  pixel783  \n",
       "2116          0         0         0         0         0  \n",
       "16165         0         0         0         0         0  \n",
       "3064          0         0         0         0         0  \n",
       "25841         0         0         0         0         0  \n",
       "14190         0         0         0         0         0  \n",
       "\n",
       "[5 rows x 784 columns]"
      ]
     },
     "execution_count": 12,
     "metadata": {},
     "output_type": "execute_result"
    }
   ],
   "source": [
    "test.sample(5)"
   ]
  },
  {
   "cell_type": "code",
   "execution_count": 13,
   "id": "676947eb",
   "metadata": {
    "execution": {
     "iopub.execute_input": "2022-05-04T12:30:42.367600Z",
     "iopub.status.busy": "2022-05-04T12:30:42.367065Z",
     "iopub.status.idle": "2022-05-04T12:30:42.369455Z",
     "shell.execute_reply": "2022-05-04T12:30:42.369898Z",
     "shell.execute_reply.started": "2022-05-04T12:24:18.592299Z"
    },
    "papermill": {
     "duration": 0.028725,
     "end_time": "2022-05-04T12:30:42.370019",
     "exception": false,
     "start_time": "2022-05-04T12:30:42.341294",
     "status": "completed"
    },
    "tags": []
   },
   "outputs": [],
   "source": [
    "X_train_full = train.values\n",
    "X_test=test.values"
   ]
  },
  {
   "cell_type": "code",
   "execution_count": 14,
   "id": "fc6859eb",
   "metadata": {
    "execution": {
     "iopub.execute_input": "2022-05-04T12:30:42.421052Z",
     "iopub.status.busy": "2022-05-04T12:30:42.419867Z",
     "iopub.status.idle": "2022-05-04T12:30:42.423411Z",
     "shell.execute_reply": "2022-05-04T12:30:42.422968Z",
     "shell.execute_reply.started": "2022-05-04T12:24:19.612761Z"
    },
    "papermill": {
     "duration": 0.030575,
     "end_time": "2022-05-04T12:30:42.423511",
     "exception": false,
     "start_time": "2022-05-04T12:30:42.392936",
     "status": "completed"
    },
    "tags": []
   },
   "outputs": [
    {
     "name": "stdout",
     "output_type": "stream",
     "text": [
      "<class 'numpy.ndarray'> \n",
      "Shape: (42000, 785)\n"
     ]
    }
   ],
   "source": [
    "print(type(X_train_full),\"\\nShape:\",X_train_full.shape)"
   ]
  },
  {
   "cell_type": "code",
   "execution_count": 15,
   "id": "9b8bd342",
   "metadata": {
    "execution": {
     "iopub.execute_input": "2022-05-04T12:30:42.475109Z",
     "iopub.status.busy": "2022-05-04T12:30:42.474401Z",
     "iopub.status.idle": "2022-05-04T12:30:42.477611Z",
     "shell.execute_reply": "2022-05-04T12:30:42.477109Z",
     "shell.execute_reply.started": "2022-05-04T12:24:20.704255Z"
    },
    "papermill": {
     "duration": 0.031168,
     "end_time": "2022-05-04T12:30:42.477726",
     "exception": false,
     "start_time": "2022-05-04T12:30:42.446558",
     "status": "completed"
    },
    "tags": []
   },
   "outputs": [
    {
     "name": "stdout",
     "output_type": "stream",
     "text": [
      "<class 'numpy.ndarray'> \n",
      "Shape: (28000, 784)\n"
     ]
    }
   ],
   "source": [
    "print(type(X_test),\"\\nShape:\",X_test.shape)"
   ]
  },
  {
   "cell_type": "code",
   "execution_count": 16,
   "id": "691ab260",
   "metadata": {
    "execution": {
     "iopub.execute_input": "2022-05-04T12:30:42.528705Z",
     "iopub.status.busy": "2022-05-04T12:30:42.528029Z",
     "iopub.status.idle": "2022-05-04T12:30:42.530549Z",
     "shell.execute_reply": "2022-05-04T12:30:42.530140Z",
     "shell.execute_reply.started": "2022-05-04T12:24:21.736397Z"
    },
    "papermill": {
     "duration": 0.029867,
     "end_time": "2022-05-04T12:30:42.530647",
     "exception": false,
     "start_time": "2022-05-04T12:30:42.500780",
     "status": "completed"
    },
    "tags": []
   },
   "outputs": [],
   "source": [
    "y_train=X_train_full[:,0]\n",
    "X_train=X_train_full[:,1:]"
   ]
  },
  {
   "cell_type": "code",
   "execution_count": 17,
   "id": "c21d7b57",
   "metadata": {
    "execution": {
     "iopub.execute_input": "2022-05-04T12:30:42.581071Z",
     "iopub.status.busy": "2022-05-04T12:30:42.580252Z",
     "iopub.status.idle": "2022-05-04T12:30:42.583519Z",
     "shell.execute_reply": "2022-05-04T12:30:42.583919Z",
     "shell.execute_reply.started": "2022-05-04T12:24:22.433510Z"
    },
    "papermill": {
     "duration": 0.030165,
     "end_time": "2022-05-04T12:30:42.584037",
     "exception": false,
     "start_time": "2022-05-04T12:30:42.553872",
     "status": "completed"
    },
    "tags": []
   },
   "outputs": [
    {
     "name": "stdout",
     "output_type": "stream",
     "text": [
      "<class 'numpy.ndarray'> \n",
      "Shape: (42000, 784)\n"
     ]
    }
   ],
   "source": [
    "print(type(X_train),\"\\nShape:\",X_train.shape)"
   ]
  },
  {
   "cell_type": "code",
   "execution_count": 18,
   "id": "5c89f704",
   "metadata": {
    "execution": {
     "iopub.execute_input": "2022-05-04T12:30:42.637957Z",
     "iopub.status.busy": "2022-05-04T12:30:42.637337Z",
     "iopub.status.idle": "2022-05-04T12:30:42.640221Z",
     "shell.execute_reply": "2022-05-04T12:30:42.640829Z",
     "shell.execute_reply.started": "2022-05-04T12:24:23.214284Z"
    },
    "papermill": {
     "duration": 0.033385,
     "end_time": "2022-05-04T12:30:42.640992",
     "exception": false,
     "start_time": "2022-05-04T12:30:42.607607",
     "status": "completed"
    },
    "tags": []
   },
   "outputs": [
    {
     "name": "stdout",
     "output_type": "stream",
     "text": [
      "<class 'numpy.ndarray'> \n",
      "Shape: (42000,)\n"
     ]
    }
   ],
   "source": [
    "print(type(y_train),\"\\nShape:\",y_train.shape)"
   ]
  },
  {
   "cell_type": "code",
   "execution_count": 19,
   "id": "5ab2c2e9",
   "metadata": {
    "execution": {
     "iopub.execute_input": "2022-05-04T12:30:42.693767Z",
     "iopub.status.busy": "2022-05-04T12:30:42.692206Z",
     "iopub.status.idle": "2022-05-04T12:30:42.694373Z",
     "shell.execute_reply": "2022-05-04T12:30:42.694798Z",
     "shell.execute_reply.started": "2022-05-04T12:24:23.798891Z"
    },
    "papermill": {
     "duration": 0.029234,
     "end_time": "2022-05-04T12:30:42.694917",
     "exception": false,
     "start_time": "2022-05-04T12:30:42.665683",
     "status": "completed"
    },
    "tags": []
   },
   "outputs": [],
   "source": [
    "#del X_train_full"
   ]
  },
  {
   "cell_type": "code",
   "execution_count": 20,
   "id": "20048f2a",
   "metadata": {
    "execution": {
     "iopub.execute_input": "2022-05-04T12:30:42.746636Z",
     "iopub.status.busy": "2022-05-04T12:30:42.745707Z",
     "iopub.status.idle": "2022-05-04T12:30:42.869929Z",
     "shell.execute_reply": "2022-05-04T12:30:42.869392Z",
     "shell.execute_reply.started": "2022-05-04T12:24:24.554335Z"
    },
    "papermill": {
     "duration": 0.151329,
     "end_time": "2022-05-04T12:30:42.870065",
     "exception": false,
     "start_time": "2022-05-04T12:30:42.718736",
     "status": "completed"
    },
    "tags": []
   },
   "outputs": [],
   "source": [
    "X_train = (X_train-127.5)/127.5"
   ]
  },
  {
   "cell_type": "code",
   "execution_count": 21,
   "id": "8d35ac85",
   "metadata": {
    "execution": {
     "iopub.execute_input": "2022-05-04T12:30:42.923362Z",
     "iopub.status.busy": "2022-05-04T12:30:42.922319Z",
     "iopub.status.idle": "2022-05-04T12:30:43.004939Z",
     "shell.execute_reply": "2022-05-04T12:30:43.004399Z",
     "shell.execute_reply.started": "2022-05-04T12:24:24.874097Z"
    },
    "papermill": {
     "duration": 0.110488,
     "end_time": "2022-05-04T12:30:43.005075",
     "exception": false,
     "start_time": "2022-05-04T12:30:42.894587",
     "status": "completed"
    },
    "tags": []
   },
   "outputs": [],
   "source": [
    "X_test = (X_test-127.5)/127.5"
   ]
  },
  {
   "cell_type": "code",
   "execution_count": 22,
   "id": "8ac1d9f8",
   "metadata": {
    "execution": {
     "iopub.execute_input": "2022-05-04T12:30:43.061210Z",
     "iopub.status.busy": "2022-05-04T12:30:43.060399Z",
     "iopub.status.idle": "2022-05-04T12:30:43.063145Z",
     "shell.execute_reply": "2022-05-04T12:30:43.063535Z",
     "shell.execute_reply.started": "2022-05-04T12:24:25.611167Z"
    },
    "papermill": {
     "duration": 0.033961,
     "end_time": "2022-05-04T12:30:43.063683",
     "exception": false,
     "start_time": "2022-05-04T12:30:43.029722",
     "status": "completed"
    },
    "tags": []
   },
   "outputs": [
    {
     "data": {
      "text/plain": [
       "array([0, 7, 3, 5, 3])"
      ]
     },
     "execution_count": 22,
     "metadata": {},
     "output_type": "execute_result"
    }
   ],
   "source": [
    "y_train[5:10,]"
   ]
  },
  {
   "cell_type": "code",
   "execution_count": 23,
   "id": "a25242c1",
   "metadata": {
    "execution": {
     "iopub.execute_input": "2022-05-04T12:30:43.115941Z",
     "iopub.status.busy": "2022-05-04T12:30:43.115374Z",
     "iopub.status.idle": "2022-05-04T12:30:43.120147Z",
     "shell.execute_reply": "2022-05-04T12:30:43.119746Z",
     "shell.execute_reply.started": "2022-05-04T12:24:26.383129Z"
    },
    "papermill": {
     "duration": 0.032374,
     "end_time": "2022-05-04T12:30:43.120251",
     "exception": false,
     "start_time": "2022-05-04T12:30:43.087877",
     "status": "completed"
    },
    "tags": []
   },
   "outputs": [],
   "source": [
    "y_train = to_categorical(y_train)"
   ]
  },
  {
   "cell_type": "code",
   "execution_count": 24,
   "id": "9fac681f",
   "metadata": {
    "execution": {
     "iopub.execute_input": "2022-05-04T12:30:43.172891Z",
     "iopub.status.busy": "2022-05-04T12:30:43.172357Z",
     "iopub.status.idle": "2022-05-04T12:30:43.176532Z",
     "shell.execute_reply": "2022-05-04T12:30:43.176125Z",
     "shell.execute_reply.started": "2022-05-04T12:24:26.836941Z"
    },
    "papermill": {
     "duration": 0.032108,
     "end_time": "2022-05-04T12:30:43.176628",
     "exception": false,
     "start_time": "2022-05-04T12:30:43.144520",
     "status": "completed"
    },
    "tags": []
   },
   "outputs": [
    {
     "name": "stdout",
     "output_type": "stream",
     "text": [
      "<class 'numpy.ndarray'> \n",
      "Shape: (42000, 10)\n"
     ]
    }
   ],
   "source": [
    "print(type(y_train),\"\\nShape:\",y_train.shape)"
   ]
  },
  {
   "cell_type": "code",
   "execution_count": 25,
   "id": "07f62752",
   "metadata": {
    "execution": {
     "iopub.execute_input": "2022-05-04T12:30:43.230497Z",
     "iopub.status.busy": "2022-05-04T12:30:43.228921Z",
     "iopub.status.idle": "2022-05-04T12:30:43.231169Z",
     "shell.execute_reply": "2022-05-04T12:30:43.231577Z",
     "shell.execute_reply.started": "2022-05-04T12:24:27.221227Z"
    },
    "papermill": {
     "duration": 0.03066,
     "end_time": "2022-05-04T12:30:43.231732",
     "exception": false,
     "start_time": "2022-05-04T12:30:43.201072",
     "status": "completed"
    },
    "tags": []
   },
   "outputs": [],
   "source": [
    "#setup callback\n",
    "reduceLROnPlateau=ReduceLROnPlateau(monitor='val_acc', patience=3, verbose=1, factor=0.5, min_lr=0.00001)"
   ]
  },
  {
   "cell_type": "code",
   "execution_count": 26,
   "id": "eeb0ff67",
   "metadata": {
    "execution": {
     "iopub.execute_input": "2022-05-04T12:30:43.288382Z",
     "iopub.status.busy": "2022-05-04T12:30:43.287776Z",
     "iopub.status.idle": "2022-05-04T12:30:46.950408Z",
     "shell.execute_reply": "2022-05-04T12:30:46.950995Z",
     "shell.execute_reply.started": "2022-05-04T12:24:28.459777Z"
    },
    "papermill": {
     "duration": 3.695133,
     "end_time": "2022-05-04T12:30:46.951157",
     "exception": false,
     "start_time": "2022-05-04T12:30:43.256024",
     "status": "completed"
    },
    "tags": []
   },
   "outputs": [
    {
     "name": "stderr",
     "output_type": "stream",
     "text": [
      "2022-05-04 12:30:43.372066: I tensorflow/stream_executor/cuda/cuda_gpu_executor.cc:937] successful NUMA node read from SysFS had negative value (-1), but there must be at least one NUMA node, so returning NUMA node zero\n",
      "2022-05-04 12:30:43.487701: I tensorflow/stream_executor/cuda/cuda_gpu_executor.cc:937] successful NUMA node read from SysFS had negative value (-1), but there must be at least one NUMA node, so returning NUMA node zero\n",
      "2022-05-04 12:30:43.488493: I tensorflow/stream_executor/cuda/cuda_gpu_executor.cc:937] successful NUMA node read from SysFS had negative value (-1), but there must be at least one NUMA node, so returning NUMA node zero\n",
      "2022-05-04 12:30:43.489899: I tensorflow/core/platform/cpu_feature_guard.cc:142] This TensorFlow binary is optimized with oneAPI Deep Neural Network Library (oneDNN) to use the following CPU instructions in performance-critical operations:  AVX2 AVX512F FMA\n",
      "To enable them in other operations, rebuild TensorFlow with the appropriate compiler flags.\n",
      "2022-05-04 12:30:43.490926: I tensorflow/stream_executor/cuda/cuda_gpu_executor.cc:937] successful NUMA node read from SysFS had negative value (-1), but there must be at least one NUMA node, so returning NUMA node zero\n",
      "2022-05-04 12:30:43.491610: I tensorflow/stream_executor/cuda/cuda_gpu_executor.cc:937] successful NUMA node read from SysFS had negative value (-1), but there must be at least one NUMA node, so returning NUMA node zero\n",
      "2022-05-04 12:30:43.492288: I tensorflow/stream_executor/cuda/cuda_gpu_executor.cc:937] successful NUMA node read from SysFS had negative value (-1), but there must be at least one NUMA node, so returning NUMA node zero\n",
      "2022-05-04 12:30:45.372619: I tensorflow/stream_executor/cuda/cuda_gpu_executor.cc:937] successful NUMA node read from SysFS had negative value (-1), but there must be at least one NUMA node, so returning NUMA node zero\n",
      "2022-05-04 12:30:45.373469: I tensorflow/stream_executor/cuda/cuda_gpu_executor.cc:937] successful NUMA node read from SysFS had negative value (-1), but there must be at least one NUMA node, so returning NUMA node zero\n",
      "2022-05-04 12:30:45.374189: I tensorflow/stream_executor/cuda/cuda_gpu_executor.cc:937] successful NUMA node read from SysFS had negative value (-1), but there must be at least one NUMA node, so returning NUMA node zero\n",
      "2022-05-04 12:30:45.374781: I tensorflow/core/common_runtime/gpu/gpu_device.cc:1510] Created device /job:localhost/replica:0/task:0/device:GPU:0 with 15403 MB memory:  -> device: 0, name: Tesla P100-PCIE-16GB, pci bus id: 0000:00:04.0, compute capability: 6.0\n"
     ]
    },
    {
     "name": "stdout",
     "output_type": "stream",
     "text": [
      "Model: \"sequential\"\n",
      "_________________________________________________________________\n",
      "Layer (type)                 Output Shape              Param #   \n",
      "=================================================================\n",
      "dense (Dense)                (None, 512)               401920    \n",
      "_________________________________________________________________\n",
      "batch_normalization (BatchNo (None, 512)               2048      \n",
      "_________________________________________________________________\n",
      "activation (Activation)      (None, 512)               0         \n",
      "_________________________________________________________________\n",
      "dense_1 (Dense)              (None, 256)               131328    \n",
      "_________________________________________________________________\n",
      "batch_normalization_1 (Batch (None, 256)               1024      \n",
      "_________________________________________________________________\n",
      "activation_1 (Activation)    (None, 256)               0         \n",
      "_________________________________________________________________\n",
      "dense_2 (Dense)              (None, 128)               32896     \n",
      "_________________________________________________________________\n",
      "batch_normalization_2 (Batch (None, 128)               512       \n",
      "_________________________________________________________________\n",
      "activation_2 (Activation)    (None, 128)               0         \n",
      "_________________________________________________________________\n",
      "dense_3 (Dense)              (None, 64)                8256      \n",
      "_________________________________________________________________\n",
      "batch_normalization_3 (Batch (None, 64)                256       \n",
      "_________________________________________________________________\n",
      "activation_3 (Activation)    (None, 64)                0         \n",
      "_________________________________________________________________\n",
      "dense_4 (Dense)              (None, 32)                2080      \n",
      "_________________________________________________________________\n",
      "batch_normalization_4 (Batch (None, 32)                128       \n",
      "_________________________________________________________________\n",
      "activation_4 (Activation)    (None, 32)                0         \n",
      "_________________________________________________________________\n",
      "dense_5 (Dense)              (None, 10)                330       \n",
      "_________________________________________________________________\n",
      "batch_normalization_5 (Batch (None, 10)                40        \n",
      "_________________________________________________________________\n",
      "activation_5 (Activation)    (None, 10)                0         \n",
      "=================================================================\n",
      "Total params: 580,818\n",
      "Trainable params: 578,814\n",
      "Non-trainable params: 2,004\n",
      "_________________________________________________________________\n"
     ]
    },
    {
     "data": {
      "image/png": "[encoded data removed]",
      "text/plain": [
       "<IPython.core.display.Image object>"
      ]
     },
     "execution_count": 26,
     "metadata": {},
     "output_type": "execute_result"
    }
   ],
   "source": [
    "#using (a) Sequential Class \n",
    "ffnn=Sequential() \n",
    "ffnn.add(Dense(units=512, input_shape=(784,))) \n",
    "ffnn.add(BatchNormalization()) \n",
    "ffnn.add(Activation('relu'))\n",
    "ffnn.add(Dense(units=256))\n",
    "ffnn.add(BatchNormalization())\n",
    "ffnn.add(Activation('relu'))\n",
    "ffnn.add(Dense(units=128))\n",
    "ffnn.add(BatchNormalization())\n",
    "ffnn.add(Activation('relu'))\n",
    "ffnn.add(Dense(units=64))\n",
    "ffnn.add(BatchNormalization())\n",
    "ffnn.add(Activation('relu'))\n",
    "ffnn.add(Dense(units=32))\n",
    "ffnn.add(BatchNormalization())\n",
    "ffnn.add(Activation('relu'))\n",
    "ffnn.add(Dense(units=10))\n",
    "ffnn.add(BatchNormalization())\n",
    "ffnn.add(Activation('softmax')) #to output probability vector\n",
    "\n",
    "#Set compile settings\n",
    "ffnn.compile(loss='categorical_crossentropy', optimizer='adam', metrics=['accuracy'])\n",
    "\n",
    "#display summary of the model\n",
    "ffnn.summary()\n",
    "\n",
    "#display the model\n",
    "tf.keras.utils.plot_model(ffnn)"
   ]
  },
  {
   "cell_type": "code",
   "execution_count": 27,
   "id": "03997fda",
   "metadata": {
    "execution": {
     "iopub.execute_input": "2022-05-04T12:30:47.017546Z",
     "iopub.status.busy": "2022-05-04T12:30:47.016735Z",
     "iopub.status.idle": "2022-05-04T12:30:47.258560Z",
     "shell.execute_reply": "2022-05-04T12:30:47.258078Z",
     "shell.execute_reply.started": "2022-05-04T12:28:51.453092Z"
    },
    "papermill": {
     "duration": 0.28036,
     "end_time": "2022-05-04T12:30:47.258711",
     "exception": false,
     "start_time": "2022-05-04T12:30:46.978351",
     "status": "completed"
    },
    "tags": []
   },
   "outputs": [
    {
     "name": "stdout",
     "output_type": "stream",
     "text": [
      "Model: \"model\"\n",
      "_________________________________________________________________\n",
      "Layer (type)                 Output Shape              Param #   \n",
      "=================================================================\n",
      "input_1 (InputLayer)         [(None, 784)]             0         \n",
      "_________________________________________________________________\n",
      "dense_6 (Dense)              (None, 512)               401920    \n",
      "_________________________________________________________________\n",
      "batch_normalization_6 (Batch (None, 512)               2048      \n",
      "_________________________________________________________________\n",
      "activation_6 (Activation)    (None, 512)               0         \n",
      "_________________________________________________________________\n",
      "dense_7 (Dense)              (None, 256)               131328    \n",
      "_________________________________________________________________\n",
      "batch_normalization_7 (Batch (None, 256)               1024      \n",
      "_________________________________________________________________\n",
      "activation_7 (Activation)    (None, 256)               0         \n",
      "_________________________________________________________________\n",
      "dense_8 (Dense)              (None, 128)               32896     \n",
      "_________________________________________________________________\n",
      "batch_normalization_8 (Batch (None, 128)               512       \n",
      "_________________________________________________________________\n",
      "activation_8 (Activation)    (None, 128)               0         \n",
      "_________________________________________________________________\n",
      "dense_9 (Dense)              (None, 32)                4128      \n",
      "_________________________________________________________________\n",
      "batch_normalization_9 (Batch (None, 32)                128       \n",
      "_________________________________________________________________\n",
      "activation_9 (Activation)    (None, 32)                0         \n",
      "_________________________________________________________________\n",
      "dense_10 (Dense)             (None, 10)                330       \n",
      "_________________________________________________________________\n",
      "batch_normalization_10 (Batc (None, 10)                40        \n",
      "_________________________________________________________________\n",
      "activation_10 (Activation)   (None, 10)                0         \n",
      "=================================================================\n",
      "Total params: 574,354\n",
      "Trainable params: 572,478\n",
      "Non-trainable params: 1,876\n",
      "_________________________________________________________________\n"
     ]
    },
    {
     "data": {
      "image/png": "[encoded data removed]",
      "text/plain": [
       "<IPython.core.display.Image object>"
      ]
     },
     "execution_count": 27,
     "metadata": {},
     "output_type": "execute_result"
    }
   ],
   "source": [
    "#(b) Model Class API\n",
    "inp=Input(shape=(784,))\n",
    "\n",
    "dense1=Dense(units=512)(inp)\n",
    "batch1=BatchNormalization()(dense1)\n",
    "a1=Activation('relu')(batch1)\n",
    "\n",
    "dense2=Dense(units=256)(a1)\n",
    "batch2=BatchNormalization()(dense2)\n",
    "a2=Activation('relu')(batch2)\n",
    "\n",
    "dense3=Dense(units=128)(a2)\n",
    "batch3=BatchNormalization()(dense3)\n",
    "a3=Activation('relu')(batch3)\n",
    "\n",
    "dense4=Dense(units=32)(a3)\n",
    "batch4=BatchNormalization()(dense4)\n",
    "a4=Activation('relu')(batch4)\n",
    "\n",
    "dense5=Dense(units=10)(a4)\n",
    "batch5=BatchNormalization()(dense5)\n",
    "a5=Activation('softmax')(batch5)\n",
    "\n",
    "\n",
    "ffnn1=Model(inputs=inp, outputs=a5)\n",
    "ffnn1.compile(loss='categorical_crossentropy', optimizer='adam', metrics=['accuracy'])\n",
    "\n",
    "ffnn1.summary()\n",
    "tf.keras.utils.plot_model(ffnn1)\n"
   ]
  },
  {
   "cell_type": "markdown",
   "id": "12da0c9d",
   "metadata": {
    "papermill": {
     "duration": 0.028272,
     "end_time": "2022-05-04T12:30:47.316314",
     "exception": false,
     "start_time": "2022-05-04T12:30:47.288042",
     "status": "completed"
    },
    "tags": []
   },
   "source": [
    "1) Fitting model FFNN (sequential)"
   ]
  },
  {
   "cell_type": "code",
   "execution_count": 28,
   "id": "24151f22",
   "metadata": {
    "execution": {
     "iopub.execute_input": "2022-05-04T12:30:47.379378Z",
     "iopub.status.busy": "2022-05-04T12:30:47.378876Z",
     "iopub.status.idle": "2022-05-04T12:33:58.111196Z",
     "shell.execute_reply": "2022-05-04T12:33:58.110741Z",
     "shell.execute_reply.started": "2022-05-04T12:24:41.501757Z"
    },
    "papermill": {
     "duration": 190.766764,
     "end_time": "2022-05-04T12:33:58.111320",
     "exception": false,
     "start_time": "2022-05-04T12:30:47.344556",
     "status": "completed"
    },
    "tags": []
   },
   "outputs": [
    {
     "name": "stderr",
     "output_type": "stream",
     "text": [
      "2022-05-04 12:30:47.699071: I tensorflow/compiler/mlir/mlir_graph_optimization_pass.cc:185] None of the MLIR Optimization Passes are enabled (registered 2)\n"
     ]
    },
    {
     "name": "stdout",
     "output_type": "stream",
     "text": [
      "Epoch 1/150\n",
      "280/280 [==============================] - 3s 5ms/step - loss: 0.5122 - accuracy: 0.9132 - val_loss: 0.4887 - val_accuracy: 0.9105\n",
      "Epoch 2/150\n",
      "280/280 [==============================] - 1s 4ms/step - loss: 0.2340 - accuracy: 0.9700 - val_loss: 0.1960 - val_accuracy: 0.9673\n",
      "Epoch 3/150\n",
      "280/280 [==============================] - 1s 4ms/step - loss: 0.1570 - accuracy: 0.9788 - val_loss: 0.1658 - val_accuracy: 0.9675\n",
      "Epoch 4/150\n",
      "280/280 [==============================] - 1s 5ms/step - loss: 0.1137 - accuracy: 0.9843 - val_loss: 0.1625 - val_accuracy: 0.9626\n",
      "Epoch 5/150\n",
      "280/280 [==============================] - 1s 5ms/step - loss: 0.0886 - accuracy: 0.9873 - val_loss: 0.1296 - val_accuracy: 0.9720\n",
      "Epoch 6/150\n",
      "280/280 [==============================] - 1s 4ms/step - loss: 0.0739 - accuracy: 0.9881 - val_loss: 0.2124 - val_accuracy: 0.9419\n",
      "Epoch 7/150\n",
      "280/280 [==============================] - 1s 4ms/step - loss: 0.0565 - accuracy: 0.9916 - val_loss: 0.1186 - val_accuracy: 0.9705\n",
      "Epoch 8/150\n",
      "280/280 [==============================] - 1s 4ms/step - loss: 0.0515 - accuracy: 0.9908 - val_loss: 0.3236 - val_accuracy: 0.9189\n",
      "Epoch 9/150\n",
      "280/280 [==============================] - 1s 4ms/step - loss: 0.0461 - accuracy: 0.9912 - val_loss: 0.1339 - val_accuracy: 0.9650\n",
      "Epoch 10/150\n",
      "280/280 [==============================] - 1s 4ms/step - loss: 0.0377 - accuracy: 0.9931 - val_loss: 0.0979 - val_accuracy: 0.9760\n",
      "Epoch 11/150\n",
      "280/280 [==============================] - 1s 4ms/step - loss: 0.0370 - accuracy: 0.9923 - val_loss: 0.1256 - val_accuracy: 0.9682\n",
      "Epoch 12/150\n",
      "280/280 [==============================] - 1s 4ms/step - loss: 0.0343 - accuracy: 0.9928 - val_loss: 0.0997 - val_accuracy: 0.9725\n",
      "Epoch 13/150\n",
      "280/280 [==============================] - 1s 5ms/step - loss: 0.0282 - accuracy: 0.9942 - val_loss: 0.1419 - val_accuracy: 0.9644\n",
      "Epoch 14/150\n",
      "280/280 [==============================] - 1s 5ms/step - loss: 0.0248 - accuracy: 0.9947 - val_loss: 0.1118 - val_accuracy: 0.9701\n",
      "Epoch 15/150\n",
      "280/280 [==============================] - 1s 5ms/step - loss: 0.0230 - accuracy: 0.9952 - val_loss: 0.0985 - val_accuracy: 0.9746\n",
      "Epoch 16/150\n",
      "280/280 [==============================] - 1s 5ms/step - loss: 0.0219 - accuracy: 0.9949 - val_loss: 0.1090 - val_accuracy: 0.9718\n",
      "Epoch 17/150\n",
      "280/280 [==============================] - 1s 4ms/step - loss: 0.0240 - accuracy: 0.9940 - val_loss: 0.0935 - val_accuracy: 0.9763\n",
      "Epoch 18/150\n",
      "280/280 [==============================] - 1s 4ms/step - loss: 0.0192 - accuracy: 0.9957 - val_loss: 0.0888 - val_accuracy: 0.9782\n",
      "Epoch 19/150\n",
      "280/280 [==============================] - 1s 4ms/step - loss: 0.0163 - accuracy: 0.9961 - val_loss: 0.1006 - val_accuracy: 0.9745\n",
      "Epoch 20/150\n",
      "280/280 [==============================] - 1s 4ms/step - loss: 0.0185 - accuracy: 0.9954 - val_loss: 0.0879 - val_accuracy: 0.9776\n",
      "Epoch 21/150\n",
      "280/280 [==============================] - 1s 4ms/step - loss: 0.0120 - accuracy: 0.9973 - val_loss: 0.0864 - val_accuracy: 0.9792\n",
      "Epoch 22/150\n",
      "280/280 [==============================] - 1s 5ms/step - loss: 0.0139 - accuracy: 0.9967 - val_loss: 0.1042 - val_accuracy: 0.9755\n",
      "Epoch 23/150\n",
      "280/280 [==============================] - 1s 5ms/step - loss: 0.0185 - accuracy: 0.9950 - val_loss: 0.0902 - val_accuracy: 0.9764\n",
      "Epoch 24/150\n",
      "280/280 [==============================] - 1s 4ms/step - loss: 0.0141 - accuracy: 0.9964 - val_loss: 0.0884 - val_accuracy: 0.9775\n",
      "Epoch 25/150\n",
      "280/280 [==============================] - 1s 4ms/step - loss: 0.0126 - accuracy: 0.9964 - val_loss: 0.1030 - val_accuracy: 0.9756\n",
      "Epoch 26/150\n",
      "280/280 [==============================] - 1s 4ms/step - loss: 0.0117 - accuracy: 0.9975 - val_loss: 0.0881 - val_accuracy: 0.9787\n",
      "Epoch 27/150\n",
      "280/280 [==============================] - 1s 4ms/step - loss: 0.0152 - accuracy: 0.9960 - val_loss: 0.1140 - val_accuracy: 0.9724\n",
      "Epoch 28/150\n",
      "280/280 [==============================] - 1s 4ms/step - loss: 0.0103 - accuracy: 0.9973 - val_loss: 0.0852 - val_accuracy: 0.9783\n",
      "Epoch 29/150\n",
      "280/280 [==============================] - 1s 4ms/step - loss: 0.0106 - accuracy: 0.9972 - val_loss: 0.0979 - val_accuracy: 0.9752\n",
      "Epoch 30/150\n",
      "280/280 [==============================] - 1s 4ms/step - loss: 0.0098 - accuracy: 0.9976 - val_loss: 0.0876 - val_accuracy: 0.9783\n",
      "Epoch 31/150\n",
      "280/280 [==============================] - 1s 5ms/step - loss: 0.0099 - accuracy: 0.9973 - val_loss: 0.0956 - val_accuracy: 0.9762\n",
      "Epoch 32/150\n",
      "280/280 [==============================] - 1s 4ms/step - loss: 0.0103 - accuracy: 0.9971 - val_loss: 0.1161 - val_accuracy: 0.9732\n",
      "Epoch 33/150\n",
      "280/280 [==============================] - 1s 4ms/step - loss: 0.0086 - accuracy: 0.9979 - val_loss: 0.0865 - val_accuracy: 0.9807\n",
      "Epoch 34/150\n",
      "280/280 [==============================] - 1s 4ms/step - loss: 0.0113 - accuracy: 0.9967 - val_loss: 0.0989 - val_accuracy: 0.9764\n",
      "Epoch 35/150\n",
      "280/280 [==============================] - 1s 4ms/step - loss: 0.0070 - accuracy: 0.9982 - val_loss: 0.0917 - val_accuracy: 0.9789\n",
      "Epoch 36/150\n",
      "280/280 [==============================] - 1s 4ms/step - loss: 0.0048 - accuracy: 0.9988 - val_loss: 0.0938 - val_accuracy: 0.9776\n",
      "Epoch 37/150\n",
      "280/280 [==============================] - 1s 4ms/step - loss: 0.0091 - accuracy: 0.9974 - val_loss: 0.1225 - val_accuracy: 0.9708\n",
      "Epoch 38/150\n",
      "280/280 [==============================] - 1s 4ms/step - loss: 0.0103 - accuracy: 0.9971 - val_loss: 0.1007 - val_accuracy: 0.9758\n",
      "Epoch 39/150\n",
      "280/280 [==============================] - 1s 4ms/step - loss: 0.0104 - accuracy: 0.9971 - val_loss: 0.1090 - val_accuracy: 0.9743\n",
      "Epoch 40/150\n",
      "280/280 [==============================] - 1s 5ms/step - loss: 0.0075 - accuracy: 0.9980 - val_loss: 0.0908 - val_accuracy: 0.9776\n",
      "Epoch 41/150\n",
      "280/280 [==============================] - 1s 4ms/step - loss: 0.0065 - accuracy: 0.9983 - val_loss: 0.1014 - val_accuracy: 0.9774\n",
      "Epoch 42/150\n",
      "280/280 [==============================] - 2s 6ms/step - loss: 0.0079 - accuracy: 0.9978 - val_loss: 0.1099 - val_accuracy: 0.9767\n",
      "Epoch 43/150\n",
      "280/280 [==============================] - 1s 4ms/step - loss: 0.0061 - accuracy: 0.9983 - val_loss: 0.1009 - val_accuracy: 0.9757\n",
      "Epoch 44/150\n",
      "280/280 [==============================] - 1s 4ms/step - loss: 0.0054 - accuracy: 0.9985 - val_loss: 0.1139 - val_accuracy: 0.9736\n",
      "Epoch 45/150\n",
      "280/280 [==============================] - 1s 4ms/step - loss: 0.0056 - accuracy: 0.9986 - val_loss: 0.1114 - val_accuracy: 0.9750\n",
      "Epoch 46/150\n",
      "280/280 [==============================] - 1s 4ms/step - loss: 0.0062 - accuracy: 0.9982 - val_loss: 0.1074 - val_accuracy: 0.9764\n",
      "Epoch 47/150\n",
      "280/280 [==============================] - 1s 5ms/step - loss: 0.0072 - accuracy: 0.9982 - val_loss: 0.1031 - val_accuracy: 0.9776\n",
      "Epoch 48/150\n",
      "280/280 [==============================] - 1s 4ms/step - loss: 0.0073 - accuracy: 0.9981 - val_loss: 0.0854 - val_accuracy: 0.9802\n",
      "Epoch 49/150\n",
      "280/280 [==============================] - 1s 5ms/step - loss: 0.0063 - accuracy: 0.9982 - val_loss: 0.0901 - val_accuracy: 0.9795\n",
      "Epoch 50/150\n",
      "280/280 [==============================] - 1s 4ms/step - loss: 0.0062 - accuracy: 0.9987 - val_loss: 0.0896 - val_accuracy: 0.9782\n",
      "Epoch 51/150\n",
      "280/280 [==============================] - 1s 4ms/step - loss: 0.0040 - accuracy: 0.9990 - val_loss: 0.0789 - val_accuracy: 0.9823\n",
      "Epoch 52/150\n",
      "280/280 [==============================] - 1s 4ms/step - loss: 0.0045 - accuracy: 0.9987 - val_loss: 0.1141 - val_accuracy: 0.9744\n",
      "Epoch 53/150\n",
      "280/280 [==============================] - 1s 4ms/step - loss: 0.0068 - accuracy: 0.9982 - val_loss: 0.0863 - val_accuracy: 0.9808\n",
      "Epoch 54/150\n",
      "280/280 [==============================] - 1s 4ms/step - loss: 0.0065 - accuracy: 0.9983 - val_loss: 0.0925 - val_accuracy: 0.9790\n",
      "Epoch 55/150\n",
      "280/280 [==============================] - 1s 4ms/step - loss: 0.0052 - accuracy: 0.9986 - val_loss: 0.1012 - val_accuracy: 0.9779\n",
      "Epoch 56/150\n",
      "280/280 [==============================] - 1s 4ms/step - loss: 0.0065 - accuracy: 0.9982 - val_loss: 0.0931 - val_accuracy: 0.9796\n",
      "Epoch 57/150\n",
      "280/280 [==============================] - 1s 4ms/step - loss: 0.0048 - accuracy: 0.9987 - val_loss: 0.0937 - val_accuracy: 0.9796\n",
      "Epoch 58/150\n",
      "280/280 [==============================] - 1s 5ms/step - loss: 0.0063 - accuracy: 0.9981 - val_loss: 0.0877 - val_accuracy: 0.9800\n",
      "Epoch 59/150\n",
      "280/280 [==============================] - 1s 4ms/step - loss: 0.0048 - accuracy: 0.9985 - val_loss: 0.0861 - val_accuracy: 0.9818\n",
      "Epoch 60/150\n",
      "280/280 [==============================] - 1s 4ms/step - loss: 0.0033 - accuracy: 0.9991 - val_loss: 0.0873 - val_accuracy: 0.9810\n",
      "Epoch 61/150\n",
      "280/280 [==============================] - 1s 4ms/step - loss: 0.0045 - accuracy: 0.9986 - val_loss: 0.1161 - val_accuracy: 0.9765\n",
      "Epoch 62/150\n",
      "280/280 [==============================] - 1s 4ms/step - loss: 0.0060 - accuracy: 0.9982 - val_loss: 0.0899 - val_accuracy: 0.9796\n",
      "Epoch 63/150\n",
      "280/280 [==============================] - 1s 4ms/step - loss: 0.0033 - accuracy: 0.9994 - val_loss: 0.0819 - val_accuracy: 0.9825\n",
      "Epoch 64/150\n",
      "280/280 [==============================] - 1s 4ms/step - loss: 0.0061 - accuracy: 0.9982 - val_loss: 0.1228 - val_accuracy: 0.9693\n",
      "Epoch 65/150\n",
      "280/280 [==============================] - 1s 4ms/step - loss: 0.0029 - accuracy: 0.9992 - val_loss: 0.0783 - val_accuracy: 0.9817\n",
      "Epoch 66/150\n",
      "280/280 [==============================] - 1s 4ms/step - loss: 0.0018 - accuracy: 0.9995 - val_loss: 0.0873 - val_accuracy: 0.9819\n",
      "Epoch 67/150\n",
      "280/280 [==============================] - 1s 5ms/step - loss: 0.0026 - accuracy: 0.9992 - val_loss: 0.1014 - val_accuracy: 0.9798\n",
      "Epoch 68/150\n",
      "280/280 [==============================] - 1s 4ms/step - loss: 0.0049 - accuracy: 0.9987 - val_loss: 0.1146 - val_accuracy: 0.9773\n",
      "Epoch 69/150\n",
      "280/280 [==============================] - 2s 6ms/step - loss: 0.0060 - accuracy: 0.9982 - val_loss: 0.0952 - val_accuracy: 0.9799\n",
      "Epoch 70/150\n",
      "280/280 [==============================] - 1s 4ms/step - loss: 0.0049 - accuracy: 0.9986 - val_loss: 0.0990 - val_accuracy: 0.9776\n",
      "Epoch 71/150\n",
      "280/280 [==============================] - 1s 4ms/step - loss: 0.0029 - accuracy: 0.9991 - val_loss: 0.1090 - val_accuracy: 0.9777\n",
      "Epoch 72/150\n",
      "280/280 [==============================] - 1s 5ms/step - loss: 0.0065 - accuracy: 0.9981 - val_loss: 0.1349 - val_accuracy: 0.9715\n",
      "Epoch 73/150\n",
      "280/280 [==============================] - 1s 4ms/step - loss: 0.0045 - accuracy: 0.9988 - val_loss: 0.0896 - val_accuracy: 0.9808\n",
      "Epoch 74/150\n",
      "280/280 [==============================] - 1s 4ms/step - loss: 0.0022 - accuracy: 0.9994 - val_loss: 0.0815 - val_accuracy: 0.9827\n",
      "Epoch 75/150\n",
      "280/280 [==============================] - 1s 5ms/step - loss: 0.0021 - accuracy: 0.9995 - val_loss: 0.0943 - val_accuracy: 0.9804\n",
      "Epoch 76/150\n",
      "280/280 [==============================] - 1s 4ms/step - loss: 0.0040 - accuracy: 0.9989 - val_loss: 0.0941 - val_accuracy: 0.9812\n",
      "Epoch 77/150\n",
      "280/280 [==============================] - 1s 4ms/step - loss: 0.0034 - accuracy: 0.9991 - val_loss: 0.0931 - val_accuracy: 0.9810\n",
      "Epoch 78/150\n",
      "280/280 [==============================] - 1s 4ms/step - loss: 0.0036 - accuracy: 0.9991 - val_loss: 0.1188 - val_accuracy: 0.9751\n",
      "Epoch 79/150\n",
      "280/280 [==============================] - 1s 4ms/step - loss: 0.0029 - accuracy: 0.9992 - val_loss: 0.0952 - val_accuracy: 0.9804\n",
      "Epoch 80/150\n",
      "280/280 [==============================] - 1s 4ms/step - loss: 0.0023 - accuracy: 0.9991 - val_loss: 0.1110 - val_accuracy: 0.9774\n",
      "Epoch 81/150\n",
      "280/280 [==============================] - 1s 4ms/step - loss: 0.0057 - accuracy: 0.9982 - val_loss: 0.1041 - val_accuracy: 0.9781\n",
      "Epoch 82/150\n",
      "280/280 [==============================] - 1s 4ms/step - loss: 0.0048 - accuracy: 0.9986 - val_loss: 0.1027 - val_accuracy: 0.9789\n",
      "Epoch 83/150\n",
      "280/280 [==============================] - 1s 4ms/step - loss: 0.0020 - accuracy: 0.9995 - val_loss: 0.0958 - val_accuracy: 0.9801\n",
      "Epoch 84/150\n",
      "280/280 [==============================] - 1s 5ms/step - loss: 0.0026 - accuracy: 0.9992 - val_loss: 0.1007 - val_accuracy: 0.9795\n",
      "Epoch 85/150\n",
      "280/280 [==============================] - 1s 5ms/step - loss: 0.0026 - accuracy: 0.9991 - val_loss: 0.0972 - val_accuracy: 0.9819\n",
      "Epoch 86/150\n",
      "280/280 [==============================] - 1s 4ms/step - loss: 0.0027 - accuracy: 0.9991 - val_loss: 0.0951 - val_accuracy: 0.9814\n",
      "Epoch 87/150\n",
      "280/280 [==============================] - 1s 4ms/step - loss: 0.0034 - accuracy: 0.9990 - val_loss: 0.0960 - val_accuracy: 0.9823\n",
      "Epoch 88/150\n",
      "280/280 [==============================] - 1s 4ms/step - loss: 0.0025 - accuracy: 0.9993 - val_loss: 0.0878 - val_accuracy: 0.9823\n",
      "Epoch 89/150\n",
      "280/280 [==============================] - 1s 4ms/step - loss: 0.0027 - accuracy: 0.9993 - val_loss: 0.0817 - val_accuracy: 0.9835\n",
      "Epoch 90/150\n",
      "280/280 [==============================] - 1s 4ms/step - loss: 0.0036 - accuracy: 0.9990 - val_loss: 0.0963 - val_accuracy: 0.9798\n",
      "Epoch 91/150\n",
      "280/280 [==============================] - 1s 4ms/step - loss: 0.0059 - accuracy: 0.9982 - val_loss: 0.0860 - val_accuracy: 0.9806\n",
      "Epoch 92/150\n",
      "280/280 [==============================] - 1s 4ms/step - loss: 0.0037 - accuracy: 0.9988 - val_loss: 0.0846 - val_accuracy: 0.9815\n",
      "Epoch 93/150\n",
      "280/280 [==============================] - 1s 4ms/step - loss: 0.0036 - accuracy: 0.9990 - val_loss: 0.1147 - val_accuracy: 0.9761\n",
      "Epoch 94/150\n",
      "280/280 [==============================] - 1s 5ms/step - loss: 0.0025 - accuracy: 0.9993 - val_loss: 0.0971 - val_accuracy: 0.9794\n",
      "Epoch 95/150\n",
      "280/280 [==============================] - 1s 5ms/step - loss: 0.0034 - accuracy: 0.9991 - val_loss: 0.1055 - val_accuracy: 0.9794\n",
      "Epoch 96/150\n",
      "280/280 [==============================] - 2s 6ms/step - loss: 0.0027 - accuracy: 0.9992 - val_loss: 0.0824 - val_accuracy: 0.9824\n",
      "Epoch 97/150\n",
      "280/280 [==============================] - 2s 5ms/step - loss: 0.0021 - accuracy: 0.9994 - val_loss: 0.0924 - val_accuracy: 0.9821\n",
      "Epoch 98/150\n",
      "280/280 [==============================] - 1s 4ms/step - loss: 0.0046 - accuracy: 0.9986 - val_loss: 0.0906 - val_accuracy: 0.9808\n",
      "Epoch 99/150\n",
      "280/280 [==============================] - 1s 4ms/step - loss: 0.0013 - accuracy: 0.9997 - val_loss: 0.0836 - val_accuracy: 0.9820\n",
      "Epoch 100/150\n",
      "280/280 [==============================] - 1s 4ms/step - loss: 0.0019 - accuracy: 0.9996 - val_loss: 0.0921 - val_accuracy: 0.9807\n",
      "Epoch 101/150\n",
      "280/280 [==============================] - 1s 4ms/step - loss: 0.0013 - accuracy: 0.9997 - val_loss: 0.0842 - val_accuracy: 0.9825\n",
      "Epoch 102/150\n",
      "280/280 [==============================] - 1s 5ms/step - loss: 0.0030 - accuracy: 0.9991 - val_loss: 0.0989 - val_accuracy: 0.9789\n",
      "Epoch 103/150\n",
      "280/280 [==============================] - 1s 4ms/step - loss: 0.0055 - accuracy: 0.9985 - val_loss: 0.0897 - val_accuracy: 0.9811\n",
      "Epoch 104/150\n",
      "280/280 [==============================] - 1s 4ms/step - loss: 0.0019 - accuracy: 0.9995 - val_loss: 0.0849 - val_accuracy: 0.9827\n",
      "Epoch 105/150\n",
      "280/280 [==============================] - 1s 4ms/step - loss: 0.0029 - accuracy: 0.9992 - val_loss: 0.1042 - val_accuracy: 0.9785\n",
      "Epoch 106/150\n",
      "280/280 [==============================] - 1s 4ms/step - loss: 0.0024 - accuracy: 0.9994 - val_loss: 0.0944 - val_accuracy: 0.9806\n",
      "Epoch 107/150\n",
      "280/280 [==============================] - 1s 4ms/step - loss: 0.0023 - accuracy: 0.9993 - val_loss: 0.0904 - val_accuracy: 0.9814\n",
      "Epoch 108/150\n",
      "280/280 [==============================] - 1s 4ms/step - loss: 8.9368e-04 - accuracy: 0.9999 - val_loss: 0.0907 - val_accuracy: 0.9825\n",
      "Epoch 109/150\n",
      "280/280 [==============================] - 1s 4ms/step - loss: 8.6040e-04 - accuracy: 0.9998 - val_loss: 0.0906 - val_accuracy: 0.9810\n",
      "Epoch 110/150\n",
      "280/280 [==============================] - 1s 4ms/step - loss: 0.0031 - accuracy: 0.9990 - val_loss: 0.1001 - val_accuracy: 0.9790\n",
      "Epoch 111/150\n",
      "280/280 [==============================] - 1s 5ms/step - loss: 0.0051 - accuracy: 0.9985 - val_loss: 0.1092 - val_accuracy: 0.9785\n",
      "Epoch 112/150\n",
      "280/280 [==============================] - 1s 4ms/step - loss: 0.0022 - accuracy: 0.9993 - val_loss: 0.0923 - val_accuracy: 0.9826\n",
      "Epoch 113/150\n",
      "280/280 [==============================] - 1s 4ms/step - loss: 0.0018 - accuracy: 0.9997 - val_loss: 0.0881 - val_accuracy: 0.9825\n",
      "Epoch 114/150\n",
      "280/280 [==============================] - 1s 4ms/step - loss: 9.3919e-04 - accuracy: 0.9998 - val_loss: 0.0972 - val_accuracy: 0.9808\n",
      "Epoch 115/150\n",
      "280/280 [==============================] - 1s 4ms/step - loss: 0.0023 - accuracy: 0.9994 - val_loss: 0.0903 - val_accuracy: 0.9825\n",
      "Epoch 116/150\n",
      "280/280 [==============================] - 1s 4ms/step - loss: 0.0051 - accuracy: 0.9988 - val_loss: 0.0905 - val_accuracy: 0.9815\n",
      "Epoch 117/150\n",
      "280/280 [==============================] - 1s 4ms/step - loss: 0.0034 - accuracy: 0.9990 - val_loss: 0.1102 - val_accuracy: 0.9777\n",
      "Epoch 118/150\n",
      "280/280 [==============================] - 1s 4ms/step - loss: 0.0034 - accuracy: 0.9992 - val_loss: 0.0950 - val_accuracy: 0.9810\n",
      "Epoch 119/150\n",
      "280/280 [==============================] - 1s 5ms/step - loss: 0.0016 - accuracy: 0.9994 - val_loss: 0.0848 - val_accuracy: 0.9830\n",
      "Epoch 120/150\n",
      "280/280 [==============================] - 1s 4ms/step - loss: 0.0021 - accuracy: 0.9994 - val_loss: 0.0986 - val_accuracy: 0.9805\n",
      "Epoch 121/150\n",
      "280/280 [==============================] - 1s 4ms/step - loss: 0.0026 - accuracy: 0.9991 - val_loss: 0.0936 - val_accuracy: 0.9818\n",
      "Epoch 122/150\n",
      "280/280 [==============================] - 2s 8ms/step - loss: 0.0019 - accuracy: 0.9995 - val_loss: 0.0926 - val_accuracy: 0.9807\n",
      "Epoch 123/150\n",
      "280/280 [==============================] - 1s 4ms/step - loss: 0.0020 - accuracy: 0.9994 - val_loss: 0.0887 - val_accuracy: 0.9824\n",
      "Epoch 124/150\n",
      "280/280 [==============================] - 1s 4ms/step - loss: 0.0018 - accuracy: 0.9995 - val_loss: 0.0823 - val_accuracy: 0.9845\n",
      "Epoch 125/150\n",
      "280/280 [==============================] - 1s 4ms/step - loss: 0.0017 - accuracy: 0.9996 - val_loss: 0.1017 - val_accuracy: 0.9795\n",
      "Epoch 126/150\n",
      "280/280 [==============================] - 1s 4ms/step - loss: 0.0023 - accuracy: 0.9993 - val_loss: 0.1078 - val_accuracy: 0.9790\n",
      "Epoch 127/150\n",
      "280/280 [==============================] - 1s 4ms/step - loss: 0.0034 - accuracy: 0.9991 - val_loss: 0.0974 - val_accuracy: 0.9806\n",
      "Epoch 128/150\n",
      "280/280 [==============================] - 1s 5ms/step - loss: 0.0018 - accuracy: 0.9994 - val_loss: 0.1005 - val_accuracy: 0.9796\n",
      "Epoch 129/150\n",
      "280/280 [==============================] - 1s 4ms/step - loss: 0.0019 - accuracy: 0.9996 - val_loss: 0.0909 - val_accuracy: 0.9819\n",
      "Epoch 130/150\n",
      "280/280 [==============================] - 1s 4ms/step - loss: 0.0022 - accuracy: 0.9995 - val_loss: 0.0835 - val_accuracy: 0.9831\n",
      "Epoch 131/150\n",
      "280/280 [==============================] - 1s 4ms/step - loss: 5.3370e-04 - accuracy: 0.9999 - val_loss: 0.0843 - val_accuracy: 0.9833\n",
      "Epoch 132/150\n",
      "280/280 [==============================] - 1s 4ms/step - loss: 4.0892e-04 - accuracy: 0.9999 - val_loss: 0.0871 - val_accuracy: 0.9830\n",
      "Epoch 133/150\n",
      "280/280 [==============================] - 1s 4ms/step - loss: 3.2671e-04 - accuracy: 0.9999 - val_loss: 0.0914 - val_accuracy: 0.9836\n",
      "Epoch 134/150\n",
      "280/280 [==============================] - 1s 4ms/step - loss: 6.7795e-04 - accuracy: 0.9999 - val_loss: 0.0990 - val_accuracy: 0.9824\n",
      "Epoch 135/150\n",
      "280/280 [==============================] - 1s 4ms/step - loss: 0.0037 - accuracy: 0.9989 - val_loss: 0.1053 - val_accuracy: 0.9793\n",
      "Epoch 136/150\n",
      "280/280 [==============================] - 1s 4ms/step - loss: 0.0040 - accuracy: 0.9989 - val_loss: 0.1693 - val_accuracy: 0.9715\n",
      "Epoch 137/150\n",
      "280/280 [==============================] - 1s 5ms/step - loss: 0.0053 - accuracy: 0.9986 - val_loss: 0.1010 - val_accuracy: 0.9806\n",
      "Epoch 138/150\n",
      "280/280 [==============================] - 1s 5ms/step - loss: 0.0018 - accuracy: 0.9995 - val_loss: 0.0916 - val_accuracy: 0.9820\n",
      "Epoch 139/150\n",
      "280/280 [==============================] - 1s 5ms/step - loss: 0.0013 - accuracy: 0.9996 - val_loss: 0.0828 - val_accuracy: 0.9844\n",
      "Epoch 140/150\n",
      "280/280 [==============================] - 1s 4ms/step - loss: 0.0017 - accuracy: 0.9995 - val_loss: 0.0950 - val_accuracy: 0.9808\n",
      "Epoch 141/150\n",
      "280/280 [==============================] - 1s 4ms/step - loss: 0.0013 - accuracy: 0.9997 - val_loss: 0.0899 - val_accuracy: 0.9823\n",
      "Epoch 142/150\n",
      "280/280 [==============================] - 1s 4ms/step - loss: 0.0011 - accuracy: 0.9997 - val_loss: 0.0832 - val_accuracy: 0.9837\n",
      "Epoch 143/150\n",
      "280/280 [==============================] - 1s 4ms/step - loss: 3.3487e-04 - accuracy: 0.9999 - val_loss: 0.0810 - val_accuracy: 0.9831\n",
      "Epoch 144/150\n",
      "280/280 [==============================] - 1s 4ms/step - loss: 0.0015 - accuracy: 0.9996 - val_loss: 0.1307 - val_accuracy: 0.9663\n",
      "Epoch 145/150\n",
      "280/280 [==============================] - 1s 5ms/step - loss: 0.0033 - accuracy: 0.9990 - val_loss: 0.1015 - val_accuracy: 0.9808\n",
      "Epoch 146/150\n",
      "280/280 [==============================] - 1s 5ms/step - loss: 0.0020 - accuracy: 0.9993 - val_loss: 0.1024 - val_accuracy: 0.9807\n",
      "Epoch 147/150\n",
      "280/280 [==============================] - 2s 6ms/step - loss: 0.0026 - accuracy: 0.9992 - val_loss: 0.1024 - val_accuracy: 0.9815\n",
      "Epoch 148/150\n",
      "280/280 [==============================] - 2s 6ms/step - loss: 0.0023 - accuracy: 0.9992 - val_loss: 0.1011 - val_accuracy: 0.9796\n",
      "Epoch 149/150\n",
      "280/280 [==============================] - 1s 4ms/step - loss: 0.0014 - accuracy: 0.9996 - val_loss: 0.0884 - val_accuracy: 0.9827\n",
      "Epoch 150/150\n",
      "280/280 [==============================] - 1s 4ms/step - loss: 0.0036 - accuracy: 0.9990 - val_loss: 0.1075 - val_accuracy: 0.9802\n"
     ]
    },
    {
     "data": {
      "text/plain": [
       "<keras.callbacks.History at 0x7f430c95ed90>"
      ]
     },
     "execution_count": 28,
     "metadata": {},
     "output_type": "execute_result"
    }
   ],
   "source": [
    "ffnn.fit(x=X_train, y=y_train, epochs=150, callbacks=[reduceLROnPlateau], batch_size=120, validation_split=0.2)"
   ]
  },
  {
   "cell_type": "markdown",
   "id": "22affb78",
   "metadata": {
    "papermill": {
     "duration": 0.90529,
     "end_time": "2022-05-04T12:33:59.903129",
     "exception": false,
     "start_time": "2022-05-04T12:33:58.997839",
     "status": "completed"
    },
    "tags": []
   },
   "source": [
    "2) Fitting model FFNN (Model API )"
   ]
  },
  {
   "cell_type": "code",
   "execution_count": 29,
   "id": "903af034",
   "metadata": {
    "execution": {
     "iopub.execute_input": "2022-05-04T12:34:01.906696Z",
     "iopub.status.busy": "2022-05-04T12:34:01.902542Z",
     "iopub.status.idle": "2022-05-04T12:36:26.662448Z",
     "shell.execute_reply": "2022-05-04T12:36:26.662954Z"
    },
    "papermill": {
     "duration": 145.808905,
     "end_time": "2022-05-04T12:36:26.663115",
     "exception": false,
     "start_time": "2022-05-04T12:34:00.854210",
     "status": "completed"
    },
    "tags": []
   },
   "outputs": [
    {
     "name": "stdout",
     "output_type": "stream",
     "text": [
      "Epoch 1/100\n",
      "280/280 [==============================] - 2s 5ms/step - loss: 0.4870 - accuracy: 0.9237 - val_loss: 0.4498 - val_accuracy: 0.9163\n",
      "Epoch 2/100\n",
      "280/280 [==============================] - 1s 4ms/step - loss: 0.2310 - accuracy: 0.9729 - val_loss: 0.2286 - val_accuracy: 0.9608\n",
      "Epoch 3/100\n",
      "280/280 [==============================] - 1s 4ms/step - loss: 0.1487 - accuracy: 0.9835 - val_loss: 0.1727 - val_accuracy: 0.9688\n",
      "Epoch 4/100\n",
      "280/280 [==============================] - 1s 4ms/step - loss: 0.1093 - accuracy: 0.9867 - val_loss: 0.1705 - val_accuracy: 0.9637\n",
      "Epoch 5/100\n",
      "280/280 [==============================] - 1s 4ms/step - loss: 0.0811 - accuracy: 0.9906 - val_loss: 0.1247 - val_accuracy: 0.9735\n",
      "Epoch 6/100\n",
      "280/280 [==============================] - 1s 4ms/step - loss: 0.0685 - accuracy: 0.9901 - val_loss: 0.1581 - val_accuracy: 0.9582\n",
      "Epoch 7/100\n",
      "280/280 [==============================] - 1s 4ms/step - loss: 0.0515 - accuracy: 0.9936 - val_loss: 0.1669 - val_accuracy: 0.9565\n",
      "Epoch 8/100\n",
      "280/280 [==============================] - 1s 4ms/step - loss: 0.0443 - accuracy: 0.9935 - val_loss: 0.1020 - val_accuracy: 0.9754\n",
      "Epoch 9/100\n",
      "280/280 [==============================] - 1s 5ms/step - loss: 0.0382 - accuracy: 0.9940 - val_loss: 0.1056 - val_accuracy: 0.9718\n",
      "Epoch 10/100\n",
      "280/280 [==============================] - 1s 4ms/step - loss: 0.0313 - accuracy: 0.9955 - val_loss: 0.1083 - val_accuracy: 0.9706\n",
      "Epoch 11/100\n",
      "280/280 [==============================] - 1s 4ms/step - loss: 0.0286 - accuracy: 0.9952 - val_loss: 0.0853 - val_accuracy: 0.9777\n",
      "Epoch 12/100\n",
      "280/280 [==============================] - 1s 4ms/step - loss: 0.0266 - accuracy: 0.9955 - val_loss: 0.0964 - val_accuracy: 0.9729\n",
      "Epoch 13/100\n",
      "280/280 [==============================] - 1s 4ms/step - loss: 0.0251 - accuracy: 0.9954 - val_loss: 0.1041 - val_accuracy: 0.9730\n",
      "Epoch 14/100\n",
      "280/280 [==============================] - 1s 4ms/step - loss: 0.0233 - accuracy: 0.9955 - val_loss: 0.1033 - val_accuracy: 0.9729\n",
      "Epoch 15/100\n",
      "280/280 [==============================] - 1s 4ms/step - loss: 0.0172 - accuracy: 0.9971 - val_loss: 0.0899 - val_accuracy: 0.9765\n",
      "Epoch 16/100\n",
      "280/280 [==============================] - 1s 4ms/step - loss: 0.0168 - accuracy: 0.9967 - val_loss: 0.0984 - val_accuracy: 0.9714\n",
      "Epoch 17/100\n",
      "280/280 [==============================] - 1s 4ms/step - loss: 0.0183 - accuracy: 0.9960 - val_loss: 0.0915 - val_accuracy: 0.9749\n",
      "Epoch 18/100\n",
      "280/280 [==============================] - 1s 4ms/step - loss: 0.0202 - accuracy: 0.9951 - val_loss: 0.1269 - val_accuracy: 0.9664\n",
      "Epoch 19/100\n",
      "280/280 [==============================] - 1s 4ms/step - loss: 0.0134 - accuracy: 0.9973 - val_loss: 0.0912 - val_accuracy: 0.9761\n",
      "Epoch 20/100\n",
      "280/280 [==============================] - 1s 4ms/step - loss: 0.0119 - accuracy: 0.9976 - val_loss: 0.0800 - val_accuracy: 0.9794\n",
      "Epoch 21/100\n",
      "280/280 [==============================] - 2s 6ms/step - loss: 0.0127 - accuracy: 0.9971 - val_loss: 0.1012 - val_accuracy: 0.9718\n",
      "Epoch 22/100\n",
      "280/280 [==============================] - 1s 4ms/step - loss: 0.0118 - accuracy: 0.9970 - val_loss: 0.1450 - val_accuracy: 0.9652\n",
      "Epoch 23/100\n",
      "280/280 [==============================] - 1s 4ms/step - loss: 0.0115 - accuracy: 0.9971 - val_loss: 0.1229 - val_accuracy: 0.9683\n",
      "Epoch 24/100\n",
      "280/280 [==============================] - 1s 4ms/step - loss: 0.0118 - accuracy: 0.9971 - val_loss: 0.1340 - val_accuracy: 0.9649\n",
      "Epoch 25/100\n",
      "280/280 [==============================] - 1s 5ms/step - loss: 0.0122 - accuracy: 0.9968 - val_loss: 0.0954 - val_accuracy: 0.9743\n",
      "Epoch 26/100\n",
      "280/280 [==============================] - 2s 5ms/step - loss: 0.0121 - accuracy: 0.9971 - val_loss: 0.0789 - val_accuracy: 0.9781\n",
      "Epoch 27/100\n",
      "280/280 [==============================] - 1s 5ms/step - loss: 0.0073 - accuracy: 0.9985 - val_loss: 0.0964 - val_accuracy: 0.9746\n",
      "Epoch 28/100\n",
      "280/280 [==============================] - 1s 4ms/step - loss: 0.0081 - accuracy: 0.9981 - val_loss: 0.1218 - val_accuracy: 0.9689\n",
      "Epoch 29/100\n",
      "280/280 [==============================] - 1s 4ms/step - loss: 0.0072 - accuracy: 0.9984 - val_loss: 0.0774 - val_accuracy: 0.9802\n",
      "Epoch 30/100\n",
      "280/280 [==============================] - 1s 4ms/step - loss: 0.0124 - accuracy: 0.9967 - val_loss: 0.1009 - val_accuracy: 0.9732\n",
      "Epoch 31/100\n",
      "280/280 [==============================] - 1s 4ms/step - loss: 0.0081 - accuracy: 0.9980 - val_loss: 0.0884 - val_accuracy: 0.9777\n",
      "Epoch 32/100\n",
      "280/280 [==============================] - 1s 4ms/step - loss: 0.0078 - accuracy: 0.9979 - val_loss: 0.0934 - val_accuracy: 0.9775\n",
      "Epoch 33/100\n",
      "280/280 [==============================] - 1s 4ms/step - loss: 0.0098 - accuracy: 0.9972 - val_loss: 0.0985 - val_accuracy: 0.9757\n",
      "Epoch 34/100\n",
      "280/280 [==============================] - 1s 4ms/step - loss: 0.0077 - accuracy: 0.9981 - val_loss: 0.0963 - val_accuracy: 0.9777\n",
      "Epoch 35/100\n",
      "280/280 [==============================] - 1s 4ms/step - loss: 0.0079 - accuracy: 0.9979 - val_loss: 0.1095 - val_accuracy: 0.9727\n",
      "Epoch 36/100\n",
      "280/280 [==============================] - 1s 4ms/step - loss: 0.0066 - accuracy: 0.9982 - val_loss: 0.1052 - val_accuracy: 0.9757\n",
      "Epoch 37/100\n",
      "280/280 [==============================] - 1s 5ms/step - loss: 0.0054 - accuracy: 0.9987 - val_loss: 0.0878 - val_accuracy: 0.9795\n",
      "Epoch 38/100\n",
      "280/280 [==============================] - 1s 4ms/step - loss: 0.0057 - accuracy: 0.9984 - val_loss: 0.0892 - val_accuracy: 0.9782\n",
      "Epoch 39/100\n",
      "280/280 [==============================] - 1s 4ms/step - loss: 0.0040 - accuracy: 0.9991 - val_loss: 0.0995 - val_accuracy: 0.9788\n",
      "Epoch 40/100\n",
      "280/280 [==============================] - 1s 4ms/step - loss: 0.0060 - accuracy: 0.9983 - val_loss: 0.0884 - val_accuracy: 0.9800\n",
      "Epoch 41/100\n",
      "280/280 [==============================] - 1s 4ms/step - loss: 0.0077 - accuracy: 0.9979 - val_loss: 0.0946 - val_accuracy: 0.9771\n",
      "Epoch 42/100\n",
      "280/280 [==============================] - 1s 4ms/step - loss: 0.0079 - accuracy: 0.9982 - val_loss: 0.0894 - val_accuracy: 0.9790\n",
      "Epoch 43/100\n",
      "280/280 [==============================] - 1s 4ms/step - loss: 0.0064 - accuracy: 0.9981 - val_loss: 0.0826 - val_accuracy: 0.9790\n",
      "Epoch 44/100\n",
      "280/280 [==============================] - 1s 4ms/step - loss: 0.0068 - accuracy: 0.9981 - val_loss: 0.0948 - val_accuracy: 0.9769\n",
      "Epoch 45/100\n",
      "280/280 [==============================] - 1s 4ms/step - loss: 0.0060 - accuracy: 0.9983 - val_loss: 0.0982 - val_accuracy: 0.9763\n",
      "Epoch 46/100\n",
      "280/280 [==============================] - 1s 4ms/step - loss: 0.0050 - accuracy: 0.9987 - val_loss: 0.0944 - val_accuracy: 0.9779\n",
      "Epoch 47/100\n",
      "280/280 [==============================] - 1s 5ms/step - loss: 0.0043 - accuracy: 0.9989 - val_loss: 0.0917 - val_accuracy: 0.9777\n",
      "Epoch 48/100\n",
      "280/280 [==============================] - 1s 4ms/step - loss: 0.0051 - accuracy: 0.9986 - val_loss: 0.1094 - val_accuracy: 0.9730\n",
      "Epoch 49/100\n",
      "280/280 [==============================] - 2s 6ms/step - loss: 0.0069 - accuracy: 0.9982 - val_loss: 0.0965 - val_accuracy: 0.9758\n",
      "Epoch 50/100\n",
      "280/280 [==============================] - 1s 4ms/step - loss: 0.0041 - accuracy: 0.9987 - val_loss: 0.0805 - val_accuracy: 0.9796\n",
      "Epoch 51/100\n",
      "280/280 [==============================] - 1s 4ms/step - loss: 0.0056 - accuracy: 0.9984 - val_loss: 0.0855 - val_accuracy: 0.9811\n",
      "Epoch 52/100\n",
      "280/280 [==============================] - 1s 5ms/step - loss: 0.0031 - accuracy: 0.9992 - val_loss: 0.0914 - val_accuracy: 0.9799\n",
      "Epoch 53/100\n",
      "280/280 [==============================] - 2s 6ms/step - loss: 0.0064 - accuracy: 0.9980 - val_loss: 0.0886 - val_accuracy: 0.9804\n",
      "Epoch 54/100\n",
      "280/280 [==============================] - 1s 4ms/step - loss: 0.0044 - accuracy: 0.9987 - val_loss: 0.0956 - val_accuracy: 0.9776\n",
      "Epoch 55/100\n",
      "280/280 [==============================] - 1s 5ms/step - loss: 0.0044 - accuracy: 0.9988 - val_loss: 0.0759 - val_accuracy: 0.9815\n",
      "Epoch 56/100\n",
      "280/280 [==============================] - 1s 4ms/step - loss: 0.0034 - accuracy: 0.9993 - val_loss: 0.0992 - val_accuracy: 0.9779\n",
      "Epoch 57/100\n",
      "280/280 [==============================] - 1s 4ms/step - loss: 0.0029 - accuracy: 0.9992 - val_loss: 0.0807 - val_accuracy: 0.9812\n",
      "Epoch 58/100\n",
      "280/280 [==============================] - 1s 4ms/step - loss: 0.0027 - accuracy: 0.9993 - val_loss: 0.0916 - val_accuracy: 0.9804\n",
      "Epoch 59/100\n",
      "280/280 [==============================] - 1s 4ms/step - loss: 0.0036 - accuracy: 0.9991 - val_loss: 0.0922 - val_accuracy: 0.9795\n",
      "Epoch 60/100\n",
      "280/280 [==============================] - 1s 4ms/step - loss: 0.0033 - accuracy: 0.9991 - val_loss: 0.0807 - val_accuracy: 0.9817\n",
      "Epoch 61/100\n",
      "280/280 [==============================] - 1s 4ms/step - loss: 0.0032 - accuracy: 0.9991 - val_loss: 0.1155 - val_accuracy: 0.9676\n",
      "Epoch 62/100\n",
      "280/280 [==============================] - 1s 4ms/step - loss: 0.0049 - accuracy: 0.9986 - val_loss: 0.0998 - val_accuracy: 0.9767\n",
      "Epoch 63/100\n",
      "280/280 [==============================] - 1s 4ms/step - loss: 0.0057 - accuracy: 0.9982 - val_loss: 0.0877 - val_accuracy: 0.9796\n",
      "Epoch 64/100\n",
      "280/280 [==============================] - 1s 4ms/step - loss: 0.0037 - accuracy: 0.9991 - val_loss: 0.0922 - val_accuracy: 0.9787\n",
      "Epoch 65/100\n",
      "280/280 [==============================] - 1s 5ms/step - loss: 0.0046 - accuracy: 0.9988 - val_loss: 0.1068 - val_accuracy: 0.9769\n",
      "Epoch 66/100\n",
      "280/280 [==============================] - 1s 4ms/step - loss: 0.0020 - accuracy: 0.9996 - val_loss: 0.0868 - val_accuracy: 0.9810\n",
      "Epoch 67/100\n",
      "280/280 [==============================] - 1s 4ms/step - loss: 0.0019 - accuracy: 0.9996 - val_loss: 0.0820 - val_accuracy: 0.9811\n",
      "Epoch 68/100\n",
      "280/280 [==============================] - 1s 4ms/step - loss: 0.0029 - accuracy: 0.9993 - val_loss: 0.0793 - val_accuracy: 0.9823\n",
      "Epoch 69/100\n",
      "280/280 [==============================] - 1s 4ms/step - loss: 0.0029 - accuracy: 0.9993 - val_loss: 0.0957 - val_accuracy: 0.9788\n",
      "Epoch 70/100\n",
      "280/280 [==============================] - 1s 4ms/step - loss: 0.0031 - accuracy: 0.9991 - val_loss: 0.1274 - val_accuracy: 0.9742\n",
      "Epoch 71/100\n",
      "280/280 [==============================] - 1s 4ms/step - loss: 0.0055 - accuracy: 0.9984 - val_loss: 0.1131 - val_accuracy: 0.9768\n",
      "Epoch 72/100\n",
      "280/280 [==============================] - 1s 4ms/step - loss: 0.0050 - accuracy: 0.9985 - val_loss: 0.0965 - val_accuracy: 0.9796\n",
      "Epoch 73/100\n",
      "280/280 [==============================] - 1s 4ms/step - loss: 0.0047 - accuracy: 0.9987 - val_loss: 0.0987 - val_accuracy: 0.9790\n",
      "Epoch 74/100\n",
      "280/280 [==============================] - 1s 5ms/step - loss: 0.0035 - accuracy: 0.9991 - val_loss: 0.1016 - val_accuracy: 0.9786\n",
      "Epoch 75/100\n",
      "280/280 [==============================] - 1s 4ms/step - loss: 0.0028 - accuracy: 0.9992 - val_loss: 0.0954 - val_accuracy: 0.9783\n",
      "Epoch 76/100\n",
      "280/280 [==============================] - 1s 5ms/step - loss: 0.0042 - accuracy: 0.9986 - val_loss: 0.0932 - val_accuracy: 0.9800\n",
      "Epoch 77/100\n",
      "280/280 [==============================] - 1s 5ms/step - loss: 0.0021 - accuracy: 0.9995 - val_loss: 0.0956 - val_accuracy: 0.9789\n",
      "Epoch 78/100\n",
      "280/280 [==============================] - 1s 4ms/step - loss: 0.0032 - accuracy: 0.9989 - val_loss: 0.0839 - val_accuracy: 0.9819\n",
      "Epoch 79/100\n",
      "280/280 [==============================] - 1s 5ms/step - loss: 0.0017 - accuracy: 0.9995 - val_loss: 0.0784 - val_accuracy: 0.9832\n",
      "Epoch 80/100\n",
      "280/280 [==============================] - 2s 5ms/step - loss: 0.0014 - accuracy: 0.9997 - val_loss: 0.0960 - val_accuracy: 0.9801\n",
      "Epoch 81/100\n",
      "280/280 [==============================] - 1s 4ms/step - loss: 0.0040 - accuracy: 0.9989 - val_loss: 0.0832 - val_accuracy: 0.9818\n",
      "Epoch 82/100\n",
      "280/280 [==============================] - 1s 4ms/step - loss: 0.0038 - accuracy: 0.9990 - val_loss: 0.0921 - val_accuracy: 0.9790\n",
      "Epoch 83/100\n",
      "280/280 [==============================] - 1s 5ms/step - loss: 0.0027 - accuracy: 0.9993 - val_loss: 0.0770 - val_accuracy: 0.9825\n",
      "Epoch 84/100\n",
      "280/280 [==============================] - 1s 4ms/step - loss: 0.0025 - accuracy: 0.9991 - val_loss: 0.0908 - val_accuracy: 0.9795\n",
      "Epoch 85/100\n",
      "280/280 [==============================] - 1s 4ms/step - loss: 0.0013 - accuracy: 0.9996 - val_loss: 0.0849 - val_accuracy: 0.9826\n",
      "Epoch 86/100\n",
      "280/280 [==============================] - 1s 4ms/step - loss: 8.0166e-04 - accuracy: 0.9998 - val_loss: 0.0826 - val_accuracy: 0.9821\n",
      "Epoch 87/100\n",
      "280/280 [==============================] - 1s 4ms/step - loss: 0.0025 - accuracy: 0.9996 - val_loss: 0.1066 - val_accuracy: 0.9776\n",
      "Epoch 88/100\n",
      "280/280 [==============================] - 1s 4ms/step - loss: 0.0026 - accuracy: 0.9992 - val_loss: 0.1020 - val_accuracy: 0.9799\n",
      "Epoch 89/100\n",
      "280/280 [==============================] - 1s 4ms/step - loss: 0.0056 - accuracy: 0.9984 - val_loss: 0.0963 - val_accuracy: 0.9785\n",
      "Epoch 90/100\n",
      "280/280 [==============================] - 1s 4ms/step - loss: 0.0030 - accuracy: 0.9992 - val_loss: 0.0897 - val_accuracy: 0.9804\n",
      "Epoch 91/100\n",
      "280/280 [==============================] - 1s 4ms/step - loss: 0.0026 - accuracy: 0.9993 - val_loss: 0.0974 - val_accuracy: 0.9798\n",
      "Epoch 92/100\n",
      "280/280 [==============================] - 1s 4ms/step - loss: 0.0025 - accuracy: 0.9993 - val_loss: 0.1093 - val_accuracy: 0.9771\n",
      "Epoch 93/100\n",
      "280/280 [==============================] - 1s 4ms/step - loss: 0.0023 - accuracy: 0.9993 - val_loss: 0.0863 - val_accuracy: 0.9811\n",
      "Epoch 94/100\n",
      "280/280 [==============================] - 1s 4ms/step - loss: 0.0014 - accuracy: 0.9998 - val_loss: 0.0789 - val_accuracy: 0.9821\n",
      "Epoch 95/100\n",
      "280/280 [==============================] - 1s 4ms/step - loss: 9.6874e-04 - accuracy: 0.9999 - val_loss: 0.0921 - val_accuracy: 0.9812\n",
      "Epoch 96/100\n",
      "280/280 [==============================] - 1s 4ms/step - loss: 0.0014 - accuracy: 0.9996 - val_loss: 0.0932 - val_accuracy: 0.9804\n",
      "Epoch 97/100\n",
      "280/280 [==============================] - 1s 4ms/step - loss: 0.0024 - accuracy: 0.9994 - val_loss: 0.1075 - val_accuracy: 0.9786\n",
      "Epoch 98/100\n",
      "280/280 [==============================] - 1s 4ms/step - loss: 0.0045 - accuracy: 0.9988 - val_loss: 0.1075 - val_accuracy: 0.9789\n",
      "Epoch 99/100\n",
      "280/280 [==============================] - 1s 4ms/step - loss: 0.0030 - accuracy: 0.9991 - val_loss: 0.0941 - val_accuracy: 0.9808\n",
      "Epoch 100/100\n",
      "280/280 [==============================] - 1s 4ms/step - loss: 0.0022 - accuracy: 0.9994 - val_loss: 0.0927 - val_accuracy: 0.9804\n"
     ]
    },
    {
     "data": {
      "text/plain": [
       "<keras.callbacks.History at 0x7f430a323d50>"
      ]
     },
     "execution_count": 29,
     "metadata": {},
     "output_type": "execute_result"
    }
   ],
   "source": [
    "ffnn1.fit(x=X_train, y=y_train, epochs=100, callbacks=[reduceLROnPlateau], batch_size=120, validation_split=0.2)"
   ]
  },
  {
   "cell_type": "code",
   "execution_count": 30,
   "id": "e32b6278",
   "metadata": {
    "execution": {
     "iopub.execute_input": "2022-05-04T12:36:29.572786Z",
     "iopub.status.busy": "2022-05-04T12:36:29.571789Z",
     "iopub.status.idle": "2022-05-04T12:36:31.050662Z",
     "shell.execute_reply": "2022-05-04T12:36:31.051359Z",
     "shell.execute_reply.started": "2022-05-04T12:29:01.053847Z"
    },
    "papermill": {
     "duration": 2.911182,
     "end_time": "2022-05-04T12:36:31.051559",
     "exception": false,
     "start_time": "2022-05-04T12:36:28.140377",
     "status": "completed"
    },
    "tags": []
   },
   "outputs": [
    {
     "name": "stdout",
     "output_type": "stream",
     "text": [
      "(28000, 10)\n",
      "(28000,)\n"
     ]
    }
   ],
   "source": [
    "predictions=ffnn.predict(X_test) #make predictions on test images\n",
    "print(predictions.shape) #This will be 28K x 10. For each test image, probability of 10 classes\n",
    "\n",
    "#Decide class label for each test image based on max probability.\n",
    "#This will be vector of size 28K. \n",
    "predictions=np.argmax(predictions,axis=1) \n",
    "print(predictions.shape) \n",
    "\n",
    "\n",
    "#read sample_submission.csv in the dataframe. The dataframe will have 2 columns ImageId and Label\n",
    "sub=pd.read_csv('/kaggle/input/digit-recognizer/sample_submission.csv', header='infer')\n",
    "\n",
    "#\n",
    "\n",
    "sub[\"Label\"]=predictions\n",
    "\n",
    "sub.to_csv('submission.csv', index=False)\n"
   ]
  },
  {
   "cell_type": "code",
   "execution_count": null,
   "id": "3548a4bc",
   "metadata": {
    "papermill": {
     "duration": 1.421832,
     "end_time": "2022-05-04T12:36:33.892298",
     "exception": false,
     "start_time": "2022-05-04T12:36:32.470466",
     "status": "completed"
    },
    "tags": []
   },
   "outputs": [],
   "source": []
  }
 ],
 "metadata": {
  "kernelspec": {
   "display_name": "Python 3",
   "language": "python",
   "name": "python3"
  },
  "language_info": {
   "codemirror_mode": {
    "name": "ipython",
    "version": 3
   },
   "file_extension": ".py",
   "mimetype": "text/x-python",
   "name": "python",
   "nbconvert_exporter": "python",
   "pygments_lexer": "ipython3",
   "version": "3.7.12"
  },
  "papermill": {
   "default_parameters": {},
   "duration": 375.741532,
   "end_time": "2022-05-04T12:36:38.775261",
   "environment_variables": {},
   "exception": null,
   "input_path": "__notebook__.ipynb",
   "output_path": "__notebook__.ipynb",
   "parameters": {},
   "start_time": "2022-05-04T12:30:23.033729",
   "version": "2.3.3"
  }
 },
 "nbformat": 4,
 "nbformat_minor": 5
}
