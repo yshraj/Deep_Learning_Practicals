{
 "cells": [
  {
   "cell_type": "code",
   "execution_count": 1,
   "id": "92eb56a4",
   "metadata": {
    "_cell_guid": "b1076dfc-b9ad-4769-8c92-a6c4dae69d19",
    "_uuid": "8f2839f25d086af736a60e9eeb907d3b93b6e0e5",
    "execution": {
     "iopub.execute_input": "2022-04-19T18:45:03.138820Z",
     "iopub.status.busy": "2022-04-19T18:45:03.131387Z",
     "iopub.status.idle": "2022-04-19T18:45:09.944657Z",
     "shell.execute_reply": "2022-04-19T18:45:09.943909Z",
     "shell.execute_reply.started": "2022-04-19T18:40:57.601620Z"
    },
    "papermill": {
     "duration": 6.835823,
     "end_time": "2022-04-19T18:45:09.944860",
     "exception": false,
     "start_time": "2022-04-19T18:45:03.109037",
     "status": "completed"
    },
    "tags": []
   },
   "outputs": [],
   "source": [
    "import numpy as np\n",
    "import matplotlib.pyplot as plt\n",
    "\n",
    "import tensorflow as tf\n",
    "from tensorflow import keras\n",
    "from keras.datasets import mnist\n",
    "from keras.layers import Dense, Input\n",
    "from keras.models import Model, Sequential\n",
    "from keras.utils.np_utils import to_categorical"
   ]
  },
  {
   "cell_type": "code",
   "execution_count": 2,
   "id": "61d99305",
   "metadata": {
    "execution": {
     "iopub.execute_input": "2022-04-19T18:45:09.986808Z",
     "iopub.status.busy": "2022-04-19T18:45:09.984136Z",
     "iopub.status.idle": "2022-04-19T18:45:10.820440Z",
     "shell.execute_reply": "2022-04-19T18:45:10.821353Z",
     "shell.execute_reply.started": "2022-04-19T18:40:57.613512Z"
    },
    "papermill": {
     "duration": 0.858804,
     "end_time": "2022-04-19T18:45:10.821551",
     "exception": false,
     "start_time": "2022-04-19T18:45:09.962747",
     "status": "completed"
    },
    "tags": []
   },
   "outputs": [
    {
     "name": "stdout",
     "output_type": "stream",
     "text": [
      "Downloading data from https://storage.googleapis.com/tensorflow/tf-keras-datasets/mnist.npz\n",
      "11493376/11490434 [==============================] - 0s 0us/step\n",
      "11501568/11490434 [==============================] - 0s 0us/step\n",
      "X_train: (60000, 28, 28)\n",
      "Y_train: (60000,)\n",
      "X_test : (10000, 28, 28)\n",
      "Y_test : (10000,)\n"
     ]
    }
   ],
   "source": [
    "(x_train, y_train), (x_test, y_test) = mnist.load_data()\n",
    "\n",
    "print('X_train:', x_train.shape)\n",
    "print('Y_train:', y_train.shape)\n",
    "print('X_test :', x_test.shape)\n",
    "print('Y_test :', y_test.shape)"
   ]
  },
  {
   "cell_type": "code",
   "execution_count": 3,
   "id": "a8a488ae",
   "metadata": {
    "execution": {
     "iopub.execute_input": "2022-04-19T18:45:10.869746Z",
     "iopub.status.busy": "2022-04-19T18:45:10.869071Z",
     "iopub.status.idle": "2022-04-19T18:45:11.917080Z",
     "shell.execute_reply": "2022-04-19T18:45:11.917620Z",
     "shell.execute_reply.started": "2022-04-19T18:40:57.837860Z"
    },
    "papermill": {
     "duration": 1.075789,
     "end_time": "2022-04-19T18:45:11.917805",
     "exception": false,
     "start_time": "2022-04-19T18:45:10.842016",
     "status": "completed"
    },
    "tags": []
   },
   "outputs": [
    {
     "name": "stdout",
     "output_type": "stream",
     "text": [
      "X_train: (60000, 784)\n",
      "Y_train: (60000, 10)\n",
      "X_test : (10000, 784)\n",
      "Y_test : (10000, 10)\n"
     ]
    }
   ],
   "source": [
    "x_train = np.reshape(x_train, newshape=(60000, 784)).astype('float64')\n",
    "x_test = np.reshape(x_test, newshape=(10000, 784)).astype('float64')\n",
    "y_train = to_categorical(y_train, num_classes=10)\n",
    "y_test = to_categorical(y_test, num_classes=10)\n",
    "x_train = x_train/255\n",
    "x_test = x_test/255\n",
    "\n",
    "print('X_train:', x_train.shape)\n",
    "print('Y_train:', y_train.shape)\n",
    "print('X_test :', x_test.shape)\n",
    "print('Y_test :', y_test.shape)"
   ]
  },
  {
   "cell_type": "markdown",
   "id": "89534498",
   "metadata": {
    "papermill": {
     "duration": 0.020174,
     "end_time": "2022-04-19T18:45:11.958406",
     "exception": false,
     "start_time": "2022-04-19T18:45:11.938232",
     "status": "completed"
    },
    "tags": []
   },
   "source": [
    "# Autoencoder-1"
   ]
  },
  {
   "cell_type": "code",
   "execution_count": 4,
   "id": "06c152a8",
   "metadata": {
    "execution": {
     "iopub.execute_input": "2022-04-19T18:45:12.006266Z",
     "iopub.status.busy": "2022-04-19T18:45:12.005564Z",
     "iopub.status.idle": "2022-04-19T18:45:12.135301Z",
     "shell.execute_reply": "2022-04-19T18:45:12.134545Z",
     "shell.execute_reply.started": "2022-04-19T18:40:58.005148Z"
    },
    "papermill": {
     "duration": 0.15652,
     "end_time": "2022-04-19T18:45:12.135530",
     "exception": false,
     "start_time": "2022-04-19T18:45:11.979010",
     "status": "completed"
    },
    "tags": []
   },
   "outputs": [
    {
     "name": "stdout",
     "output_type": "stream",
     "text": [
      "Model: \"model\"\n",
      "_________________________________________________________________\n",
      "Layer (type)                 Output Shape              Param #   \n",
      "=================================================================\n",
      "input_1 (InputLayer)         [(None, 784)]             0         \n",
      "_________________________________________________________________\n",
      "dense (Dense)                (None, 100)               78500     \n",
      "_________________________________________________________________\n",
      "dense_1 (Dense)              (None, 784)               79184     \n",
      "=================================================================\n",
      "Total params: 157,684\n",
      "Trainable params: 157,684\n",
      "Non-trainable params: 0\n",
      "_________________________________________________________________\n"
     ]
    },
    {
     "name": "stderr",
     "output_type": "stream",
     "text": [
      "2022-04-19 18:45:12.056401: I tensorflow/core/common_runtime/process_util.cc:146] Creating new thread pool with default inter op setting: 2. Tune using inter_op_parallelism_threads for best performance.\n"
     ]
    }
   ],
   "source": [
    "i1 = Input(shape=(784,))\n",
    "h1 = Dense(100, activation='sigmoid')(i1)\n",
    "o1 = Dense(784, activation='sigmoid')(h1)\n",
    "\n",
    "autoencoder_1 = Model(inputs = i1, outputs = o1)\n",
    "autoencoder_1.compile(loss='mse', optimizer='adam', metrics=['accuracy'])\n",
    "autoencoder_1.summary()"
   ]
  },
  {
   "cell_type": "code",
   "execution_count": 5,
   "id": "086087fa",
   "metadata": {
    "execution": {
     "iopub.execute_input": "2022-04-19T18:45:12.186601Z",
     "iopub.status.busy": "2022-04-19T18:45:12.185397Z",
     "iopub.status.idle": "2022-04-19T18:46:35.632529Z",
     "shell.execute_reply": "2022-04-19T18:46:35.633108Z",
     "shell.execute_reply.started": "2022-04-19T18:40:58.038373Z"
    },
    "papermill": {
     "duration": 83.475696,
     "end_time": "2022-04-19T18:46:35.633318",
     "exception": false,
     "start_time": "2022-04-19T18:45:12.157622",
     "status": "completed"
    },
    "tags": []
   },
   "outputs": [
    {
     "name": "stderr",
     "output_type": "stream",
     "text": [
      "2022-04-19 18:45:13.174751: I tensorflow/compiler/mlir/mlir_graph_optimization_pass.cc:185] None of the MLIR Optimization Passes are enabled (registered 2)\n"
     ]
    },
    {
     "name": "stdout",
     "output_type": "stream",
     "text": [
      "Epoch 1/10\n",
      "1875/1875 [==============================] - 6s 3ms/step - loss: 0.0426 - accuracy: 0.0115\n",
      "Epoch 2/10\n",
      "1875/1875 [==============================] - 7s 4ms/step - loss: 0.0184 - accuracy: 0.0120\n",
      "Epoch 3/10\n",
      "1875/1875 [==============================] - 6s 3ms/step - loss: 0.0119 - accuracy: 0.0115\n",
      "Epoch 4/10\n",
      "1875/1875 [==============================] - 6s 3ms/step - loss: 0.0091 - accuracy: 0.0127\n",
      "Epoch 5/10\n",
      "1875/1875 [==============================] - 6s 3ms/step - loss: 0.0075 - accuracy: 0.0127\n",
      "Epoch 6/10\n",
      "1875/1875 [==============================] - 6s 3ms/step - loss: 0.0062 - accuracy: 0.0133\n",
      "Epoch 7/10\n",
      "1875/1875 [==============================] - 6s 3ms/step - loss: 0.0051 - accuracy: 0.0142\n",
      "Epoch 8/10\n",
      "1875/1875 [==============================] - 7s 4ms/step - loss: 0.0043 - accuracy: 0.0137\n",
      "Epoch 9/10\n",
      "1875/1875 [==============================] - 6s 3ms/step - loss: 0.0038 - accuracy: 0.0147\n",
      "Epoch 10/10\n",
      "1875/1875 [==============================] - 6s 3ms/step - loss: 0.0035 - accuracy: 0.0143\n"
     ]
    }
   ],
   "source": [
    "history1 = autoencoder_1.fit(x_train, x_train, epochs=10)"
   ]
  },
  {
   "cell_type": "code",
   "execution_count": 6,
   "id": "16fec550",
   "metadata": {
    "execution": {
     "iopub.execute_input": "2022-04-19T18:46:36.591872Z",
     "iopub.status.busy": "2022-04-19T18:46:36.591097Z",
     "iopub.status.idle": "2022-04-19T18:46:37.063218Z",
     "shell.execute_reply": "2022-04-19T18:46:37.062483Z",
     "shell.execute_reply.started": "2022-04-19T18:41:40.478352Z"
    },
    "papermill": {
     "duration": 0.953821,
     "end_time": "2022-04-19T18:46:37.063379",
     "exception": false,
     "start_time": "2022-04-19T18:46:36.109558",
     "status": "completed"
    },
    "tags": []
   },
   "outputs": [
    {
     "data": {
      "text/plain": [
       "Text(0.5, 1.0, 'Predicted')"
      ]
     },
     "execution_count": 6,
     "metadata": {},
     "output_type": "execute_result"
    },
    {
     "data": {
      "image/png": "[encoded data removed]",
      "text/plain": [
       "<Figure size 432x288 with 2 Axes>"
      ]
     },
     "metadata": {
      "needs_background": "light"
     },
     "output_type": "display_data"
    }
   ],
   "source": [
    "original_img = x_train[0].reshape(28,28)\n",
    "predicted_img = autoencoder_1.predict(x_train[0].reshape(1,784))[0].reshape(28,28)\n",
    "\n",
    "fig, (ax1, ax2) = plt.subplots(1,2)\n",
    "ax1.imshow(original_img, cmap='gray')\n",
    "ax1.set_title('Original')\n",
    "ax2.imshow(predicted_img, cmap='gray')\n",
    "ax2.set_title('Predicted')"
   ]
  },
  {
   "cell_type": "code",
   "execution_count": 7,
   "id": "4a0f3794",
   "metadata": {
    "execution": {
     "iopub.execute_input": "2022-04-19T18:46:38.009286Z",
     "iopub.status.busy": "2022-04-19T18:46:38.008424Z",
     "iopub.status.idle": "2022-04-19T18:46:40.971347Z",
     "shell.execute_reply": "2022-04-19T18:46:40.970780Z",
     "shell.execute_reply.started": "2022-04-19T18:41:40.850548Z"
    },
    "papermill": {
     "duration": 3.437861,
     "end_time": "2022-04-19T18:46:40.971519",
     "exception": false,
     "start_time": "2022-04-19T18:46:37.533658",
     "status": "completed"
    },
    "tags": []
   },
   "outputs": [],
   "source": [
    "ae1_hidden_output = autoencoder_1.layers[1].output\n",
    "trimmed_ae1 = Model(inputs=i1, outputs=ae1_hidden_output)\n",
    "x_train_ae1 = trimmed_ae1.predict(x_train)\n",
    "x_test_ae1 = trimmed_ae1.predict(x_test)"
   ]
  },
  {
   "cell_type": "markdown",
   "id": "6256b59d",
   "metadata": {
    "papermill": {
     "duration": 0.470188,
     "end_time": "2022-04-19T18:46:41.929258",
     "exception": false,
     "start_time": "2022-04-19T18:46:41.459070",
     "status": "completed"
    },
    "tags": []
   },
   "source": [
    "# Autoencoder 2"
   ]
  },
  {
   "cell_type": "code",
   "execution_count": 8,
   "id": "1125f4cd",
   "metadata": {
    "execution": {
     "iopub.execute_input": "2022-04-19T18:46:42.870095Z",
     "iopub.status.busy": "2022-04-19T18:46:42.869329Z",
     "iopub.status.idle": "2022-04-19T18:46:42.901686Z",
     "shell.execute_reply": "2022-04-19T18:46:42.902603Z",
     "shell.execute_reply.started": "2022-04-19T18:41:42.424837Z"
    },
    "papermill": {
     "duration": 0.504723,
     "end_time": "2022-04-19T18:46:42.902837",
     "exception": false,
     "start_time": "2022-04-19T18:46:42.398114",
     "status": "completed"
    },
    "tags": []
   },
   "outputs": [
    {
     "name": "stdout",
     "output_type": "stream",
     "text": [
      "Model: \"model_2\"\n",
      "_________________________________________________________________\n",
      "Layer (type)                 Output Shape              Param #   \n",
      "=================================================================\n",
      "input_2 (InputLayer)         [(None, 100)]             0         \n",
      "_________________________________________________________________\n",
      "dense_2 (Dense)              (None, 50)                5050      \n",
      "_________________________________________________________________\n",
      "dense_3 (Dense)              (None, 100)               5100      \n",
      "=================================================================\n",
      "Total params: 10,150\n",
      "Trainable params: 10,150\n",
      "Non-trainable params: 0\n",
      "_________________________________________________________________\n"
     ]
    }
   ],
   "source": [
    "i2 = Input(shape=(100,))\n",
    "h2 = Dense(50, activation='sigmoid')(i2)\n",
    "o2 = Dense(100, activation='sigmoid')(h2)\n",
    "autoencoder_2 = Model(inputs=i2, outputs=o2)\n",
    "autoencoder_2.summary()\n",
    "\n",
    "autoencoder_2.compile(loss='mse', optimizer='adam', metrics=['accuracy'])"
   ]
  },
  {
   "cell_type": "code",
   "execution_count": 9,
   "id": "3e1d84d3",
   "metadata": {
    "execution": {
     "iopub.execute_input": "2022-04-19T18:46:43.878629Z",
     "iopub.status.busy": "2022-04-19T18:46:43.863278Z",
     "iopub.status.idle": "2022-04-19T18:47:06.074633Z",
     "shell.execute_reply": "2022-04-19T18:47:06.075313Z",
     "shell.execute_reply.started": "2022-04-19T18:41:42.451536Z"
    },
    "papermill": {
     "duration": 22.70277,
     "end_time": "2022-04-19T18:47:06.075560",
     "exception": false,
     "start_time": "2022-04-19T18:46:43.372790",
     "status": "completed"
    },
    "tags": []
   },
   "outputs": [
    {
     "name": "stdout",
     "output_type": "stream",
     "text": [
      "Epoch 1/5\n",
      "1875/1875 [==============================] - 4s 2ms/step - loss: 0.0529 - accuracy: 0.0441\n",
      "Epoch 2/5\n",
      "1875/1875 [==============================] - 5s 2ms/step - loss: 0.0289 - accuracy: 0.0926\n",
      "Epoch 3/5\n",
      "1875/1875 [==============================] - 4s 2ms/step - loss: 0.0240 - accuracy: 0.1206\n",
      "Epoch 4/5\n",
      "1875/1875 [==============================] - 4s 2ms/step - loss: 0.0228 - accuracy: 0.1351\n",
      "Epoch 5/5\n",
      "1875/1875 [==============================] - 5s 3ms/step - loss: 0.0221 - accuracy: 0.1408\n"
     ]
    },
    {
     "data": {
      "text/plain": [
       "<keras.callbacks.History at 0x7f645403edd0>"
      ]
     },
     "execution_count": 9,
     "metadata": {},
     "output_type": "execute_result"
    }
   ],
   "source": [
    "autoencoder_2.fit(x_train_ae1, x_train_ae1, epochs=5)"
   ]
  },
  {
   "cell_type": "code",
   "execution_count": 10,
   "id": "7332da28",
   "metadata": {
    "execution": {
     "iopub.execute_input": "2022-04-19T18:47:07.333218Z",
     "iopub.status.busy": "2022-04-19T18:47:07.332547Z",
     "iopub.status.idle": "2022-04-19T18:47:09.444514Z",
     "shell.execute_reply": "2022-04-19T18:47:09.443869Z",
     "shell.execute_reply.started": "2022-04-19T18:41:58.095038Z"
    },
    "papermill": {
     "duration": 2.746906,
     "end_time": "2022-04-19T18:47:09.444686",
     "exception": false,
     "start_time": "2022-04-19T18:47:06.697780",
     "status": "completed"
    },
    "tags": []
   },
   "outputs": [],
   "source": [
    "ae2_hidden_output = autoencoder_2.layers[1].output\n",
    "trimmed_ae2 = Model(inputs=i2, outputs=ae2_hidden_output)\n",
    "x_train_ae2 = trimmed_ae2.predict(x_train_ae1)\n",
    "x_test_ae2 = trimmed_ae2.predict(x_test_ae1)"
   ]
  },
  {
   "cell_type": "code",
   "execution_count": 11,
   "id": "bbf7c360",
   "metadata": {
    "execution": {
     "iopub.execute_input": "2022-04-19T18:47:10.704822Z",
     "iopub.status.busy": "2022-04-19T18:47:10.704169Z",
     "iopub.status.idle": "2022-04-19T18:47:10.730072Z",
     "shell.execute_reply": "2022-04-19T18:47:10.731023Z",
     "shell.execute_reply.started": "2022-04-19T18:41:59.489040Z"
    },
    "papermill": {
     "duration": 0.659021,
     "end_time": "2022-04-19T18:47:10.731375",
     "exception": false,
     "start_time": "2022-04-19T18:47:10.072354",
     "status": "completed"
    },
    "tags": []
   },
   "outputs": [
    {
     "name": "stdout",
     "output_type": "stream",
     "text": [
      "Model: \"model_4\"\n",
      "_________________________________________________________________\n",
      "Layer (type)                 Output Shape              Param #   \n",
      "=================================================================\n",
      "input_3 (InputLayer)         [(None, 50)]              0         \n",
      "_________________________________________________________________\n",
      "dense_4 (Dense)              (None, 10)                510       \n",
      "=================================================================\n",
      "Total params: 510\n",
      "Trainable params: 510\n",
      "Non-trainable params: 0\n",
      "_________________________________________________________________\n"
     ]
    }
   ],
   "source": [
    "i3 = Input(shape=(50,))\n",
    "o3 = Dense(10, activation='softmax')(i3)\n",
    "snn = Model(inputs=i3, outputs=o3)\n",
    "snn.compile(loss='categorical_crossentropy', metrics=['accuracy'], optimizer='adam')\n",
    "snn.summary()"
   ]
  },
  {
   "cell_type": "code",
   "execution_count": 12,
   "id": "beace607",
   "metadata": {
    "execution": {
     "iopub.execute_input": "2022-04-19T18:47:11.994109Z",
     "iopub.status.busy": "2022-04-19T18:47:11.993422Z",
     "iopub.status.idle": "2022-04-19T18:48:06.133525Z",
     "shell.execute_reply": "2022-04-19T18:48:06.132822Z",
     "shell.execute_reply.started": "2022-04-19T18:41:59.511186Z"
    },
    "papermill": {
     "duration": 54.769724,
     "end_time": "2022-04-19T18:48:06.133682",
     "exception": false,
     "start_time": "2022-04-19T18:47:11.363958",
     "status": "completed"
    },
    "tags": []
   },
   "outputs": [
    {
     "name": "stdout",
     "output_type": "stream",
     "text": [
      "Epoch 1/20\n",
      "1875/1875 [==============================] - 3s 1ms/step - loss: 1.5614 - accuracy: 0.6274\n",
      "Epoch 2/20\n",
      "1875/1875 [==============================] - 3s 1ms/step - loss: 0.8555 - accuracy: 0.8195\n",
      "Epoch 3/20\n",
      "1875/1875 [==============================] - 3s 1ms/step - loss: 0.6575 - accuracy: 0.8387\n",
      "Epoch 4/20\n",
      "1875/1875 [==============================] - 3s 1ms/step - loss: 0.5734 - accuracy: 0.8481\n",
      "Epoch 5/20\n",
      "1875/1875 [==============================] - 3s 1ms/step - loss: 0.5282 - accuracy: 0.8543\n",
      "Epoch 6/20\n",
      "1875/1875 [==============================] - 3s 1ms/step - loss: 0.5003 - accuracy: 0.8578\n",
      "Epoch 7/20\n",
      "1875/1875 [==============================] - 3s 1ms/step - loss: 0.4816 - accuracy: 0.8606\n",
      "Epoch 8/20\n",
      "1875/1875 [==============================] - 3s 1ms/step - loss: 0.4680 - accuracy: 0.8633\n",
      "Epoch 9/20\n",
      "1875/1875 [==============================] - 3s 2ms/step - loss: 0.4577 - accuracy: 0.8645\n",
      "Epoch 10/20\n",
      "1875/1875 [==============================] - 3s 1ms/step - loss: 0.4496 - accuracy: 0.8656\n",
      "Epoch 11/20\n",
      "1875/1875 [==============================] - 3s 1ms/step - loss: 0.4432 - accuracy: 0.8676\n",
      "Epoch 12/20\n",
      "1875/1875 [==============================] - 3s 2ms/step - loss: 0.4379 - accuracy: 0.8683\n",
      "Epoch 13/20\n",
      "1875/1875 [==============================] - 3s 1ms/step - loss: 0.4336 - accuracy: 0.8688\n",
      "Epoch 14/20\n",
      "1875/1875 [==============================] - 3s 1ms/step - loss: 0.4300 - accuracy: 0.8695\n",
      "Epoch 15/20\n",
      "1875/1875 [==============================] - 3s 1ms/step - loss: 0.4268 - accuracy: 0.8702\n",
      "Epoch 16/20\n",
      "1875/1875 [==============================] - 3s 1ms/step - loss: 0.4241 - accuracy: 0.8713\n",
      "Epoch 17/20\n",
      "1875/1875 [==============================] - 3s 1ms/step - loss: 0.4218 - accuracy: 0.8711\n",
      "Epoch 18/20\n",
      "1875/1875 [==============================] - 3s 1ms/step - loss: 0.4198 - accuracy: 0.8721\n",
      "Epoch 19/20\n",
      "1875/1875 [==============================] - 3s 1ms/step - loss: 0.4179 - accuracy: 0.8721\n",
      "Epoch 20/20\n",
      "1875/1875 [==============================] - 3s 1ms/step - loss: 0.4163 - accuracy: 0.8723\n"
     ]
    },
    {
     "data": {
      "text/plain": [
       "<keras.callbacks.History at 0x7f645400c5d0>"
      ]
     },
     "execution_count": 12,
     "metadata": {},
     "output_type": "execute_result"
    }
   ],
   "source": [
    "snn.fit(x_train_ae2, y_train, epochs=20)"
   ]
  },
  {
   "cell_type": "code",
   "execution_count": 13,
   "id": "5524a83c",
   "metadata": {
    "execution": {
     "iopub.execute_input": "2022-04-19T18:48:08.276144Z",
     "iopub.status.busy": "2022-04-19T18:48:08.275106Z",
     "iopub.status.idle": "2022-04-19T18:48:08.303667Z",
     "shell.execute_reply": "2022-04-19T18:48:08.304218Z",
     "shell.execute_reply.started": "2022-04-19T18:42:38.343381Z"
    },
    "papermill": {
     "duration": 1.072559,
     "end_time": "2022-04-19T18:48:08.304398",
     "exception": false,
     "start_time": "2022-04-19T18:48:07.231839",
     "status": "completed"
    },
    "tags": []
   },
   "outputs": [
    {
     "name": "stdout",
     "output_type": "stream",
     "text": [
      "Model: \"sequential\"\n",
      "_________________________________________________________________\n",
      "Layer (type)                 Output Shape              Param #   \n",
      "=================================================================\n",
      "dense (Dense)                (None, 100)               78500     \n",
      "_________________________________________________________________\n",
      "dense_2 (Dense)              (None, 50)                5050      \n",
      "_________________________________________________________________\n",
      "dense_4 (Dense)              (None, 10)                510       \n",
      "=================================================================\n",
      "Total params: 84,060\n",
      "Trainable params: 84,060\n",
      "Non-trainable params: 0\n",
      "_________________________________________________________________\n"
     ]
    }
   ],
   "source": [
    "model = Sequential()\n",
    "model.add(autoencoder_1.layers[0])\n",
    "model.add(autoencoder_1.layers[1])\n",
    "model.add(autoencoder_2.layers[1])\n",
    "model.add(snn.layers[-1])\n",
    "model.compile(loss='categorical_crossentropy', metrics=['accuracy'], optimizer='adam')\n",
    "model.summary()"
   ]
  },
  {
   "cell_type": "code",
   "execution_count": 14,
   "id": "88c30531",
   "metadata": {
    "execution": {
     "iopub.execute_input": "2022-04-19T18:48:10.451774Z",
     "iopub.status.busy": "2022-04-19T18:48:10.450428Z",
     "iopub.status.idle": "2022-04-19T18:50:07.104934Z",
     "shell.execute_reply": "2022-04-19T18:50:07.105426Z",
     "shell.execute_reply.started": "2022-04-19T18:42:38.370620Z"
    },
    "papermill": {
     "duration": 117.715993,
     "end_time": "2022-04-19T18:50:07.105648",
     "exception": false,
     "start_time": "2022-04-19T18:48:09.389655",
     "status": "completed"
    },
    "tags": []
   },
   "outputs": [
    {
     "name": "stdout",
     "output_type": "stream",
     "text": [
      "Epoch 1/20\n",
      "1875/1875 [==============================] - 6s 3ms/step - loss: 0.2737 - accuracy: 0.9185\n",
      "Epoch 2/20\n",
      "1875/1875 [==============================] - 6s 3ms/step - loss: 0.1678 - accuracy: 0.9513\n",
      "Epoch 3/20\n",
      "1875/1875 [==============================] - 6s 3ms/step - loss: 0.1228 - accuracy: 0.9649\n",
      "Epoch 4/20\n",
      "1875/1875 [==============================] - 6s 3ms/step - loss: 0.0953 - accuracy: 0.9719\n",
      "Epoch 5/20\n",
      "1875/1875 [==============================] - 6s 3ms/step - loss: 0.0766 - accuracy: 0.9774\n",
      "Epoch 6/20\n",
      "1875/1875 [==============================] - 6s 3ms/step - loss: 0.0625 - accuracy: 0.9822\n",
      "Epoch 7/20\n",
      "1875/1875 [==============================] - 6s 3ms/step - loss: 0.0516 - accuracy: 0.9849\n",
      "Epoch 8/20\n",
      "1875/1875 [==============================] - 6s 3ms/step - loss: 0.0415 - accuracy: 0.9878\n",
      "Epoch 9/20\n",
      "1875/1875 [==============================] - 6s 3ms/step - loss: 0.0353 - accuracy: 0.9898\n",
      "Epoch 10/20\n",
      "1875/1875 [==============================] - 6s 3ms/step - loss: 0.0277 - accuracy: 0.9925\n",
      "Epoch 11/20\n",
      "1875/1875 [==============================] - 6s 3ms/step - loss: 0.0240 - accuracy: 0.9937\n",
      "Epoch 12/20\n",
      "1875/1875 [==============================] - 5s 3ms/step - loss: 0.0195 - accuracy: 0.9954\n",
      "Epoch 13/20\n",
      "1875/1875 [==============================] - 6s 3ms/step - loss: 0.0168 - accuracy: 0.9960\n",
      "Epoch 14/20\n",
      "1875/1875 [==============================] - 6s 3ms/step - loss: 0.0122 - accuracy: 0.9975\n",
      "Epoch 15/20\n",
      "1875/1875 [==============================] - 6s 3ms/step - loss: 0.0118 - accuracy: 0.9976\n",
      "Epoch 16/20\n",
      "1875/1875 [==============================] - 6s 3ms/step - loss: 0.0090 - accuracy: 0.9984\n",
      "Epoch 17/20\n",
      "1875/1875 [==============================] - 6s 3ms/step - loss: 0.0086 - accuracy: 0.9982\n",
      "Epoch 18/20\n",
      "1875/1875 [==============================] - 6s 3ms/step - loss: 0.0071 - accuracy: 0.9987\n",
      "Epoch 19/20\n",
      "1875/1875 [==============================] - 6s 3ms/step - loss: 0.0062 - accuracy: 0.9988\n",
      "Epoch 20/20\n",
      "1875/1875 [==============================] - 6s 3ms/step - loss: 0.0047 - accuracy: 0.9993\n"
     ]
    },
    {
     "data": {
      "text/plain": [
       "<keras.callbacks.History at 0x7f6446e6ef90>"
      ]
     },
     "execution_count": 14,
     "metadata": {},
     "output_type": "execute_result"
    }
   ],
   "source": [
    "model.fit(x_train, y_train, epochs=20)"
   ]
  },
  {
   "cell_type": "code",
   "execution_count": 15,
   "id": "31564e82",
   "metadata": {
    "execution": {
     "iopub.execute_input": "2022-04-19T18:50:10.859594Z",
     "iopub.status.busy": "2022-04-19T18:50:10.858902Z",
     "iopub.status.idle": "2022-04-19T18:50:11.681490Z",
     "shell.execute_reply": "2022-04-19T18:50:11.680959Z",
     "shell.execute_reply.started": "2022-04-19T18:43:59.809362Z"
    },
    "papermill": {
     "duration": 2.717558,
     "end_time": "2022-04-19T18:50:11.681645",
     "exception": false,
     "start_time": "2022-04-19T18:50:08.964087",
     "status": "completed"
    },
    "tags": []
   },
   "outputs": [
    {
     "name": "stdout",
     "output_type": "stream",
     "text": [
      "313/313 [==============================] - 1s 2ms/step - loss: 0.1068 - accuracy: 0.9749\n"
     ]
    },
    {
     "data": {
      "text/plain": [
       "[0.10676345229148865, 0.9749000072479248]"
      ]
     },
     "execution_count": 15,
     "metadata": {},
     "output_type": "execute_result"
    }
   ],
   "source": [
    "model.evaluate(x_test, y_test)"
   ]
  }
 ],
 "metadata": {
  "kernelspec": {
   "display_name": "Python 3",
   "language": "python",
   "name": "python3"
  },
  "language_info": {
   "codemirror_mode": {
    "name": "ipython",
    "version": 3
   },
   "file_extension": ".py",
   "mimetype": "text/x-python",
   "name": "python",
   "nbconvert_exporter": "python",
   "pygments_lexer": "ipython3",
   "version": "3.7.12"
  },
  "papermill": {
   "default_parameters": {},
   "duration": 325.184759,
   "end_time": "2022-04-19T18:50:17.153568",
   "environment_variables": {},
   "exception": null,
   "input_path": "__notebook__.ipynb",
   "output_path": "__notebook__.ipynb",
   "parameters": {},
   "start_time": "2022-04-19T18:44:51.968809",
   "version": "2.3.3"
  }
 },
 "nbformat": 4,
 "nbformat_minor": 5
}
