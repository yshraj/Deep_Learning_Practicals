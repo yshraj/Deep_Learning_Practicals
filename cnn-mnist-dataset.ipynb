{
 "cells": [
  {
   "cell_type": "code",
   "execution_count": 1,
   "id": "48e8ad4f",
   "metadata": {
    "_cell_guid": "b1076dfc-b9ad-4769-8c92-a6c4dae69d19",
    "_uuid": "8f2839f25d086af736a60e9eeb907d3b93b6e0e5",
    "execution": {
     "iopub.execute_input": "2022-03-02T04:52:34.508038Z",
     "iopub.status.busy": "2022-03-02T04:52:34.507011Z",
     "iopub.status.idle": "2022-03-02T04:52:34.517029Z",
     "shell.execute_reply": "2022-03-02T04:52:34.517904Z",
     "shell.execute_reply.started": "2022-03-02T04:41:38.818705Z"
    },
    "papermill": {
     "duration": 0.043651,
     "end_time": "2022-03-02T04:52:34.518316",
     "exception": false,
     "start_time": "2022-03-02T04:52:34.474665",
     "status": "completed"
    },
    "tags": []
   },
   "outputs": [
    {
     "name": "stdout",
     "output_type": "stream",
     "text": [
      "/kaggle/input/digit-recognizer/sample_submission.csv\n",
      "/kaggle/input/digit-recognizer/train.csv\n",
      "/kaggle/input/digit-recognizer/test.csv\n"
     ]
    }
   ],
   "source": [
    "# This Python 3 environment comes with many helpful analytics libraries installed\n",
    "# It is defined by the kaggle/python Docker image: https://github.com/kaggle/docker-python\n",
    "# For example, here's several helpful packages to load\n",
    "\n",
    "import numpy as np # linear algebra\n",
    "import pandas as pd # data processing, CSV file I/O (e.g. pd.read_csv)\n",
    "\n",
    "# Input data files are available in the read-only \"../input/\" directory\n",
    "# For example, running this (by clicking run or pressing Shift+Enter) will list all files under the input directory\n",
    "\n",
    "import os\n",
    "for dirname, _, filenames in os.walk('/kaggle/input'):\n",
    "    for filename in filenames:\n",
    "        print(os.path.join(dirname, filename))\n",
    "\n",
    "# You can write up to 20GB to the current directory (/kaggle/working/) that gets preserved as output when you create a version using \"Save & Run All\" \n",
    "# You can also write temporary files to /kaggle/temp/, but they won't be saved outside of the current session"
   ]
  },
  {
   "cell_type": "code",
   "execution_count": 2,
   "id": "0539feb4",
   "metadata": {
    "execution": {
     "iopub.execute_input": "2022-03-02T04:52:34.560533Z",
     "iopub.status.busy": "2022-03-02T04:52:34.559744Z",
     "iopub.status.idle": "2022-03-02T04:52:41.456532Z",
     "shell.execute_reply": "2022-03-02T04:52:41.455954Z",
     "shell.execute_reply.started": "2022-03-02T04:41:41.042001Z"
    },
    "papermill": {
     "duration": 6.919524,
     "end_time": "2022-03-02T04:52:41.456703",
     "exception": false,
     "start_time": "2022-03-02T04:52:34.537179",
     "status": "completed"
    },
    "tags": []
   },
   "outputs": [],
   "source": [
    "import numpy as np \n",
    "import pandas as pd\n",
    "import tensorflow as tf\n",
    "\n",
    "from tensorflow import keras\n",
    "from keras import Sequential\n",
    "from keras.layers import Dense, Conv2D, Flatten, BatchNormalization, Activation, MaxPooling2D\n",
    "from keras.utils.np_utils import to_categorical\n",
    "from keras.callbacks import ReduceLROnPlateau\n",
    "from keras.preprocessing.image import ImageDataGenerator\n",
    "from sklearn.model_selection import train_test_split"
   ]
  },
  {
   "cell_type": "code",
   "execution_count": 3,
   "id": "2c84ebec",
   "metadata": {
    "execution": {
     "iopub.execute_input": "2022-03-02T04:52:41.499184Z",
     "iopub.status.busy": "2022-03-02T04:52:41.498308Z",
     "iopub.status.idle": "2022-03-02T04:52:48.086369Z",
     "shell.execute_reply": "2022-03-02T04:52:48.085332Z",
     "shell.execute_reply.started": "2022-03-02T04:41:45.119934Z"
    },
    "papermill": {
     "duration": 6.611984,
     "end_time": "2022-03-02T04:52:48.086515",
     "exception": false,
     "start_time": "2022-03-02T04:52:41.474531",
     "status": "completed"
    },
    "tags": []
   },
   "outputs": [],
   "source": [
    "X_train_full=pd.read_csv('/kaggle/input/digit-recognizer/train.csv', header='infer').values\n",
    "X_test=pd.read_csv('/kaggle/input/digit-recognizer/test.csv', header='infer').values\n"
   ]
  },
  {
   "cell_type": "code",
   "execution_count": 4,
   "id": "6cbde184",
   "metadata": {
    "execution": {
     "iopub.execute_input": "2022-03-02T04:52:48.126201Z",
     "iopub.status.busy": "2022-03-02T04:52:48.125141Z",
     "iopub.status.idle": "2022-03-02T04:52:48.128305Z",
     "shell.execute_reply": "2022-03-02T04:52:48.127754Z",
     "shell.execute_reply.started": "2022-03-02T04:41:51.710186Z"
    },
    "papermill": {
     "duration": 0.024661,
     "end_time": "2022-03-02T04:52:48.128449",
     "exception": false,
     "start_time": "2022-03-02T04:52:48.103788",
     "status": "completed"
    },
    "tags": []
   },
   "outputs": [],
   "source": [
    "X_train=X_train_full[:,1:]\n",
    "y_train=X_train_full[:,0]\n",
    "\n"
   ]
  },
  {
   "cell_type": "code",
   "execution_count": 5,
   "id": "a123facb",
   "metadata": {
    "execution": {
     "iopub.execute_input": "2022-03-02T04:52:48.168652Z",
     "iopub.status.busy": "2022-03-02T04:52:48.167417Z",
     "iopub.status.idle": "2022-03-02T04:52:48.284699Z",
     "shell.execute_reply": "2022-03-02T04:52:48.284104Z",
     "shell.execute_reply.started": "2022-03-02T04:41:51.727754Z"
    },
    "papermill": {
     "duration": 0.139564,
     "end_time": "2022-03-02T04:52:48.284891",
     "exception": false,
     "start_time": "2022-03-02T04:52:48.145327",
     "status": "completed"
    },
    "tags": []
   },
   "outputs": [],
   "source": [
    "X_train = (X_train.astype(np.float32))\n",
    "X_test = (X_test.astype(np.float32))"
   ]
  },
  {
   "cell_type": "code",
   "execution_count": 6,
   "id": "c50fdeed",
   "metadata": {
    "execution": {
     "iopub.execute_input": "2022-03-02T04:52:48.325487Z",
     "iopub.status.busy": "2022-03-02T04:52:48.324497Z",
     "iopub.status.idle": "2022-03-02T04:52:48.327455Z",
     "shell.execute_reply": "2022-03-02T04:52:48.328136Z",
     "shell.execute_reply.started": "2022-03-02T04:41:51.889241Z"
    },
    "papermill": {
     "duration": 0.026546,
     "end_time": "2022-03-02T04:52:48.328293",
     "exception": false,
     "start_time": "2022-03-02T04:52:48.301747",
     "status": "completed"
    },
    "tags": []
   },
   "outputs": [],
   "source": [
    "X_train=X_train.reshape(-1,28,28,1)\n",
    "X_test=X_test.reshape(-1,28,28,1)\n"
   ]
  },
  {
   "cell_type": "code",
   "execution_count": 7,
   "id": "cb123eb4",
   "metadata": {
    "execution": {
     "iopub.execute_input": "2022-03-02T04:52:48.366421Z",
     "iopub.status.busy": "2022-03-02T04:52:48.363790Z",
     "iopub.status.idle": "2022-03-02T04:52:48.372530Z",
     "shell.execute_reply": "2022-03-02T04:52:48.371934Z",
     "shell.execute_reply.started": "2022-03-02T04:41:51.904842Z"
    },
    "papermill": {
     "duration": 0.027608,
     "end_time": "2022-03-02T04:52:48.372670",
     "exception": false,
     "start_time": "2022-03-02T04:52:48.345062",
     "status": "completed"
    },
    "tags": []
   },
   "outputs": [],
   "source": [
    "y_train_vectors=to_categorical(y_train)\n",
    "\n"
   ]
  },
  {
   "cell_type": "code",
   "execution_count": 8,
   "id": "5081eaa3",
   "metadata": {
    "execution": {
     "iopub.execute_input": "2022-03-02T04:52:48.412210Z",
     "iopub.status.busy": "2022-03-02T04:52:48.411290Z",
     "iopub.status.idle": "2022-03-02T04:52:48.792411Z",
     "shell.execute_reply": "2022-03-02T04:52:48.791649Z",
     "shell.execute_reply.started": "2022-03-02T04:41:51.920068Z"
    },
    "papermill": {
     "duration": 0.403297,
     "end_time": "2022-03-02T04:52:48.792558",
     "exception": false,
     "start_time": "2022-03-02T04:52:48.389261",
     "status": "completed"
    },
    "tags": []
   },
   "outputs": [],
   "source": [
    "X_train, X_val, y_train, y_val= train_test_split(X_train, y_train_vectors, test_size=0.2, random_state=2)"
   ]
  },
  {
   "cell_type": "code",
   "execution_count": 9,
   "id": "4797478a",
   "metadata": {
    "execution": {
     "iopub.execute_input": "2022-03-02T04:52:48.836919Z",
     "iopub.status.busy": "2022-03-02T04:52:48.831039Z",
     "iopub.status.idle": "2022-03-02T04:52:52.104958Z",
     "shell.execute_reply": "2022-03-02T04:52:52.104328Z",
     "shell.execute_reply.started": "2022-03-02T04:41:52.294229Z"
    },
    "papermill": {
     "duration": 3.296147,
     "end_time": "2022-03-02T04:52:52.105127",
     "exception": false,
     "start_time": "2022-03-02T04:52:48.808980",
     "status": "completed"
    },
    "tags": []
   },
   "outputs": [
    {
     "name": "stderr",
     "output_type": "stream",
     "text": [
      "2022-03-02 04:52:48.921700: I tensorflow/stream_executor/cuda/cuda_gpu_executor.cc:937] successful NUMA node read from SysFS had negative value (-1), but there must be at least one NUMA node, so returning NUMA node zero\n",
      "2022-03-02 04:52:49.051414: I tensorflow/stream_executor/cuda/cuda_gpu_executor.cc:937] successful NUMA node read from SysFS had negative value (-1), but there must be at least one NUMA node, so returning NUMA node zero\n",
      "2022-03-02 04:52:49.052566: I tensorflow/stream_executor/cuda/cuda_gpu_executor.cc:937] successful NUMA node read from SysFS had negative value (-1), but there must be at least one NUMA node, so returning NUMA node zero\n",
      "2022-03-02 04:52:49.054345: I tensorflow/core/platform/cpu_feature_guard.cc:142] This TensorFlow binary is optimized with oneAPI Deep Neural Network Library (oneDNN) to use the following CPU instructions in performance-critical operations:  AVX2 FMA\n",
      "To enable them in other operations, rebuild TensorFlow with the appropriate compiler flags.\n",
      "2022-03-02 04:52:49.055750: I tensorflow/stream_executor/cuda/cuda_gpu_executor.cc:937] successful NUMA node read from SysFS had negative value (-1), but there must be at least one NUMA node, so returning NUMA node zero\n",
      "2022-03-02 04:52:49.056736: I tensorflow/stream_executor/cuda/cuda_gpu_executor.cc:937] successful NUMA node read from SysFS had negative value (-1), but there must be at least one NUMA node, so returning NUMA node zero\n",
      "2022-03-02 04:52:49.057694: I tensorflow/stream_executor/cuda/cuda_gpu_executor.cc:937] successful NUMA node read from SysFS had negative value (-1), but there must be at least one NUMA node, so returning NUMA node zero\n",
      "2022-03-02 04:52:51.580636: I tensorflow/stream_executor/cuda/cuda_gpu_executor.cc:937] successful NUMA node read from SysFS had negative value (-1), but there must be at least one NUMA node, so returning NUMA node zero\n",
      "2022-03-02 04:52:51.581827: I tensorflow/stream_executor/cuda/cuda_gpu_executor.cc:937] successful NUMA node read from SysFS had negative value (-1), but there must be at least one NUMA node, so returning NUMA node zero\n",
      "2022-03-02 04:52:51.582849: I tensorflow/stream_executor/cuda/cuda_gpu_executor.cc:937] successful NUMA node read from SysFS had negative value (-1), but there must be at least one NUMA node, so returning NUMA node zero\n",
      "2022-03-02 04:52:51.583892: I tensorflow/core/common_runtime/gpu/gpu_device.cc:1510] Created device /job:localhost/replica:0/task:0/device:GPU:0 with 15403 MB memory:  -> device: 0, name: Tesla P100-PCIE-16GB, pci bus id: 0000:00:04.0, compute capability: 6.0\n"
     ]
    }
   ],
   "source": [
    "#Define CNN\n",
    "cnn=Sequential()\n",
    "\n",
    "cnn.add(Conv2D(filters=32, kernel_size=(3,3), strides=(1,1), padding='valid', activation=None, use_bias=False, input_shape=(X_train.shape[1:])))\n",
    "cnn.add(BatchNormalization())\n",
    "cnn.add(Activation('relu'))\n",
    "cnn.add(Conv2D(filters=64, kernel_size=(3,3), strides=(1,1), padding='valid', activation=None, use_bias=False))\n",
    "cnn.add(BatchNormalization())\n",
    "cnn.add(Activation('relu'))\n",
    "cnn.add(MaxPooling2D(pool_size=(2,2)))\n",
    "\n",
    "cnn.add(Conv2D(filters=96, kernel_size=(3,3), strides=(1,1), padding='valid', activation=None, use_bias=False))\n",
    "cnn.add(BatchNormalization())\n",
    "cnn.add(Activation('relu'))\n",
    "cnn.add(Conv2D(filters=128, kernel_size=(3,3), strides=(1,1), padding='valid', activation=None, use_bias=False))\n",
    "cnn.add(BatchNormalization())\n",
    "cnn.add(Activation('relu'))\n",
    "\n",
    "\n",
    "cnn.add(Flatten())\n",
    "    \n",
    "cnn.add(Dense(units=10))\n",
    "cnn.add(BatchNormalization())\n",
    "cnn.add(Activation('softmax'))\n",
    "\n",
    "cnn.compile(loss='categorical_crossentropy', optimizer='adam', metrics=['accuracy'])"
   ]
  },
  {
   "cell_type": "code",
   "execution_count": 10,
   "id": "e43727a7",
   "metadata": {
    "execution": {
     "iopub.execute_input": "2022-03-02T04:52:52.146129Z",
     "iopub.status.busy": "2022-03-02T04:52:52.142428Z",
     "iopub.status.idle": "2022-03-02T04:52:52.148808Z",
     "shell.execute_reply": "2022-03-02T04:52:52.148303Z",
     "shell.execute_reply.started": "2022-03-02T04:41:59.803109Z"
    },
    "papermill": {
     "duration": 0.026607,
     "end_time": "2022-03-02T04:52:52.148962",
     "exception": false,
     "start_time": "2022-03-02T04:52:52.122355",
     "status": "completed"
    },
    "tags": []
   },
   "outputs": [],
   "source": [
    "train_datagen = ImageDataGenerator(featurewise_center=False,\n",
    "                             samplewise_center=False,\n",
    "                             featurewise_std_normalization=False,\n",
    "                             samplewise_std_normalization=False,\n",
    "                             zca_whitening=False,\n",
    "                             rotation_range=10,\n",
    "                             zoom_range=0.1,\n",
    "                             width_shift_range=0.1,\n",
    "                             height_shift_range=0.1,\n",
    "                             horizontal_flip=False,\n",
    "                             vertical_flip=False\n",
    "                            )\n"
   ]
  },
  {
   "cell_type": "code",
   "execution_count": 11,
   "id": "dd892d42",
   "metadata": {
    "execution": {
     "iopub.execute_input": "2022-03-02T04:52:52.188911Z",
     "iopub.status.busy": "2022-03-02T04:52:52.188037Z",
     "iopub.status.idle": "2022-03-02T04:52:52.579040Z",
     "shell.execute_reply": "2022-03-02T04:52:52.578367Z",
     "shell.execute_reply.started": "2022-03-02T04:42:00.559813Z"
    },
    "papermill": {
     "duration": 0.413674,
     "end_time": "2022-03-02T04:52:52.579292",
     "exception": false,
     "start_time": "2022-03-02T04:52:52.165618",
     "status": "completed"
    },
    "tags": []
   },
   "outputs": [],
   "source": [
    "train_generator = train_datagen.flow(X_train, y_train,\n",
    "                                     batch_size=120,\n",
    "                                     shuffle=True)\n",
    "\n",
    "val_datagen = ImageDataGenerator()\n",
    "val_generator = val_datagen.flow(X_val, y_val,\n",
    "                                 batch_size=120,\n",
    "                                 shuffle=True)"
   ]
  },
  {
   "cell_type": "code",
   "execution_count": 12,
   "id": "606707d0",
   "metadata": {
    "execution": {
     "iopub.execute_input": "2022-03-02T04:52:52.621615Z",
     "iopub.status.busy": "2022-03-02T04:52:52.620618Z",
     "iopub.status.idle": "2022-03-02T04:52:52.624217Z",
     "shell.execute_reply": "2022-03-02T04:52:52.623513Z",
     "shell.execute_reply.started": "2022-03-02T04:42:01.055188Z"
    },
    "papermill": {
     "duration": 0.026598,
     "end_time": "2022-03-02T04:52:52.624369",
     "exception": false,
     "start_time": "2022-03-02T04:52:52.597771",
     "status": "completed"
    },
    "tags": []
   },
   "outputs": [],
   "source": [
    "reduceLROnPlateau = ReduceLROnPlateau(monitor='val_acc', \n",
    "                                patience=3,\n",
    "                                verbose=1, \n",
    "                                factor=0.1,\n",
    "                                min_lr=0.00001)"
   ]
  },
  {
   "cell_type": "code",
   "execution_count": 13,
   "id": "1249ab2a",
   "metadata": {
    "execution": {
     "iopub.execute_input": "2022-03-02T04:52:52.668578Z",
     "iopub.status.busy": "2022-03-02T04:52:52.664937Z",
     "iopub.status.idle": "2022-03-02T04:52:53.731067Z",
     "shell.execute_reply": "2022-03-02T04:52:53.730458Z",
     "shell.execute_reply.started": "2022-03-02T04:42:03.407151Z"
    },
    "papermill": {
     "duration": 1.089476,
     "end_time": "2022-03-02T04:52:53.731209",
     "exception": false,
     "start_time": "2022-03-02T04:52:52.641733",
     "status": "completed"
    },
    "tags": []
   },
   "outputs": [
    {
     "name": "stdout",
     "output_type": "stream",
     "text": [
      "Model: \"sequential\"\n",
      "_________________________________________________________________\n",
      "Layer (type)                 Output Shape              Param #   \n",
      "=================================================================\n",
      "conv2d (Conv2D)              (None, 26, 26, 32)        288       \n",
      "_________________________________________________________________\n",
      "batch_normalization (BatchNo (None, 26, 26, 32)        128       \n",
      "_________________________________________________________________\n",
      "activation (Activation)      (None, 26, 26, 32)        0         \n",
      "_________________________________________________________________\n",
      "conv2d_1 (Conv2D)            (None, 24, 24, 64)        18432     \n",
      "_________________________________________________________________\n",
      "batch_normalization_1 (Batch (None, 24, 24, 64)        256       \n",
      "_________________________________________________________________\n",
      "activation_1 (Activation)    (None, 24, 24, 64)        0         \n",
      "_________________________________________________________________\n",
      "max_pooling2d (MaxPooling2D) (None, 12, 12, 64)        0         \n",
      "_________________________________________________________________\n",
      "conv2d_2 (Conv2D)            (None, 10, 10, 96)        55296     \n",
      "_________________________________________________________________\n",
      "batch_normalization_2 (Batch (None, 10, 10, 96)        384       \n",
      "_________________________________________________________________\n",
      "activation_2 (Activation)    (None, 10, 10, 96)        0         \n",
      "_________________________________________________________________\n",
      "conv2d_3 (Conv2D)            (None, 8, 8, 128)         110592    \n",
      "_________________________________________________________________\n",
      "batch_normalization_3 (Batch (None, 8, 8, 128)         512       \n",
      "_________________________________________________________________\n",
      "activation_3 (Activation)    (None, 8, 8, 128)         0         \n",
      "_________________________________________________________________\n",
      "flatten (Flatten)            (None, 8192)              0         \n",
      "_________________________________________________________________\n",
      "dense (Dense)                (None, 10)                81930     \n",
      "_________________________________________________________________\n",
      "batch_normalization_4 (Batch (None, 10)                40        \n",
      "_________________________________________________________________\n",
      "activation_4 (Activation)    (None, 10)                0         \n",
      "=================================================================\n",
      "Total params: 267,858\n",
      "Trainable params: 267,198\n",
      "Non-trainable params: 660\n",
      "_________________________________________________________________\n"
     ]
    },
    {
     "data": {
      "image/png": "[encoded data removed]",
      "text/plain": [
       "<IPython.core.display.Image object>"
      ]
     },
     "execution_count": 13,
     "metadata": {},
     "output_type": "execute_result"
    }
   ],
   "source": [
    "cnn.summary()\n",
    "\n",
    "tf.keras.utils.plot_model(cnn)"
   ]
  },
  {
   "cell_type": "code",
   "execution_count": 14,
   "id": "531d61ab",
   "metadata": {
    "execution": {
     "iopub.execute_input": "2022-03-02T04:52:53.778080Z",
     "iopub.status.busy": "2022-03-02T04:52:53.777289Z",
     "iopub.status.idle": "2022-03-02T05:12:58.687277Z",
     "shell.execute_reply": "2022-03-02T05:12:58.686634Z"
    },
    "papermill": {
     "duration": 1204.935794,
     "end_time": "2022-03-02T05:12:58.687448",
     "exception": false,
     "start_time": "2022-03-02T04:52:53.751654",
     "status": "completed"
    },
    "tags": []
   },
   "outputs": [
    {
     "name": "stderr",
     "output_type": "stream",
     "text": [
      "2022-03-02 04:52:53.906869: I tensorflow/compiler/mlir/mlir_graph_optimization_pass.cc:185] None of the MLIR Optimization Passes are enabled (registered 2)\n"
     ]
    },
    {
     "name": "stdout",
     "output_type": "stream",
     "text": [
      "Epoch 1/80\n"
     ]
    },
    {
     "name": "stderr",
     "output_type": "stream",
     "text": [
      "2022-03-02 04:52:55.923896: I tensorflow/stream_executor/cuda/cuda_dnn.cc:369] Loaded cuDNN version 8005\n"
     ]
    },
    {
     "name": "stdout",
     "output_type": "stream",
     "text": [
      "280/280 [==============================] - 22s 50ms/step - loss: 0.5370 - accuracy: 0.9293 - val_loss: 0.3148 - val_accuracy: 0.9660\n",
      "Epoch 2/80\n",
      "280/280 [==============================] - 14s 49ms/step - loss: 0.2643 - accuracy: 0.9802 - val_loss: 0.1650 - val_accuracy: 0.9885\n",
      "Epoch 3/80\n",
      "280/280 [==============================] - 14s 50ms/step - loss: 0.1812 - accuracy: 0.9850 - val_loss: 0.1229 - val_accuracy: 0.9899\n",
      "Epoch 4/80\n",
      "280/280 [==============================] - 14s 50ms/step - loss: 0.1383 - accuracy: 0.9867 - val_loss: 0.1113 - val_accuracy: 0.9833\n",
      "Epoch 5/80\n",
      "280/280 [==============================] - 13s 47ms/step - loss: 0.1104 - accuracy: 0.9876 - val_loss: 0.0904 - val_accuracy: 0.9896\n",
      "Epoch 6/80\n",
      "280/280 [==============================] - 14s 51ms/step - loss: 0.0903 - accuracy: 0.9897 - val_loss: 0.1012 - val_accuracy: 0.9900\n",
      "Epoch 7/80\n",
      "280/280 [==============================] - 13s 47ms/step - loss: 0.0781 - accuracy: 0.9901 - val_loss: 0.0720 - val_accuracy: 0.9906\n",
      "Epoch 8/80\n",
      "280/280 [==============================] - 15s 54ms/step - loss: 0.0670 - accuracy: 0.9909 - val_loss: 0.0402 - val_accuracy: 0.9936\n",
      "Epoch 9/80\n",
      "280/280 [==============================] - 13s 47ms/step - loss: 0.0622 - accuracy: 0.9902 - val_loss: 0.0431 - val_accuracy: 0.9917\n",
      "Epoch 10/80\n",
      "280/280 [==============================] - 14s 50ms/step - loss: 0.0538 - accuracy: 0.9913 - val_loss: 0.0342 - val_accuracy: 0.9939\n",
      "Epoch 11/80\n",
      "280/280 [==============================] - 14s 48ms/step - loss: 0.0485 - accuracy: 0.9922 - val_loss: 0.0391 - val_accuracy: 0.9938\n",
      "Epoch 12/80\n",
      "280/280 [==============================] - 14s 48ms/step - loss: 0.0449 - accuracy: 0.9922 - val_loss: 0.0444 - val_accuracy: 0.9926\n",
      "Epoch 13/80\n",
      "280/280 [==============================] - 14s 51ms/step - loss: 0.0410 - accuracy: 0.9930 - val_loss: 0.0374 - val_accuracy: 0.9932\n",
      "Epoch 14/80\n",
      "280/280 [==============================] - 13s 47ms/step - loss: 0.0390 - accuracy: 0.9923 - val_loss: 0.0342 - val_accuracy: 0.9930\n",
      "Epoch 15/80\n",
      "280/280 [==============================] - 15s 55ms/step - loss: 0.0361 - accuracy: 0.9932 - val_loss: 0.0290 - val_accuracy: 0.9939\n",
      "Epoch 16/80\n",
      "280/280 [==============================] - 13s 47ms/step - loss: 0.0334 - accuracy: 0.9936 - val_loss: 0.0247 - val_accuracy: 0.9939\n",
      "Epoch 17/80\n",
      "280/280 [==============================] - 15s 52ms/step - loss: 0.0289 - accuracy: 0.9945 - val_loss: 0.0313 - val_accuracy: 0.9927\n",
      "Epoch 18/80\n",
      "280/280 [==============================] - 13s 47ms/step - loss: 0.0277 - accuracy: 0.9947 - val_loss: 0.0341 - val_accuracy: 0.9935\n",
      "Epoch 19/80\n",
      "280/280 [==============================] - 13s 48ms/step - loss: 0.0274 - accuracy: 0.9944 - val_loss: 0.0218 - val_accuracy: 0.9949\n",
      "Epoch 20/80\n",
      "280/280 [==============================] - 15s 53ms/step - loss: 0.0285 - accuracy: 0.9936 - val_loss: 0.0271 - val_accuracy: 0.9938\n",
      "Epoch 21/80\n",
      "280/280 [==============================] - 13s 47ms/step - loss: 0.0269 - accuracy: 0.9938 - val_loss: 0.0233 - val_accuracy: 0.9938\n",
      "Epoch 22/80\n",
      "280/280 [==============================] - 16s 56ms/step - loss: 0.0236 - accuracy: 0.9949 - val_loss: 0.0205 - val_accuracy: 0.9942\n",
      "Epoch 23/80\n",
      "280/280 [==============================] - 13s 47ms/step - loss: 0.0244 - accuracy: 0.9945 - val_loss: 0.0230 - val_accuracy: 0.9942\n",
      "Epoch 24/80\n",
      "280/280 [==============================] - 15s 54ms/step - loss: 0.0205 - accuracy: 0.9956 - val_loss: 0.0238 - val_accuracy: 0.9925\n",
      "Epoch 25/80\n",
      "280/280 [==============================] - 13s 47ms/step - loss: 0.0217 - accuracy: 0.9949 - val_loss: 0.0223 - val_accuracy: 0.9946\n",
      "Epoch 26/80\n",
      "280/280 [==============================] - 15s 55ms/step - loss: 0.0211 - accuracy: 0.9949 - val_loss: 0.0216 - val_accuracy: 0.9946\n",
      "Epoch 27/80\n",
      "280/280 [==============================] - 13s 47ms/step - loss: 0.0208 - accuracy: 0.9949 - val_loss: 0.0176 - val_accuracy: 0.9944\n",
      "Epoch 28/80\n",
      "280/280 [==============================] - 15s 52ms/step - loss: 0.0181 - accuracy: 0.9955 - val_loss: 0.0188 - val_accuracy: 0.9954\n",
      "Epoch 29/80\n",
      "280/280 [==============================] - 14s 49ms/step - loss: 0.0195 - accuracy: 0.9951 - val_loss: 0.0249 - val_accuracy: 0.9931\n",
      "Epoch 30/80\n",
      "280/280 [==============================] - 15s 54ms/step - loss: 0.0175 - accuracy: 0.9957 - val_loss: 0.0166 - val_accuracy: 0.9958\n",
      "Epoch 31/80\n",
      "280/280 [==============================] - 14s 48ms/step - loss: 0.0155 - accuracy: 0.9967 - val_loss: 0.0384 - val_accuracy: 0.9886\n",
      "Epoch 32/80\n",
      "280/280 [==============================] - 13s 47ms/step - loss: 0.0153 - accuracy: 0.9965 - val_loss: 0.0219 - val_accuracy: 0.9942\n",
      "Epoch 33/80\n",
      "280/280 [==============================] - 16s 56ms/step - loss: 0.0164 - accuracy: 0.9955 - val_loss: 0.0206 - val_accuracy: 0.9936\n",
      "Epoch 34/80\n",
      "280/280 [==============================] - 13s 47ms/step - loss: 0.0145 - accuracy: 0.9965 - val_loss: 0.0205 - val_accuracy: 0.9935\n",
      "Epoch 35/80\n",
      "280/280 [==============================] - 16s 59ms/step - loss: 0.0145 - accuracy: 0.9964 - val_loss: 0.0242 - val_accuracy: 0.9920\n",
      "Epoch 36/80\n",
      "280/280 [==============================] - 13s 46ms/step - loss: 0.0133 - accuracy: 0.9969 - val_loss: 0.0275 - val_accuracy: 0.9927\n",
      "Epoch 37/80\n",
      "280/280 [==============================] - 14s 49ms/step - loss: 0.0128 - accuracy: 0.9971 - val_loss: 0.0197 - val_accuracy: 0.9942\n",
      "Epoch 38/80\n",
      "280/280 [==============================] - 15s 55ms/step - loss: 0.0128 - accuracy: 0.9967 - val_loss: 0.0198 - val_accuracy: 0.9942\n",
      "Epoch 39/80\n",
      "280/280 [==============================] - 13s 47ms/step - loss: 0.0115 - accuracy: 0.9970 - val_loss: 0.0247 - val_accuracy: 0.9921\n",
      "Epoch 40/80\n",
      "280/280 [==============================] - 16s 56ms/step - loss: 0.0146 - accuracy: 0.9963 - val_loss: 0.0201 - val_accuracy: 0.9938\n",
      "Epoch 41/80\n",
      "280/280 [==============================] - 13s 47ms/step - loss: 0.0103 - accuracy: 0.9972 - val_loss: 0.0157 - val_accuracy: 0.9949\n",
      "Epoch 42/80\n",
      "280/280 [==============================] - 15s 52ms/step - loss: 0.0115 - accuracy: 0.9974 - val_loss: 0.0226 - val_accuracy: 0.9935\n",
      "Epoch 43/80\n",
      "280/280 [==============================] - 15s 53ms/step - loss: 0.0124 - accuracy: 0.9968 - val_loss: 0.0163 - val_accuracy: 0.9944\n",
      "Epoch 44/80\n",
      "280/280 [==============================] - 14s 49ms/step - loss: 0.0106 - accuracy: 0.9975 - val_loss: 0.0234 - val_accuracy: 0.9936\n",
      "Epoch 45/80\n",
      "280/280 [==============================] - 16s 56ms/step - loss: 0.0109 - accuracy: 0.9970 - val_loss: 0.0160 - val_accuracy: 0.9951\n",
      "Epoch 46/80\n",
      "280/280 [==============================] - 14s 50ms/step - loss: 0.0116 - accuracy: 0.9968 - val_loss: 0.0180 - val_accuracy: 0.9945\n",
      "Epoch 47/80\n",
      "280/280 [==============================] - 15s 55ms/step - loss: 0.0108 - accuracy: 0.9968 - val_loss: 0.0211 - val_accuracy: 0.9943\n",
      "Epoch 48/80\n",
      "280/280 [==============================] - 14s 49ms/step - loss: 0.0120 - accuracy: 0.9967 - val_loss: 0.0229 - val_accuracy: 0.9931\n",
      "Epoch 49/80\n",
      "280/280 [==============================] - 15s 52ms/step - loss: 0.0099 - accuracy: 0.9977 - val_loss: 0.0184 - val_accuracy: 0.9948\n",
      "Epoch 50/80\n",
      "280/280 [==============================] - 14s 50ms/step - loss: 0.0094 - accuracy: 0.9976 - val_loss: 0.0308 - val_accuracy: 0.9914\n",
      "Epoch 51/80\n",
      "280/280 [==============================] - 14s 50ms/step - loss: 0.0092 - accuracy: 0.9976 - val_loss: 0.0145 - val_accuracy: 0.9954\n",
      "Epoch 52/80\n",
      "280/280 [==============================] - 14s 50ms/step - loss: 0.0086 - accuracy: 0.9977 - val_loss: 0.0214 - val_accuracy: 0.9948\n",
      "Epoch 53/80\n",
      "280/280 [==============================] - 14s 51ms/step - loss: 0.0099 - accuracy: 0.9973 - val_loss: 0.0178 - val_accuracy: 0.9945\n",
      "Epoch 54/80\n",
      "280/280 [==============================] - 14s 50ms/step - loss: 0.0092 - accuracy: 0.9976 - val_loss: 0.0228 - val_accuracy: 0.9933\n",
      "Epoch 55/80\n",
      "280/280 [==============================] - 14s 49ms/step - loss: 0.0079 - accuracy: 0.9980 - val_loss: 0.0191 - val_accuracy: 0.9943\n",
      "Epoch 56/80\n",
      "280/280 [==============================] - 14s 49ms/step - loss: 0.0074 - accuracy: 0.9982 - val_loss: 0.0203 - val_accuracy: 0.9945\n",
      "Epoch 57/80\n",
      "280/280 [==============================] - 14s 50ms/step - loss: 0.0088 - accuracy: 0.9978 - val_loss: 0.0234 - val_accuracy: 0.9944\n",
      "Epoch 58/80\n",
      "280/280 [==============================] - 14s 50ms/step - loss: 0.0086 - accuracy: 0.9977 - val_loss: 0.0189 - val_accuracy: 0.9945\n",
      "Epoch 59/80\n",
      "280/280 [==============================] - 14s 50ms/step - loss: 0.0072 - accuracy: 0.9984 - val_loss: 0.0217 - val_accuracy: 0.9942\n",
      "Epoch 60/80\n",
      "280/280 [==============================] - 17s 59ms/step - loss: 0.0096 - accuracy: 0.9974 - val_loss: 0.0201 - val_accuracy: 0.9938\n",
      "Epoch 61/80\n",
      "280/280 [==============================] - 13s 47ms/step - loss: 0.0069 - accuracy: 0.9984 - val_loss: 0.0157 - val_accuracy: 0.9957\n",
      "Epoch 62/80\n",
      "280/280 [==============================] - 14s 50ms/step - loss: 0.0083 - accuracy: 0.9975 - val_loss: 0.0165 - val_accuracy: 0.9945\n",
      "Epoch 63/80\n",
      "280/280 [==============================] - 13s 48ms/step - loss: 0.0077 - accuracy: 0.9977 - val_loss: 0.0177 - val_accuracy: 0.9949\n",
      "Epoch 64/80\n",
      "280/280 [==============================] - 17s 59ms/step - loss: 0.0070 - accuracy: 0.9981 - val_loss: 0.0199 - val_accuracy: 0.9940\n",
      "Epoch 65/80\n",
      "280/280 [==============================] - 14s 49ms/step - loss: 0.0067 - accuracy: 0.9984 - val_loss: 0.0173 - val_accuracy: 0.9949\n",
      "Epoch 66/80\n",
      "280/280 [==============================] - 13s 47ms/step - loss: 0.0060 - accuracy: 0.9983 - val_loss: 0.0161 - val_accuracy: 0.9950\n",
      "Epoch 67/80\n",
      "280/280 [==============================] - 15s 53ms/step - loss: 0.0070 - accuracy: 0.9984 - val_loss: 0.0180 - val_accuracy: 0.9943\n",
      "Epoch 68/80\n",
      "280/280 [==============================] - 13s 47ms/step - loss: 0.0053 - accuracy: 0.9987 - val_loss: 0.0182 - val_accuracy: 0.9942\n",
      "Epoch 69/80\n",
      "280/280 [==============================] - 18s 63ms/step - loss: 0.0071 - accuracy: 0.9979 - val_loss: 0.0279 - val_accuracy: 0.9924\n",
      "Epoch 70/80\n",
      "280/280 [==============================] - 13s 46ms/step - loss: 0.0068 - accuracy: 0.9983 - val_loss: 0.0178 - val_accuracy: 0.9939\n",
      "Epoch 71/80\n",
      "280/280 [==============================] - 14s 49ms/step - loss: 0.0067 - accuracy: 0.9982 - val_loss: 0.0181 - val_accuracy: 0.9952\n",
      "Epoch 72/80\n",
      "280/280 [==============================] - 13s 47ms/step - loss: 0.0055 - accuracy: 0.9987 - val_loss: 0.0183 - val_accuracy: 0.9949\n",
      "Epoch 73/80\n",
      "280/280 [==============================] - 13s 47ms/step - loss: 0.0061 - accuracy: 0.9986 - val_loss: 0.0192 - val_accuracy: 0.9943\n",
      "Epoch 74/80\n",
      "280/280 [==============================] - 18s 64ms/step - loss: 0.0063 - accuracy: 0.9984 - val_loss: 0.0216 - val_accuracy: 0.9943\n",
      "Epoch 75/80\n",
      "280/280 [==============================] - 13s 47ms/step - loss: 0.0057 - accuracy: 0.9984 - val_loss: 0.0220 - val_accuracy: 0.9935\n",
      "Epoch 76/80\n",
      "280/280 [==============================] - 15s 53ms/step - loss: 0.0058 - accuracy: 0.9985 - val_loss: 0.0222 - val_accuracy: 0.9930\n",
      "Epoch 77/80\n",
      "280/280 [==============================] - 13s 47ms/step - loss: 0.0054 - accuracy: 0.9987 - val_loss: 0.0178 - val_accuracy: 0.9954\n",
      "Epoch 78/80\n",
      "280/280 [==============================] - 14s 49ms/step - loss: 0.0048 - accuracy: 0.9987 - val_loss: 0.0189 - val_accuracy: 0.9938\n",
      "Epoch 79/80\n",
      "280/280 [==============================] - 17s 62ms/step - loss: 0.0082 - accuracy: 0.9979 - val_loss: 0.0168 - val_accuracy: 0.9944\n",
      "Epoch 80/80\n",
      "280/280 [==============================] - 13s 47ms/step - loss: 0.0056 - accuracy: 0.9986 - val_loss: 0.0207 - val_accuracy: 0.9943\n"
     ]
    },
    {
     "data": {
      "text/plain": [
       "<keras.callbacks.History at 0x7f275d66a9d0>"
      ]
     },
     "execution_count": 14,
     "metadata": {},
     "output_type": "execute_result"
    }
   ],
   "source": [
    "cnn.fit(train_generator, epochs=80, callbacks=[reduceLROnPlateau], validation_data=val_generator)\n"
   ]
  },
  {
   "cell_type": "code",
   "execution_count": 15,
   "id": "b152c6b2",
   "metadata": {
    "execution": {
     "iopub.execute_input": "2022-03-02T05:13:08.729402Z",
     "iopub.status.busy": "2022-03-02T05:13:08.728234Z",
     "iopub.status.idle": "2022-03-02T05:13:10.690931Z",
     "shell.execute_reply": "2022-03-02T05:13:10.690320Z",
     "shell.execute_reply.started": "2022-03-02T04:42:42.496142Z"
    },
    "papermill": {
     "duration": 6.793202,
     "end_time": "2022-03-02T05:13:10.691079",
     "exception": false,
     "start_time": "2022-03-02T05:13:03.897877",
     "status": "completed"
    },
    "tags": []
   },
   "outputs": [],
   "source": [
    "\n",
    "prediction_vectors=cnn.predict(X_test)"
   ]
  },
  {
   "cell_type": "code",
   "execution_count": 16,
   "id": "043c6d58",
   "metadata": {
    "execution": {
     "iopub.execute_input": "2022-03-02T05:13:20.109784Z",
     "iopub.status.busy": "2022-03-02T05:13:20.108883Z",
     "iopub.status.idle": "2022-03-02T05:13:20.112475Z",
     "shell.execute_reply": "2022-03-02T05:13:20.113043Z",
     "shell.execute_reply.started": "2022-03-02T04:42:42.499042Z"
    },
    "papermill": {
     "duration": 4.854803,
     "end_time": "2022-03-02T05:13:20.113225",
     "exception": false,
     "start_time": "2022-03-02T05:13:15.258422",
     "status": "completed"
    },
    "tags": []
   },
   "outputs": [],
   "source": [
    "predictions_final=np.argmax(prediction_vectors, axis=1)\n"
   ]
  },
  {
   "cell_type": "code",
   "execution_count": 17,
   "id": "8d068120",
   "metadata": {
    "execution": {
     "iopub.execute_input": "2022-03-02T05:13:29.660461Z",
     "iopub.status.busy": "2022-03-02T05:13:29.659558Z",
     "iopub.status.idle": "2022-03-02T05:13:29.739070Z",
     "shell.execute_reply": "2022-03-02T05:13:29.738214Z",
     "shell.execute_reply.started": "2022-03-02T04:42:42.501951Z"
    },
    "papermill": {
     "duration": 4.971992,
     "end_time": "2022-03-02T05:13:29.739220",
     "exception": false,
     "start_time": "2022-03-02T05:13:24.767228",
     "status": "completed"
    },
    "tags": []
   },
   "outputs": [],
   "source": [
    "#Read sample_submission.csv in dataframe sub\n",
    "sub = pd.read_csv('/kaggle/input/digit-recognizer/sample_submission.csv')\n",
    "\n",
    "#Overwrite labels in dataframe sub\n",
    "sub[\"Label\"] = predictions_final\n",
    "\n",
    "#Write updated dataframes as submission.csv\n",
    "sub.to_csv('submission.csv',index=False)"
   ]
  },
  {
   "cell_type": "code",
   "execution_count": null,
   "id": "cd829746",
   "metadata": {
    "papermill": {
     "duration": 4.844991,
     "end_time": "2022-03-02T05:13:39.791665",
     "exception": false,
     "start_time": "2022-03-02T05:13:34.946674",
     "status": "completed"
    },
    "tags": []
   },
   "outputs": [],
   "source": []
  }
 ],
 "metadata": {
  "kernelspec": {
   "display_name": "Python 3",
   "language": "python",
   "name": "python3"
  },
  "language_info": {
   "codemirror_mode": {
    "name": "ipython",
    "version": 3
   },
   "file_extension": ".py",
   "mimetype": "text/x-python",
   "name": "python",
   "nbconvert_exporter": "python",
   "pygments_lexer": "ipython3",
   "version": "3.7.12"
  },
  "papermill": {
   "default_parameters": {},
   "duration": 1283.108166,
   "end_time": "2022-03-02T05:13:47.206324",
   "environment_variables": {},
   "exception": null,
   "input_path": "__notebook__.ipynb",
   "output_path": "__notebook__.ipynb",
   "parameters": {},
   "start_time": "2022-03-02T04:52:24.098158",
   "version": "2.3.3"
  }
 },
 "nbformat": 4,
 "nbformat_minor": 5
}
