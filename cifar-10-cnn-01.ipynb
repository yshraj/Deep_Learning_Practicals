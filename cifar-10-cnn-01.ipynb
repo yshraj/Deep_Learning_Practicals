{
 "cells": [
  {
   "cell_type": "code",
   "execution_count": 1,
   "id": "7925e2ee",
   "metadata": {
    "_cell_guid": "b1076dfc-b9ad-4769-8c92-a6c4dae69d19",
    "_uuid": "8f2839f25d086af736a60e9eeb907d3b93b6e0e5",
    "execution": {
     "iopub.execute_input": "2022-03-22T15:44:57.203722Z",
     "iopub.status.busy": "2022-03-22T15:44:57.202918Z",
     "iopub.status.idle": "2022-03-22T15:44:57.209838Z",
     "shell.execute_reply": "2022-03-22T15:44:57.208968Z",
     "shell.execute_reply.started": "2022-03-22T15:31:04.647434Z"
    },
    "papermill": {
     "duration": 0.043596,
     "end_time": "2022-03-22T15:44:57.210030",
     "exception": false,
     "start_time": "2022-03-22T15:44:57.166434",
     "status": "completed"
    },
    "tags": []
   },
   "outputs": [
    {
     "name": "stdout",
     "output_type": "stream",
     "text": [
      "/kaggle/input/cifar-10/trainLabels.csv\n",
      "/kaggle/input/cifar-10/sampleSubmission.csv\n",
      "/kaggle/input/cifar-10/test.7z\n",
      "/kaggle/input/cifar-10/train.7z\n"
     ]
    }
   ],
   "source": [
    "# This Python 3 environment comes with many helpful analytics libraries installed\n",
    "# It is defined by the kaggle/python Docker image: https://github.com/kaggle/docker-python\n",
    "# For example, here's several helpful packages to load\n",
    "\n",
    "import numpy as np # linear algebra\n",
    "import pandas as pd # data processing, CSV file I/O (e.g. pd.read_csv)\n",
    "\n",
    "# Input data files are available in the read-only \"../input/\" directory\n",
    "# For example, running this (by clicking run or pressing Shift+Enter) will list all files under the input directory\n",
    "\n",
    "import os\n",
    "for dirname, _, filenames in os.walk('/kaggle/input'):\n",
    "    for filename in filenames:\n",
    "        print(os.path.join(dirname, filename))\n",
    "\n",
    "# You can write up to 20GB to the current directory (/kaggle/working/) that gets preserved as output when you create a version using \"Save & Run All\" \n",
    "# You can also write temporary files to /kaggle/temp/, but they won't be saved outside of the current session"
   ]
  },
  {
   "cell_type": "code",
   "execution_count": 2,
   "id": "122422a2",
   "metadata": {
    "execution": {
     "iopub.execute_input": "2022-03-22T15:44:57.266683Z",
     "iopub.status.busy": "2022-03-22T15:44:57.265882Z",
     "iopub.status.idle": "2022-03-22T15:44:58.217189Z",
     "shell.execute_reply": "2022-03-22T15:44:58.217609Z",
     "shell.execute_reply.started": "2022-03-22T15:31:05.852383Z"
    },
    "papermill": {
     "duration": 0.981404,
     "end_time": "2022-03-22T15:44:58.217803",
     "exception": false,
     "start_time": "2022-03-22T15:44:57.236399",
     "status": "completed"
    },
    "tags": []
   },
   "outputs": [],
   "source": [
    "#importing different python Libraries  \n",
    "import numpy as np\n",
    "import pandas as pd\n",
    "import matplotlib.pyplot as plt\n",
    "import os\n",
    "import csv\n",
    "import seaborn as sns"
   ]
  },
  {
   "cell_type": "code",
   "execution_count": 3,
   "id": "db1f5b26",
   "metadata": {
    "execution": {
     "iopub.execute_input": "2022-03-22T15:44:58.272428Z",
     "iopub.status.busy": "2022-03-22T15:44:58.271855Z",
     "iopub.status.idle": "2022-03-22T15:45:03.231356Z",
     "shell.execute_reply": "2022-03-22T15:45:03.231825Z",
     "shell.execute_reply.started": "2022-03-22T15:31:07.484308Z"
    },
    "papermill": {
     "duration": 4.988655,
     "end_time": "2022-03-22T15:45:03.231992",
     "exception": false,
     "start_time": "2022-03-22T15:44:58.243337",
     "status": "completed"
    },
    "tags": []
   },
   "outputs": [],
   "source": [
    "import tensorflow as tf\n",
    "from tensorflow.keras import layers,models,datasets"
   ]
  },
  {
   "cell_type": "code",
   "execution_count": 4,
   "id": "d40fa89f",
   "metadata": {
    "execution": {
     "iopub.execute_input": "2022-03-22T15:45:03.288040Z",
     "iopub.status.busy": "2022-03-22T15:45:03.287312Z",
     "iopub.status.idle": "2022-03-22T15:45:03.289716Z",
     "shell.execute_reply": "2022-03-22T15:45:03.289297Z",
     "shell.execute_reply.started": "2022-03-22T15:31:08.513025Z"
    },
    "papermill": {
     "duration": 0.03224,
     "end_time": "2022-03-22T15:45:03.289829",
     "exception": false,
     "start_time": "2022-03-22T15:45:03.257589",
     "status": "completed"
    },
    "tags": []
   },
   "outputs": [],
   "source": [
    "import tensorflow as tf\n",
    "from tensorflow import keras\n",
    "\n",
    "from keras import Sequential\n",
    "from keras.layers import Dense,Conv2D,MaxPooling2D,Activation,BatchNormalization,GlobalAveragePooling2D,Flatten\n",
    "from keras.utils.np_utils import to_categorical\n",
    "from keras.callbacks import ReduceLROnPlateau\n",
    "\n",
    "from keras.preprocessing.image import ImageDataGenerator\n"
   ]
  },
  {
   "cell_type": "code",
   "execution_count": 5,
   "id": "7eafdf6c",
   "metadata": {
    "execution": {
     "iopub.execute_input": "2022-03-22T15:45:03.344452Z",
     "iopub.status.busy": "2022-03-22T15:45:03.343732Z",
     "iopub.status.idle": "2022-03-22T15:45:15.274458Z",
     "shell.execute_reply": "2022-03-22T15:45:15.275107Z",
     "shell.execute_reply.started": "2022-03-22T14:28:31.079024Z"
    },
    "papermill": {
     "duration": 11.960487,
     "end_time": "2022-03-22T15:45:15.275277",
     "exception": false,
     "start_time": "2022-03-22T15:45:03.314790",
     "status": "completed"
    },
    "tags": []
   },
   "outputs": [
    {
     "name": "stdout",
     "output_type": "stream",
     "text": [
      "Collecting py7zr\r\n",
      "  Downloading py7zr-0.18.1-py3-none-any.whl (69 kB)\r\n",
      "     |████████████████████████████████| 69 kB 818 kB/s            \r\n",
      "\u001b[?25hRequirement already satisfied: texttable in /opt/conda/lib/python3.7/site-packages (from py7zr) (1.6.4)\r\n",
      "Collecting pyppmd<0.18.0,>=0.17.0\r\n",
      "  Downloading pyppmd-0.17.4-cp37-cp37m-manylinux_2_17_x86_64.manylinux2014_x86_64.whl (126 kB)\r\n",
      "     |████████████████████████████████| 126 kB 1.5 MB/s            \r\n",
      "\u001b[?25hCollecting pybcj>=0.5.0\r\n",
      "  Downloading pybcj-0.5.0-cp37-cp37m-manylinux_2_17_x86_64.manylinux2014_x86_64.whl (48 kB)\r\n",
      "     |████████████████████████████████| 48 kB 3.2 MB/s             \r\n",
      "\u001b[?25hRequirement already satisfied: importlib-metadata in /opt/conda/lib/python3.7/site-packages (from py7zr) (4.11.3)\r\n",
      "Collecting pyzstd>=0.14.4\r\n",
      "  Downloading pyzstd-0.15.2-cp37-cp37m-manylinux_2_17_x86_64.manylinux2014_x86_64.whl (2.4 MB)\r\n",
      "     |████████████████████████████████| 2.4 MB 6.7 MB/s            \r\n",
      "\u001b[?25hCollecting brotli>=1.0.9\r\n",
      "  Downloading Brotli-1.0.9-cp37-cp37m-manylinux1_x86_64.whl (357 kB)\r\n",
      "     |████████████████████████████████| 357 kB 63.0 MB/s            \r\n",
      "\u001b[?25hCollecting zipfile-deflate64>=0.2.0\r\n",
      "  Downloading zipfile_deflate64-0.2.0-cp37-cp37m-manylinux_2_17_x86_64.manylinux2014_x86_64.whl (43 kB)\r\n",
      "     |████████████████████████████████| 43 kB 1.2 MB/s             \r\n",
      "\u001b[?25hCollecting multivolumefile>=0.2.3\r\n",
      "  Downloading multivolumefile-0.2.3-py3-none-any.whl (17 kB)\r\n",
      "Collecting pycryptodomex>=3.6.6\r\n",
      "  Downloading pycryptodomex-3.14.1-cp35-abi3-manylinux2010_x86_64.whl (2.0 MB)\r\n",
      "     |████████████████████████████████| 2.0 MB 56.2 MB/s            \r\n",
      "\u001b[?25hRequirement already satisfied: zipp>=0.5 in /opt/conda/lib/python3.7/site-packages (from importlib-metadata->py7zr) (3.6.0)\r\n",
      "Requirement already satisfied: typing-extensions>=3.6.4 in /opt/conda/lib/python3.7/site-packages (from importlib-metadata->py7zr) (4.1.1)\r\n",
      "Installing collected packages: zipfile-deflate64, pyzstd, pyppmd, pycryptodomex, pybcj, multivolumefile, brotli, py7zr\r\n",
      "Successfully installed brotli-1.0.9 multivolumefile-0.2.3 py7zr-0.18.1 pybcj-0.5.0 pycryptodomex-3.14.1 pyppmd-0.17.4 pyzstd-0.15.2 zipfile-deflate64-0.2.0\r\n",
      "\u001b[33mWARNING: Running pip as the 'root' user can result in broken permissions and conflicting behaviour with the system package manager. It is recommended to use a virtual environment instead: https://pip.pypa.io/warnings/venv\u001b[0m\r\n"
     ]
    }
   ],
   "source": [
    "!pip install py7zr"
   ]
  },
  {
   "cell_type": "code",
   "execution_count": 6,
   "id": "5a4b18be",
   "metadata": {
    "execution": {
     "iopub.execute_input": "2022-03-22T15:45:15.351422Z",
     "iopub.status.busy": "2022-03-22T15:45:15.349522Z",
     "iopub.status.idle": "2022-03-22T15:45:15.492339Z",
     "shell.execute_reply": "2022-03-22T15:45:15.491883Z",
     "shell.execute_reply.started": "2022-03-22T14:28:56.209497Z"
    },
    "papermill": {
     "duration": 0.182508,
     "end_time": "2022-03-22T15:45:15.492465",
     "exception": false,
     "start_time": "2022-03-22T15:45:15.309957",
     "status": "completed"
    },
    "tags": []
   },
   "outputs": [],
   "source": [
    "from py7zr import unpack_7zarchive\n",
    "import shutil"
   ]
  },
  {
   "cell_type": "code",
   "execution_count": 7,
   "id": "d92fe982",
   "metadata": {
    "execution": {
     "iopub.execute_input": "2022-03-22T15:45:15.566745Z",
     "iopub.status.busy": "2022-03-22T15:45:15.565927Z",
     "iopub.status.idle": "2022-03-22T15:45:15.567904Z",
     "shell.execute_reply": "2022-03-22T15:45:15.568293Z",
     "shell.execute_reply.started": "2022-03-22T14:28:57.303460Z"
    },
    "papermill": {
     "duration": 0.040303,
     "end_time": "2022-03-22T15:45:15.568424",
     "exception": false,
     "start_time": "2022-03-22T15:45:15.528121",
     "status": "completed"
    },
    "tags": []
   },
   "outputs": [],
   "source": [
    "shutil.register_unpack_format('7zip',['.7z'],unpack_7zarchive)"
   ]
  },
  {
   "cell_type": "code",
   "execution_count": 8,
   "id": "bd8bbf49",
   "metadata": {
    "execution": {
     "iopub.execute_input": "2022-03-22T15:45:15.640141Z",
     "iopub.status.busy": "2022-03-22T15:45:15.639607Z",
     "iopub.status.idle": "2022-03-22T15:45:57.344622Z",
     "shell.execute_reply": "2022-03-22T15:45:57.344124Z",
     "shell.execute_reply.started": "2022-03-22T14:28:59.155817Z"
    },
    "papermill": {
     "duration": 41.742364,
     "end_time": "2022-03-22T15:45:57.344797",
     "exception": false,
     "start_time": "2022-03-22T15:45:15.602433",
     "status": "completed"
    },
    "tags": []
   },
   "outputs": [],
   "source": [
    "#unpack train images to temp directory\n",
    "shutil.unpack_archive('/kaggle/input/cifar-10/train.7z','/kaggle/temp/')"
   ]
  },
  {
   "cell_type": "code",
   "execution_count": 9,
   "id": "7fc96eca",
   "metadata": {
    "execution": {
     "iopub.execute_input": "2022-03-22T15:45:57.419822Z",
     "iopub.status.busy": "2022-03-22T15:45:57.419087Z",
     "iopub.status.idle": "2022-03-22T15:45:57.457728Z",
     "shell.execute_reply": "2022-03-22T15:45:57.458304Z",
     "shell.execute_reply.started": "2022-03-22T14:30:17.909129Z"
    },
    "papermill": {
     "duration": 0.078093,
     "end_time": "2022-03-22T15:45:57.458486",
     "exception": false,
     "start_time": "2022-03-22T15:45:57.380393",
     "status": "completed"
    },
    "tags": []
   },
   "outputs": [
    {
     "name": "stdout",
     "output_type": "stream",
     "text": [
      "['frog' 'truck' 'deer' 'automobile' 'bird' 'horse' 'ship' 'cat' 'dog'\n",
      " 'airplane']\n"
     ]
    }
   ],
   "source": [
    "train_labels = pd.read_csv('/kaggle/input/cifar-10/trainLabels.csv', header= 'infer')\n",
    "\n",
    "#unique labels\n",
    "classes = train_labels['label'].unique()\n",
    "\n",
    "print(classes)"
   ]
  },
  {
   "cell_type": "code",
   "execution_count": 10,
   "id": "aa8c2c65",
   "metadata": {
    "execution": {
     "iopub.execute_input": "2022-03-22T15:45:57.536675Z",
     "iopub.status.busy": "2022-03-22T15:45:57.535999Z",
     "iopub.status.idle": "2022-03-22T15:46:01.975078Z",
     "shell.execute_reply": "2022-03-22T15:46:01.974062Z",
     "shell.execute_reply.started": "2022-03-22T14:30:23.275915Z"
    },
    "papermill": {
     "duration": 4.481753,
     "end_time": "2022-03-22T15:46:01.975213",
     "exception": false,
     "start_time": "2022-03-22T15:45:57.493460",
     "status": "completed"
    },
    "tags": []
   },
   "outputs": [],
   "source": [
    "import os\n",
    "\n",
    "if not os.path.exists(\"/kaggle/temp/validation/\"):\n",
    "    os.mkdir(\"/kaggle/temp/validation/\")\n",
    "\n",
    "parent_path_train = \"/kaggle/temp/train/\"\n",
    "parent_path_validation = \"/kaggle/temp/validation/\"\n",
    "parent_path_test = \"/kaggle/temp/test/\"\n",
    "\n",
    "\n",
    "for class1 in classes:\n",
    "    path_train = os.path.join(parent_path_train,class1)\n",
    "    if not os.path.exists(path_train):\n",
    "        os.mkdir(path_train)\n",
    "        \n",
    "    path_validation = os.path.join(parent_path_validation,class1)\n",
    "    if not os.path.exists(path_validation):\n",
    "        os.mkdir(path_validation)\n",
    "        \n",
    "for (int_ind,row) in train_labels.iterrows():\n",
    "    id = str(row[\"id\"]) + \".png\"\n",
    "    source_path = os.path.join(parent_path_train,id)\n",
    "    \n",
    "    p = np.random.random()\n",
    "    if p <= 0.80:\n",
    "        target_path = os.path.join(parent_path_train,row[\"label\"],id)\n",
    "        os.replace(source_path,target_path)\n",
    "    else:\n",
    "        target_path = os.path.join(parent_path_validation,row[\"label\"],id)\n",
    "        os.replace(source_path,target_path)\n"
   ]
  },
  {
   "cell_type": "code",
   "execution_count": 11,
   "id": "a3d05dd0",
   "metadata": {
    "execution": {
     "iopub.execute_input": "2022-03-22T15:46:02.058520Z",
     "iopub.status.busy": "2022-03-22T15:46:02.057976Z",
     "iopub.status.idle": "2022-03-22T15:46:04.414524Z",
     "shell.execute_reply": "2022-03-22T15:46:04.415145Z",
     "shell.execute_reply.started": "2022-03-22T14:31:32.284859Z"
    },
    "papermill": {
     "duration": 2.404963,
     "end_time": "2022-03-22T15:46:04.415345",
     "exception": false,
     "start_time": "2022-03-22T15:46:02.010382",
     "status": "completed"
    },
    "tags": []
   },
   "outputs": [
    {
     "name": "stderr",
     "output_type": "stream",
     "text": [
      "2022-03-22 15:46:02.132325: I tensorflow/stream_executor/cuda/cuda_gpu_executor.cc:937] successful NUMA node read from SysFS had negative value (-1), but there must be at least one NUMA node, so returning NUMA node zero\n",
      "2022-03-22 15:46:02.212105: I tensorflow/stream_executor/cuda/cuda_gpu_executor.cc:937] successful NUMA node read from SysFS had negative value (-1), but there must be at least one NUMA node, so returning NUMA node zero\n",
      "2022-03-22 15:46:02.212834: I tensorflow/stream_executor/cuda/cuda_gpu_executor.cc:937] successful NUMA node read from SysFS had negative value (-1), but there must be at least one NUMA node, so returning NUMA node zero\n",
      "2022-03-22 15:46:02.214186: I tensorflow/core/platform/cpu_feature_guard.cc:142] This TensorFlow binary is optimized with oneAPI Deep Neural Network Library (oneDNN) to use the following CPU instructions in performance-critical operations:  AVX2 AVX512F FMA\n",
      "To enable them in other operations, rebuild TensorFlow with the appropriate compiler flags.\n",
      "2022-03-22 15:46:02.215422: I tensorflow/stream_executor/cuda/cuda_gpu_executor.cc:937] successful NUMA node read from SysFS had negative value (-1), but there must be at least one NUMA node, so returning NUMA node zero\n",
      "2022-03-22 15:46:02.216149: I tensorflow/stream_executor/cuda/cuda_gpu_executor.cc:937] successful NUMA node read from SysFS had negative value (-1), but there must be at least one NUMA node, so returning NUMA node zero\n",
      "2022-03-22 15:46:02.216813: I tensorflow/stream_executor/cuda/cuda_gpu_executor.cc:937] successful NUMA node read from SysFS had negative value (-1), but there must be at least one NUMA node, so returning NUMA node zero\n",
      "2022-03-22 15:46:03.946148: I tensorflow/stream_executor/cuda/cuda_gpu_executor.cc:937] successful NUMA node read from SysFS had negative value (-1), but there must be at least one NUMA node, so returning NUMA node zero\n",
      "2022-03-22 15:46:03.946969: I tensorflow/stream_executor/cuda/cuda_gpu_executor.cc:937] successful NUMA node read from SysFS had negative value (-1), but there must be at least one NUMA node, so returning NUMA node zero\n",
      "2022-03-22 15:46:03.947600: I tensorflow/stream_executor/cuda/cuda_gpu_executor.cc:937] successful NUMA node read from SysFS had negative value (-1), but there must be at least one NUMA node, so returning NUMA node zero\n",
      "2022-03-22 15:46:03.948190: I tensorflow/core/common_runtime/gpu/gpu_device.cc:1510] Created device /job:localhost/replica:0/task:0/device:GPU:0 with 15403 MB memory:  -> device: 0, name: Tesla P100-PCIE-16GB, pci bus id: 0000:00:04.0, compute capability: 6.0\n"
     ]
    }
   ],
   "source": [
    "def my_model():\n",
    "    model = Sequential()\n",
    "    model.add(Conv2D(filters=32,kernel_size=(3,3),strides=(1,1),padding='valid',activation=None,use_bias=False,input_shape=(32,32,3)))\n",
    "    model.add(BatchNormalization())\n",
    "    model.add(Activation('relu'))\n",
    "    \n",
    "    model.add(Conv2D(filters=48, kernel_size=(3,3), strides=(1,1), padding='valid', activation=None, use_bias=False))\n",
    "    model.add(BatchNormalization())\n",
    "    model.add(Activation('relu'))\n",
    "    \n",
    "    model.add(Conv2D(filters=64, kernel_size=(3,3), strides=(1,1), padding='valid', activation=None, use_bias=False))\n",
    "    model.add(BatchNormalization())\n",
    "    model.add(Activation('relu'))\n",
    "    \n",
    "    model.add(Conv2D(filters=80, kernel_size=(3,3), strides=(1,1), padding='valid', activation=None, use_bias=False))\n",
    "    model.add(BatchNormalization())\n",
    "    model.add(Activation('relu'))\n",
    "    \n",
    "    model.add(Conv2D(filters=96, kernel_size=(3,3), strides=(1,1), padding='valid', activation=None, use_bias=False))\n",
    "    model.add(BatchNormalization())\n",
    "    model.add(Activation('relu'))\n",
    "\n",
    "    model.add(Conv2D(filters=128, kernel_size=(3,3), strides=(1,1), padding='valid', activation=None, use_bias=False))\n",
    "    model.add(BatchNormalization())\n",
    "    model.add(Activation('relu'))\n",
    "\n",
    "    model.add(Flatten())\n",
    "    model.add(Dense(units=10))\n",
    "    model.add(BatchNormalization())\n",
    "    model.add(Activation('softmax'))\n",
    "    model.compile(loss='categorical_crossentropy', optimizer='adam', metrics=['accuracy'])\n",
    "    return model\n",
    "\n",
    "\n",
    "model = my_model()\n",
    "\n",
    "\n",
    "\n"
   ]
  },
  {
   "cell_type": "code",
   "execution_count": 12,
   "id": "dd9ae1cf",
   "metadata": {
    "execution": {
     "iopub.execute_input": "2022-03-22T15:46:04.492922Z",
     "iopub.status.busy": "2022-03-22T15:46:04.492173Z",
     "iopub.status.idle": "2022-03-22T15:46:04.494745Z",
     "shell.execute_reply": "2022-03-22T15:46:04.494233Z",
     "shell.execute_reply.started": "2022-03-22T14:31:39.568867Z"
    },
    "papermill": {
     "duration": 0.042761,
     "end_time": "2022-03-22T15:46:04.494860",
     "exception": false,
     "start_time": "2022-03-22T15:46:04.452099",
     "status": "completed"
    },
    "tags": []
   },
   "outputs": [],
   "source": [
    "\n",
    "reduceLROnPlateau = ReduceLROnPlateau(monitor='val_acc',\n",
    "                                      patience=3,\n",
    "                                     verbose=1,\n",
    "                                     factor=0.5,\n",
    "                                     min_lr=0.00001)"
   ]
  },
  {
   "cell_type": "code",
   "execution_count": 13,
   "id": "63990d46",
   "metadata": {
    "execution": {
     "iopub.execute_input": "2022-03-22T15:46:04.571764Z",
     "iopub.status.busy": "2022-03-22T15:46:04.571019Z",
     "iopub.status.idle": "2022-03-22T15:46:04.573005Z",
     "shell.execute_reply": "2022-03-22T15:46:04.573372Z",
     "shell.execute_reply.started": "2022-03-22T14:31:40.539161Z"
    },
    "papermill": {
     "duration": 0.043032,
     "end_time": "2022-03-22T15:46:04.573497",
     "exception": false,
     "start_time": "2022-03-22T15:46:04.530465",
     "status": "completed"
    },
    "tags": []
   },
   "outputs": [],
   "source": [
    "train_datagen = ImageDataGenerator(featurewise_center= False,\n",
    "                                  samplewise_center= False,\n",
    "                                  featurewise_std_normalization=False,\n",
    "                                  samplewise_std_normalization=False,\n",
    "                                  zca_whitening=False,\n",
    "                                  rotation_range=10,\n",
    "                                  zoom_range=0.1,\n",
    "                                  width_shift_range=0.1,\n",
    "                                  height_shift_range=0.1,\n",
    "                                  horizontal_flip=False,\n",
    "                                  vertical_flip=False,\n",
    "                                  rescale=1./255\n",
    "                                  )"
   ]
  },
  {
   "cell_type": "code",
   "execution_count": 14,
   "id": "805a5439",
   "metadata": {
    "execution": {
     "iopub.execute_input": "2022-03-22T15:46:04.651549Z",
     "iopub.status.busy": "2022-03-22T15:46:04.651047Z",
     "iopub.status.idle": "2022-03-22T15:46:06.193394Z",
     "shell.execute_reply": "2022-03-22T15:46:06.194032Z",
     "shell.execute_reply.started": "2022-03-22T14:31:42.065624Z"
    },
    "papermill": {
     "duration": 1.585887,
     "end_time": "2022-03-22T15:46:06.194237",
     "exception": false,
     "start_time": "2022-03-22T15:46:04.608350",
     "status": "completed"
    },
    "tags": []
   },
   "outputs": [
    {
     "name": "stdout",
     "output_type": "stream",
     "text": [
      "Found 39894 images belonging to 10 classes.\n",
      "Found 10106 images belonging to 10 classes.\n"
     ]
    }
   ],
   "source": [
    "\n",
    "train_gen = train_datagen.flow_from_directory(directory='/kaggle/temp/train/',target_size=(32,32),batch_size=128)\n",
    "validation_datagen = ImageDataGenerator(rescale=1./255)\n",
    "valid_gen = validation_datagen.flow_from_directory(directory='/kaggle/temp/validation/',target_size=(32,32),batch_size=128)\n",
    "\n"
   ]
  },
  {
   "cell_type": "code",
   "execution_count": 15,
   "id": "ae9df61e",
   "metadata": {
    "execution": {
     "iopub.execute_input": "2022-03-22T15:46:06.278150Z",
     "iopub.status.busy": "2022-03-22T15:46:06.277413Z",
     "iopub.status.idle": "2022-03-22T16:16:36.988817Z",
     "shell.execute_reply": "2022-03-22T16:16:36.989248Z",
     "shell.execute_reply.started": "2022-03-22T14:31:57.083533Z"
    },
    "papermill": {
     "duration": 1830.755378,
     "end_time": "2022-03-22T16:16:36.989411",
     "exception": false,
     "start_time": "2022-03-22T15:46:06.234033",
     "status": "completed"
    },
    "tags": []
   },
   "outputs": [
    {
     "name": "stderr",
     "output_type": "stream",
     "text": [
      "2022-03-22 15:46:06.466189: I tensorflow/compiler/mlir/mlir_graph_optimization_pass.cc:185] None of the MLIR Optimization Passes are enabled (registered 2)\n"
     ]
    },
    {
     "name": "stdout",
     "output_type": "stream",
     "text": [
      "Epoch 1/50\n"
     ]
    },
    {
     "name": "stderr",
     "output_type": "stream",
     "text": [
      "2022-03-22 15:46:09.503350: I tensorflow/stream_executor/cuda/cuda_dnn.cc:369] Loaded cuDNN version 8005\n"
     ]
    },
    {
     "name": "stdout",
     "output_type": "stream",
     "text": [
      "311/311 [==============================] - 40s 100ms/step - loss: 1.4821 - accuracy: 0.4917 - val_loss: 2.4521 - val_accuracy: 0.2008\n",
      "Epoch 2/50\n",
      "311/311 [==============================] - 32s 101ms/step - loss: 1.1646 - accuracy: 0.6172 - val_loss: 1.4894 - val_accuracy: 0.5250\n",
      "Epoch 3/50\n",
      "311/311 [==============================] - 32s 99ms/step - loss: 1.0031 - accuracy: 0.6745 - val_loss: 1.0319 - val_accuracy: 0.6569\n",
      "Epoch 4/50\n",
      "311/311 [==============================] - 32s 99ms/step - loss: 0.8995 - accuracy: 0.7043 - val_loss: 0.9856 - val_accuracy: 0.6703\n",
      "Epoch 5/50\n",
      "311/311 [==============================] - 31s 98ms/step - loss: 0.8245 - accuracy: 0.7283 - val_loss: 1.1823 - val_accuracy: 0.6060\n",
      "Epoch 6/50\n",
      "311/311 [==============================] - 34s 107ms/step - loss: 0.7696 - accuracy: 0.7450 - val_loss: 1.0095 - val_accuracy: 0.6608\n",
      "Epoch 7/50\n",
      "311/311 [==============================] - 33s 102ms/step - loss: 0.7251 - accuracy: 0.7597 - val_loss: 0.9171 - val_accuracy: 0.6944\n",
      "Epoch 8/50\n",
      "311/311 [==============================] - 33s 104ms/step - loss: 0.6816 - accuracy: 0.7744 - val_loss: 0.7616 - val_accuracy: 0.7454\n",
      "Epoch 9/50\n",
      "311/311 [==============================] - 33s 102ms/step - loss: 0.6472 - accuracy: 0.7837 - val_loss: 0.7943 - val_accuracy: 0.7356\n",
      "Epoch 10/50\n",
      "311/311 [==============================] - 33s 102ms/step - loss: 0.6176 - accuracy: 0.7948 - val_loss: 0.7648 - val_accuracy: 0.7405\n",
      "Epoch 11/50\n",
      "311/311 [==============================] - 33s 103ms/step - loss: 0.5841 - accuracy: 0.8035 - val_loss: 0.7500 - val_accuracy: 0.7529\n",
      "Epoch 12/50\n",
      "311/311 [==============================] - 35s 110ms/step - loss: 0.5677 - accuracy: 0.8119 - val_loss: 0.7404 - val_accuracy: 0.7565\n",
      "Epoch 13/50\n",
      "311/311 [==============================] - 33s 102ms/step - loss: 0.5398 - accuracy: 0.8190 - val_loss: 0.8176 - val_accuracy: 0.7405\n",
      "Epoch 14/50\n",
      "311/311 [==============================] - 32s 101ms/step - loss: 0.5203 - accuracy: 0.8255 - val_loss: 0.7091 - val_accuracy: 0.7682\n",
      "Epoch 15/50\n",
      "311/311 [==============================] - 32s 100ms/step - loss: 0.5006 - accuracy: 0.8307 - val_loss: 0.7498 - val_accuracy: 0.7546\n",
      "Epoch 16/50\n",
      "311/311 [==============================] - 32s 100ms/step - loss: 0.4907 - accuracy: 0.8358 - val_loss: 0.6606 - val_accuracy: 0.7798\n",
      "Epoch 17/50\n",
      "311/311 [==============================] - 32s 100ms/step - loss: 0.4709 - accuracy: 0.8427 - val_loss: 0.7971 - val_accuracy: 0.7456\n",
      "Epoch 18/50\n",
      "311/311 [==============================] - 31s 97ms/step - loss: 0.4498 - accuracy: 0.8481 - val_loss: 0.8353 - val_accuracy: 0.7269\n",
      "Epoch 19/50\n",
      "311/311 [==============================] - 32s 102ms/step - loss: 0.4464 - accuracy: 0.8497 - val_loss: 0.7713 - val_accuracy: 0.7682\n",
      "Epoch 20/50\n",
      "311/311 [==============================] - 31s 98ms/step - loss: 0.4232 - accuracy: 0.8595 - val_loss: 0.6641 - val_accuracy: 0.7774\n",
      "Epoch 21/50\n",
      "311/311 [==============================] - 33s 102ms/step - loss: 0.4193 - accuracy: 0.8552 - val_loss: 0.6184 - val_accuracy: 0.7947\n",
      "Epoch 22/50\n",
      "311/311 [==============================] - 31s 99ms/step - loss: 0.4030 - accuracy: 0.8643 - val_loss: 0.5898 - val_accuracy: 0.8116\n",
      "Epoch 23/50\n",
      "311/311 [==============================] - 33s 103ms/step - loss: 0.3866 - accuracy: 0.8699 - val_loss: 0.8396 - val_accuracy: 0.7500\n",
      "Epoch 24/50\n",
      "311/311 [==============================] - 31s 97ms/step - loss: 0.3774 - accuracy: 0.8725 - val_loss: 0.6742 - val_accuracy: 0.7847\n",
      "Epoch 25/50\n",
      "311/311 [==============================] - 33s 103ms/step - loss: 0.3663 - accuracy: 0.8760 - val_loss: 0.6022 - val_accuracy: 0.8044\n",
      "Epoch 26/50\n",
      "311/311 [==============================] - 31s 98ms/step - loss: 0.3547 - accuracy: 0.8801 - val_loss: 0.6680 - val_accuracy: 0.7910\n",
      "Epoch 27/50\n",
      "311/311 [==============================] - 31s 98ms/step - loss: 0.3428 - accuracy: 0.8851 - val_loss: 0.7346 - val_accuracy: 0.7786\n",
      "Epoch 28/50\n",
      "311/311 [==============================] - 31s 98ms/step - loss: 0.3390 - accuracy: 0.8841 - val_loss: 0.6757 - val_accuracy: 0.7915\n",
      "Epoch 29/50\n",
      "311/311 [==============================] - 33s 103ms/step - loss: 0.3309 - accuracy: 0.8890 - val_loss: 0.8439 - val_accuracy: 0.7588\n",
      "Epoch 30/50\n",
      "311/311 [==============================] - 32s 100ms/step - loss: 0.3259 - accuracy: 0.8887 - val_loss: 0.7482 - val_accuracy: 0.7811\n",
      "Epoch 31/50\n",
      "311/311 [==============================] - 31s 98ms/step - loss: 0.3111 - accuracy: 0.8955 - val_loss: 0.6335 - val_accuracy: 0.8029\n",
      "Epoch 32/50\n",
      "311/311 [==============================] - 33s 105ms/step - loss: 0.3116 - accuracy: 0.8932 - val_loss: 0.7772 - val_accuracy: 0.7719\n",
      "Epoch 33/50\n",
      "311/311 [==============================] - 35s 109ms/step - loss: 0.3077 - accuracy: 0.8968 - val_loss: 0.6264 - val_accuracy: 0.8033\n",
      "Epoch 34/50\n",
      "311/311 [==============================] - 31s 98ms/step - loss: 0.2954 - accuracy: 0.8981 - val_loss: 0.5795 - val_accuracy: 0.8196\n",
      "Epoch 35/50\n",
      "311/311 [==============================] - 31s 98ms/step - loss: 0.2860 - accuracy: 0.9029 - val_loss: 0.6406 - val_accuracy: 0.8091\n",
      "Epoch 36/50\n",
      "311/311 [==============================] - 31s 97ms/step - loss: 0.2833 - accuracy: 0.9036 - val_loss: 0.8140 - val_accuracy: 0.7648\n",
      "Epoch 37/50\n",
      "311/311 [==============================] - 34s 106ms/step - loss: 0.2772 - accuracy: 0.9052 - val_loss: 0.6900 - val_accuracy: 0.8006\n",
      "Epoch 38/50\n",
      "311/311 [==============================] - 31s 96ms/step - loss: 0.2704 - accuracy: 0.9086 - val_loss: 0.5466 - val_accuracy: 0.8268\n",
      "Epoch 39/50\n",
      "311/311 [==============================] - 30s 94ms/step - loss: 0.2628 - accuracy: 0.9098 - val_loss: 0.7944 - val_accuracy: 0.7689\n",
      "Epoch 40/50\n",
      "311/311 [==============================] - 30s 93ms/step - loss: 0.2624 - accuracy: 0.9119 - val_loss: 0.5750 - val_accuracy: 0.8264\n",
      "Epoch 41/50\n",
      "311/311 [==============================] - 33s 104ms/step - loss: 0.2506 - accuracy: 0.9150 - val_loss: 0.7000 - val_accuracy: 0.7999\n",
      "Epoch 42/50\n",
      "311/311 [==============================] - 31s 96ms/step - loss: 0.2507 - accuracy: 0.9142 - val_loss: 0.7239 - val_accuracy: 0.7941\n",
      "Epoch 43/50\n",
      "311/311 [==============================] - 31s 96ms/step - loss: 0.2461 - accuracy: 0.9142 - val_loss: 0.7229 - val_accuracy: 0.7934\n",
      "Epoch 44/50\n",
      "311/311 [==============================] - 31s 97ms/step - loss: 0.2452 - accuracy: 0.9165 - val_loss: 0.8284 - val_accuracy: 0.7775\n",
      "Epoch 45/50\n",
      "311/311 [==============================] - 35s 111ms/step - loss: 0.2374 - accuracy: 0.9175 - val_loss: 0.6832 - val_accuracy: 0.7992\n",
      "Epoch 46/50\n",
      "311/311 [==============================] - 31s 97ms/step - loss: 0.2366 - accuracy: 0.9183 - val_loss: 0.6539 - val_accuracy: 0.8153\n",
      "Epoch 47/50\n",
      "311/311 [==============================] - 33s 104ms/step - loss: 0.2226 - accuracy: 0.9246 - val_loss: 0.6251 - val_accuracy: 0.8190\n",
      "Epoch 48/50\n",
      "311/311 [==============================] - 31s 97ms/step - loss: 0.2267 - accuracy: 0.9238 - val_loss: 0.6223 - val_accuracy: 0.8150\n",
      "Epoch 49/50\n",
      "311/311 [==============================] - 33s 103ms/step - loss: 0.2245 - accuracy: 0.9239 - val_loss: 0.5592 - val_accuracy: 0.8350\n",
      "Epoch 50/50\n",
      "311/311 [==============================] - 31s 97ms/step - loss: 0.2175 - accuracy: 0.9257 - val_loss: 0.7523 - val_accuracy: 0.7936\n"
     ]
    },
    {
     "data": {
      "text/plain": [
       "<keras.callbacks.History at 0x7f3bfc32fe90>"
      ]
     },
     "execution_count": 15,
     "metadata": {},
     "output_type": "execute_result"
    }
   ],
   "source": [
    "model.fit(train_gen,epochs=50,callbacks=[reduceLROnPlateau],validation_data=valid_gen,steps_per_epoch=train_gen.n//train_gen.batch_size,\n",
    "         validation_steps= valid_gen.n//valid_gen.batch_size,workers=8,use_multiprocessing=True)"
   ]
  },
  {
   "cell_type": "code",
   "execution_count": 16,
   "id": "bdf78739",
   "metadata": {
    "execution": {
     "iopub.execute_input": "2022-03-22T16:16:44.064661Z",
     "iopub.status.busy": "2022-03-22T16:16:44.063918Z",
     "iopub.status.idle": "2022-03-22T16:30:48.630516Z",
     "shell.execute_reply": "2022-03-22T16:30:48.629586Z",
     "shell.execute_reply.started": "2022-03-22T15:02:25.129678Z"
    },
    "papermill": {
     "duration": 848.240382,
     "end_time": "2022-03-22T16:30:48.630751",
     "exception": false,
     "start_time": "2022-03-22T16:16:40.390369",
     "status": "completed"
    },
    "tags": []
   },
   "outputs": [],
   "source": [
    "shutil.unpack_archive('/kaggle/input/cifar-10/test.7z','/kaggle/temp/test')"
   ]
  },
  {
   "cell_type": "code",
   "execution_count": 17,
   "id": "6ba17d0d",
   "metadata": {
    "execution": {
     "iopub.execute_input": "2022-03-22T16:30:56.481143Z",
     "iopub.status.busy": "2022-03-22T16:30:56.480284Z",
     "iopub.status.idle": "2022-03-22T16:31:03.450787Z",
     "shell.execute_reply": "2022-03-22T16:31:03.450270Z",
     "shell.execute_reply.started": "2022-03-22T15:22:29.356535Z"
    },
    "papermill": {
     "duration": 10.338624,
     "end_time": "2022-03-22T16:31:03.450930",
     "exception": false,
     "start_time": "2022-03-22T16:30:53.112306",
     "status": "completed"
    },
    "tags": []
   },
   "outputs": [
    {
     "name": "stdout",
     "output_type": "stream",
     "text": [
      "Found 300000 images belonging to 1 classes.\n"
     ]
    }
   ],
   "source": [
    "shutil.unregister_unpack_format('7zip')\n",
    "test_datagen = ImageDataGenerator(rescale=1./255)\n",
    "\n",
    "test_gen = test_datagen.flow_from_directory(directory='/kaggle/temp/test',target_size=(32,32),batch_size=64,class_mode=None,shuffle=False)"
   ]
  },
  {
   "cell_type": "code",
   "execution_count": 18,
   "id": "cc7df733",
   "metadata": {
    "execution": {
     "iopub.execute_input": "2022-03-22T16:31:12.016519Z",
     "iopub.status.busy": "2022-03-22T16:31:12.015604Z",
     "iopub.status.idle": "2022-03-22T16:32:33.801701Z",
     "shell.execute_reply": "2022-03-22T16:32:33.801131Z",
     "shell.execute_reply.started": "2022-03-22T15:38:57.201406Z"
    },
    "papermill": {
     "duration": 86.530896,
     "end_time": "2022-03-22T16:32:33.801841",
     "exception": false,
     "start_time": "2022-03-22T16:31:07.270945",
     "status": "completed"
    },
    "tags": []
   },
   "outputs": [
    {
     "name": "stdout",
     "output_type": "stream",
     "text": [
      "[9 6 2 ... 3 5 6]\n"
     ]
    }
   ],
   "source": [
    "test_gen.reset()\n",
    "predictions_vectors = model.predict(test_gen)\n",
    "\n",
    "\n",
    "predictions_final=np.argmax(predictions_vectors, axis=1)\n",
    "print(predictions_final)"
   ]
  },
  {
   "cell_type": "code",
   "execution_count": 19,
   "id": "3c51f63e",
   "metadata": {
    "execution": {
     "iopub.execute_input": "2022-03-22T16:32:41.305504Z",
     "iopub.status.busy": "2022-03-22T16:32:41.304560Z",
     "iopub.status.idle": "2022-03-22T16:32:41.307600Z",
     "shell.execute_reply": "2022-03-22T16:32:41.308017Z",
     "shell.execute_reply.started": "2022-03-22T15:41:44.898617Z"
    },
    "papermill": {
     "duration": 3.635586,
     "end_time": "2022-03-22T16:32:41.308154",
     "exception": false,
     "start_time": "2022-03-22T16:32:37.672568",
     "status": "completed"
    },
    "tags": []
   },
   "outputs": [
    {
     "name": "stdout",
     "output_type": "stream",
     "text": [
      "<class 'dict'>\n",
      "{'airplane': 0, 'automobile': 1, 'bird': 2, 'cat': 3, 'deer': 4, 'dog': 5, 'frog': 6, 'horse': 7, 'ship': 8, 'truck': 9}\n",
      "{0: 'airplane', 1: 'automobile', 2: 'bird', 3: 'cat', 4: 'deer', 5: 'dog', 6: 'frog', 7: 'horse', 8: 'ship', 9: 'truck'}\n"
     ]
    }
   ],
   "source": [
    "print(type(train_gen.class_indices))\n",
    "print(train_gen.class_indices)\n",
    "\n",
    "classes = {value:key for (key,value) in train_gen.class_indices.items()}\n",
    "print(classes)"
   ]
  },
  {
   "cell_type": "code",
   "execution_count": null,
   "id": "1ceb8acc",
   "metadata": {
    "execution": {
     "iopub.execute_input": "2022-03-22T15:35:08.455391Z",
     "iopub.status.busy": "2022-03-22T15:35:08.455098Z",
     "iopub.status.idle": "2022-03-22T15:35:08.460233Z",
     "shell.execute_reply": "2022-03-22T15:35:08.459547Z",
     "shell.execute_reply.started": "2022-03-22T15:35:08.455361Z"
    },
    "papermill": {
     "duration": 3.363765,
     "end_time": "2022-03-22T16:32:48.059705",
     "exception": false,
     "start_time": "2022-03-22T16:32:44.695940",
     "status": "completed"
    },
    "tags": []
   },
   "outputs": [],
   "source": []
  },
  {
   "cell_type": "code",
   "execution_count": 20,
   "id": "13303d43",
   "metadata": {
    "execution": {
     "iopub.execute_input": "2022-03-22T16:32:55.097822Z",
     "iopub.status.busy": "2022-03-22T16:32:55.096955Z",
     "iopub.status.idle": "2022-03-22T16:32:55.099310Z",
     "shell.execute_reply": "2022-03-22T16:32:55.098790Z",
     "shell.execute_reply.started": "2022-03-22T15:42:14.346716Z"
    },
    "papermill": {
     "duration": 3.348431,
     "end_time": "2022-03-22T16:32:55.099424",
     "exception": false,
     "start_time": "2022-03-22T16:32:51.750993",
     "status": "completed"
    },
    "tags": []
   },
   "outputs": [],
   "source": [
    "predicted_classes=np.empty(shape=300000,dtype=np.dtype('U20'))\n"
   ]
  },
  {
   "cell_type": "code",
   "execution_count": 21,
   "id": "f7237e1a",
   "metadata": {
    "execution": {
     "iopub.execute_input": "2022-03-22T16:33:02.133303Z",
     "iopub.status.busy": "2022-03-22T16:33:02.118038Z",
     "iopub.status.idle": "2022-03-22T16:33:02.236880Z",
     "shell.execute_reply": "2022-03-22T16:33:02.236407Z",
     "shell.execute_reply.started": "2022-03-22T15:42:15.530315Z"
    },
    "papermill": {
     "duration": 3.73887,
     "end_time": "2022-03-22T16:33:02.237013",
     "exception": false,
     "start_time": "2022-03-22T16:32:58.498143",
     "status": "completed"
    },
    "tags": []
   },
   "outputs": [],
   "source": [
    "\n",
    "ind=0\n",
    "for i in predictions_final.tolist():\n",
    "    predicted_classes[ind]=classes[i]\n",
    "    ind=ind+1\n",
    "    \n"
   ]
  },
  {
   "cell_type": "code",
   "execution_count": 22,
   "id": "a5d7eebe",
   "metadata": {
    "execution": {
     "iopub.execute_input": "2022-03-22T16:33:09.006566Z",
     "iopub.status.busy": "2022-03-22T16:33:09.006000Z",
     "iopub.status.idle": "2022-03-22T16:33:09.303086Z",
     "shell.execute_reply": "2022-03-22T16:33:09.303786Z",
     "shell.execute_reply.started": "2022-03-22T15:42:18.742441Z"
    },
    "papermill": {
     "duration": 3.741729,
     "end_time": "2022-03-22T16:33:09.304012",
     "exception": false,
     "start_time": "2022-03-22T16:33:05.562283",
     "status": "completed"
    },
    "tags": []
   },
   "outputs": [],
   "source": [
    "filenames_wo_ext = []\n",
    "for fname in test_gen.filenames:\n",
    "    filenames_wo_ext.append(int(fname.split(sep=\"/\")[1].split(sep=\".\")[0])-1)\n",
    "\n"
   ]
  },
  {
   "cell_type": "code",
   "execution_count": 23,
   "id": "7ca1d0dd",
   "metadata": {
    "execution": {
     "iopub.execute_input": "2022-03-22T16:33:16.824730Z",
     "iopub.status.busy": "2022-03-22T16:33:16.823772Z",
     "iopub.status.idle": "2022-03-22T16:33:16.841629Z",
     "shell.execute_reply": "2022-03-22T16:33:16.840840Z",
     "shell.execute_reply.started": "2022-03-22T15:42:21.721575Z"
    },
    "papermill": {
     "duration": 3.449798,
     "end_time": "2022-03-22T16:33:16.841785",
     "exception": false,
     "start_time": "2022-03-22T16:33:13.391987",
     "status": "completed"
    },
    "tags": []
   },
   "outputs": [],
   "source": [
    "predicted_classes_final = np.empty(shape=300000,dtype=np.dtype('U20'))\n",
    "predicted_classes_final[filenames_wo_ext]=predicted_classes\n"
   ]
  },
  {
   "cell_type": "code",
   "execution_count": 24,
   "id": "a7c37348",
   "metadata": {
    "execution": {
     "iopub.execute_input": "2022-03-22T16:33:23.827891Z",
     "iopub.status.busy": "2022-03-22T16:33:23.827314Z",
     "iopub.status.idle": "2022-03-22T16:33:24.005145Z",
     "shell.execute_reply": "2022-03-22T16:33:24.004659Z",
     "shell.execute_reply.started": "2022-03-22T15:43:45.845755Z"
    },
    "papermill": {
     "duration": 3.813182,
     "end_time": "2022-03-22T16:33:24.005277",
     "exception": false,
     "start_time": "2022-03-22T16:33:20.192095",
     "status": "completed"
    },
    "tags": []
   },
   "outputs": [
    {
     "name": "stdout",
     "output_type": "stream",
     "text": [
      "<class 'pandas.core.frame.DataFrame'>\n",
      "RangeIndex: 300000 entries, 0 to 299999\n",
      "Data columns (total 2 columns):\n",
      " #   Column  Non-Null Count   Dtype \n",
      "---  ------  --------------   ----- \n",
      " 0   id      300000 non-null  int64 \n",
      " 1   label   300000 non-null  object\n",
      "dtypes: int64(1), object(1)\n",
      "memory usage: 4.6+ MB\n"
     ]
    }
   ],
   "source": [
    "sub = pd.read_csv('../input/cifar-10/sampleSubmission.csv',header='infer')\n",
    "sub.info()\n"
   ]
  },
  {
   "cell_type": "code",
   "execution_count": 25,
   "id": "5030d2ab",
   "metadata": {
    "execution": {
     "iopub.execute_input": "2022-03-22T16:33:30.751239Z",
     "iopub.status.busy": "2022-03-22T16:33:30.750315Z",
     "iopub.status.idle": "2022-03-22T16:33:31.260511Z",
     "shell.execute_reply": "2022-03-22T16:33:31.260043Z",
     "shell.execute_reply.started": "2022-03-22T15:44:03.920002Z"
    },
    "papermill": {
     "duration": 3.873961,
     "end_time": "2022-03-22T16:33:31.260668",
     "exception": false,
     "start_time": "2022-03-22T16:33:27.386707",
     "status": "completed"
    },
    "tags": []
   },
   "outputs": [],
   "source": [
    "sub['label'] = predicted_classes_final\n",
    "sub.to_csv('submission.csv',index=False)"
   ]
  },
  {
   "cell_type": "code",
   "execution_count": null,
   "id": "6e047ff9",
   "metadata": {
    "papermill": {
     "duration": 3.322275,
     "end_time": "2022-03-22T16:33:38.221551",
     "exception": false,
     "start_time": "2022-03-22T16:33:34.899276",
     "status": "completed"
    },
    "tags": []
   },
   "outputs": [],
   "source": []
  },
  {
   "cell_type": "code",
   "execution_count": null,
   "id": "ed383bd9",
   "metadata": {
    "papermill": {
     "duration": 3.91864,
     "end_time": "2022-03-22T16:33:45.701384",
     "exception": false,
     "start_time": "2022-03-22T16:33:41.782744",
     "status": "completed"
    },
    "tags": []
   },
   "outputs": [],
   "source": []
  },
  {
   "cell_type": "code",
   "execution_count": null,
   "id": "4de2ff91",
   "metadata": {
    "papermill": {
     "duration": 3.345837,
     "end_time": "2022-03-22T16:33:52.442958",
     "exception": false,
     "start_time": "2022-03-22T16:33:49.097121",
     "status": "completed"
    },
    "tags": []
   },
   "outputs": [],
   "source": []
  },
  {
   "cell_type": "code",
   "execution_count": null,
   "id": "9f246178",
   "metadata": {
    "papermill": {
     "duration": 3.576964,
     "end_time": "2022-03-22T16:33:59.387911",
     "exception": false,
     "start_time": "2022-03-22T16:33:55.810947",
     "status": "completed"
    },
    "tags": []
   },
   "outputs": [],
   "source": []
  }
 ],
 "metadata": {
  "kernelspec": {
   "display_name": "Python 3",
   "language": "python",
   "name": "python3"
  },
  "language_info": {
   "codemirror_mode": {
    "name": "ipython",
    "version": 3
   },
   "file_extension": ".py",
   "mimetype": "text/x-python",
   "name": "python",
   "nbconvert_exporter": "python",
   "pygments_lexer": "ipython3",
   "version": "3.7.12"
  },
  "papermill": {
   "default_parameters": {},
   "duration": 2956.78025,
   "end_time": "2022-03-22T16:34:05.950185",
   "environment_variables": {},
   "exception": null,
   "input_path": "__notebook__.ipynb",
   "output_path": "__notebook__.ipynb",
   "parameters": {},
   "start_time": "2022-03-22T15:44:49.169935",
   "version": "2.3.3"
  }
 },
 "nbformat": 4,
 "nbformat_minor": 5
}
